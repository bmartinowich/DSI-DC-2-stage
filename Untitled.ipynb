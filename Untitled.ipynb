{
 "cells": [
  {
   "cell_type": "markdown",
   "metadata": {},
   "source": [
    "# If Statements"
   ]
  },
  {
   "cell_type": "code",
   "execution_count": 2,
   "metadata": {
    "collapsed": false
   },
   "outputs": [
    {
     "name": "stdout",
     "output_type": "stream",
     "text": [
      "What is the temperature?11\n",
      "Wear pants\n",
      "get some exercise outside\n"
     ]
    }
   ],
   "source": [
    "temperature = float(input(\"What is the temperature?\"))\n",
    "if temperature>79:\n",
    "    print(\"Wear shorts\")\n",
    "else:\n",
    "    print(\"Wear pants\")\n",
    "print('get some exercise outside')"
   ]
  },
  {
   "cell_type": "code",
   "execution_count": 3,
   "metadata": {
    "collapsed": false
   },
   "outputs": [
    {
     "name": "stdout",
     "output_type": "stream",
     "text": [
      "Enter an integer: 2\n",
      "no, it's higher\n",
      "Done\n"
     ]
    }
   ],
   "source": [
    "number =23\n",
    "guess = int(input('Enter an integer: '))\n",
    "\n",
    "if guess == number:\n",
    "    print('You have guessed it')\n",
    "elif guess<number:\n",
    "    print(\"no, it's higher\")\n",
    "else:\n",
    "    print('No, it is lower')\n",
    "print('Done')"
   ]
  },
  {
   "cell_type": "code",
   "execution_count": 4,
   "metadata": {
    "collapsed": false
   },
   "outputs": [
    {
     "name": "stdout",
     "output_type": "stream",
     "text": [
      "1\n",
      "2\n",
      "3\n",
      "4\n",
      "The loop is over\n"
     ]
    }
   ],
   "source": [
    "for i in range(1,5):\n",
    "    print(i)\n",
    "else:\n",
    "    print('The loop is over')"
   ]
  },
  {
   "cell_type": "code",
   "execution_count": 16,
   "metadata": {
    "collapsed": false
   },
   "outputs": [
    {
     "name": "stdout",
     "output_type": "stream",
     "text": [
      "Enter an integer22\n",
      "No, its higher\n",
      "Enter an integer22\n",
      "No, its higher\n",
      "Enter an integer21\n",
      "No, its higher\n",
      "Enter an integer23\n",
      "You have guessed it\n",
      "the while loop is over\n",
      "done\n"
     ]
    }
   ],
   "source": [
    "number = 23\n",
    "running = True\n",
    "\n",
    "while running:\n",
    "    guess=int(input('Enter an integer'))\n",
    "    if guess==number:\n",
    "        print('You have guessed it')\n",
    "        running = False\n",
    "    elif guess < number:\n",
    "        print('No, its higher')\n",
    "    else:\n",
    "        print('no, its lower')\n",
    "else:\n",
    "    print('the while loop is over')\n",
    "    print('done')"
   ]
  },
  {
   "cell_type": "code",
   "execution_count": 14,
   "metadata": {
    "collapsed": false
   },
   "outputs": [
    {
     "name": "stdout",
     "output_type": "stream",
     "text": [
      "Enter something: 'hello'\n",
      "('length of string', 5)\n",
      "Enter something: 'quit'\n",
      "done\n"
     ]
    }
   ],
   "source": [
    "while True:\n",
    "    a = input('Enter something: ')\n",
    "    if a == 'quit':\n",
    "        break\n",
    "    print('length of string',len(a))\n",
    "print('done')"
   ]
  },
  {
   "cell_type": "code",
   "execution_count": 15,
   "metadata": {
    "collapsed": false
   },
   "outputs": [
    {
     "name": "stdout",
     "output_type": "stream",
     "text": [
      "enter something: 'abc'\n",
      "input is sufficient\n",
      "enter something: 'quit'\n"
     ]
    }
   ],
   "source": [
    "while True:\n",
    "    a = input('enter something: ')\n",
    "    if a == 'quit':\n",
    "        break\n",
    "    if len(a)<3:\n",
    "        print('too small')\n",
    "        continue\n",
    "    print('input is sufficient')"
   ]
  },
  {
   "cell_type": "code",
   "execution_count": null,
   "metadata": {
    "collapsed": true
   },
   "outputs": [],
   "source": []
  }
 ],
 "metadata": {
  "kernelspec": {
   "display_name": "Python 2",
   "language": "python",
   "name": "python2"
  },
  "language_info": {
   "codemirror_mode": {
    "name": "ipython",
    "version": 2
   },
   "file_extension": ".py",
   "mimetype": "text/x-python",
   "name": "python",
   "nbconvert_exporter": "python",
   "pygments_lexer": "ipython2",
   "version": "2.7.11"
  }
 },
 "nbformat": 4,
 "nbformat_minor": 0
}
