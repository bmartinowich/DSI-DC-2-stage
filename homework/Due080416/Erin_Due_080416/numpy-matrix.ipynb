{
 "cells": [
  {
   "cell_type": "code",
   "execution_count": 154,
   "metadata": {
    "collapsed": false
   },
   "outputs": [
    {
     "data": {
      "text/plain": [
       "array([[  1,   2,   3,   4,   5,   6,   7,   8,   9,  10],\n",
       "       [ 11,  12,  13,  14,  15,  16,  17,  18,  19,  20],\n",
       "       [ 21,  22,  23,  24,  25,  26,  27,  28,  29,  30],\n",
       "       [ 31,  32,  33,  34,  35,  36,  37,  38,  39,  40],\n",
       "       [ 41,  42,  43,  44,  45,  46,  47,  48,  49,  50],\n",
       "       [ 51,  52,  53,  54,  55,  56,  57,  58,  59,  60],\n",
       "       [ 61,  62,  63,  64,  65,  66,  67,  68,  69,  70],\n",
       "       [ 71,  72,  73,  74,  75,  76,  77,  78,  79,  80],\n",
       "       [ 81,  82,  83,  84,  85,  86,  87,  88,  89,  90],\n",
       "       [ 91,  92,  93,  94,  95,  96,  97,  98,  99, 100]])"
      ]
     },
     "execution_count": 154,
     "metadata": {},
     "output_type": "execute_result"
    }
   ],
   "source": [
    "import numpy as np\n",
    "\n",
    "#I could create a random column this way:\n",
    "#b=np.random.randn(100)\n",
    "#c = b.reshape(10,10)\n",
    "#c\n",
    "\n",
    "#but this one is better because I can see what the maximums should be:\n",
    "b = np.arange(1,101)\n",
    "c = b.reshape(10,10)\n",
    "c"
   ]
  },
  {
   "cell_type": "code",
   "execution_count": 153,
   "metadata": {
    "collapsed": false
   },
   "outputs": [],
   "source": [
    "from itertools import chain"
   ]
  },
  {
   "cell_type": "code",
   "execution_count": 134,
   "metadata": {
    "collapsed": false
   },
   "outputs": [
    {
     "name": "stdout",
     "output_type": "stream",
     "text": [
      "max sum: 955\n",
      "max avg: 95.5\n",
      "max std: 2.87228132327\n"
     ]
    }
   ],
   "source": [
    "def funct(b):\n",
    "    l = [0]*10 \n",
    "    m = [0]*10 \n",
    "    n = [0]*10 \n",
    "    for i in range(1,11):\n",
    "        ro = b[i-1:i,]         #select a row\n",
    "        row = list(chain(*ro)) #changes array row to a list\n",
    "        rowsum = np.sum(row)   #sums row-list\n",
    "        l[i-1] = rowsum            #adds sum to empty list\n",
    "        rowav = np.mean(row)   #averages row-list\n",
    "        m[i-1] = rowav              #adds average to empty list\n",
    "        rowstd = np.std(row)\n",
    "        n[i-1] = rowstd\n",
    "    print 'max sum: ' +str(max(l))\n",
    "    print 'max avg: ' +str(max(m))\n",
    "    print 'max std: ' +str(max(n))\n",
    "\n",
    "funct(c)"
   ]
  },
  {
   "cell_type": "code",
   "execution_count": 152,
   "metadata": {
    "collapsed": false
   },
   "outputs": [
    {
     "name": "stdout",
     "output_type": "stream",
     "text": [
      "max sum: 550\n",
      "max avg: 55.0\n",
      "max std: 28.7228132327\n"
     ]
    }
   ],
   "source": [
    "#for columns\n",
    "def functc(b):\n",
    "    o = [0]*10 \n",
    "    p = [0]*10 \n",
    "    q = [0]*10 \n",
    "    for i in range(1,11):\n",
    "        col = b[:,i-1]         #select a col\n",
    "        colsum = np.sum(col)   #sums col-list\n",
    "        o[i-1] = colsum            #adds sum to empty list\n",
    "        colav = np.mean(col)   #averages col-list\n",
    "        p[i-1] = colav              #adds average to empty list\n",
    "        colstd = np.std(col)\n",
    "        q[i-1] = colstd\n",
    "    print 'max sum: ' +str(max(o))\n",
    "    print 'max avg: ' +str(max(p))\n",
    "    print 'max std: ' +str(max(q))\n",
    "\n",
    "functc(c)"
   ]
  },
  {
   "cell_type": "code",
   "execution_count": 160,
   "metadata": {
    "collapsed": false
   },
   "outputs": [
    {
     "name": "stdout",
     "output_type": "stream",
     "text": [
      "[[   2.    3.    4.    5.    6.    7.    8.    9.   10.   11.]\n",
      " [  12.   13.   14.   15.   16.   17.   18.   19.   20.   21.]\n",
      " [  22.   23.   24.   25.   26.   27.   28.   29.   30.   31.]\n",
      " [  32.   33.   34.   35.   36.   37.   38.   39.   40.   41.]\n",
      " [  42.   43.   44.   45.   46.   47.   48.   49.   50.   51.]\n",
      " [  52.   53.   54.   55.   56.   57.   58.   59.   60.   61.]\n",
      " [  62.   63.   64.   65.   66.   67.   68.   69.   70.   71.]\n",
      " [  72.   73.   74.   75.   76.   77.   78.   79.   80.   81.]\n",
      " [  82.   83.   84.   85.   86.   87.   88.   89.   90.   91.]\n",
      " [  92.   93.   94.   95.   96.   97.   98.   99.  100.  101.]]\n",
      "[[  0.   1.   2.   3.   4.   5.   6.   7.   8.   9.]\n",
      " [ 10.  11.  12.  13.  14.  15.  16.  17.  18.  19.]\n",
      " [ 20.  21.  22.  23.  24.  25.  26.  27.  28.  29.]\n",
      " [ 30.  31.  32.  33.  34.  35.  36.  37.  38.  39.]\n",
      " [ 40.  41.  42.  43.  44.  45.  46.  47.  48.  49.]\n",
      " [ 50.  51.  52.  53.  54.  55.  56.  57.  58.  59.]\n",
      " [ 60.  61.  62.  63.  64.  65.  66.  67.  68.  69.]\n",
      " [ 70.  71.  72.  73.  74.  75.  76.  77.  78.  79.]\n",
      " [ 80.  81.  82.  83.  84.  85.  86.  87.  88.  89.]\n",
      " [ 90.  91.  92.  93.  94.  95.  96.  97.  98.  99.]]\n",
      "[[   1.    2.    3.    4.    5.    6.    7.    8.    9.   10.]\n",
      " [  11.   12.   13.   14.   15.   16.   17.   18.   19.   20.]\n",
      " [  21.   22.   23.   24.   25.   26.   27.   28.   29.   30.]\n",
      " [  31.   32.   33.   34.   35.   36.   37.   38.   39.   40.]\n",
      " [  41.   42.   43.   44.   45.   46.   47.   48.   49.   50.]\n",
      " [  51.   52.   53.   54.   55.   56.   57.   58.   59.   60.]\n",
      " [  61.   62.   63.   64.   65.   66.   67.   68.   69.   70.]\n",
      " [  71.   72.   73.   74.   75.   76.   77.   78.   79.   80.]\n",
      " [  81.   82.   83.   84.   85.   86.   87.   88.   89.   90.]\n",
      " [  91.   92.   93.   94.   95.   96.   97.   98.   99.  100.]]\n"
     ]
    }
   ],
   "source": [
    "#new matrix\n",
    "d = np.ones(100)\n",
    "e = d.reshape(10,10)\n",
    "e\n",
    "\n",
    "#sum:\n",
    "f = c+e\n",
    "print f\n",
    "\n",
    "#difference\n",
    "g = c-e\n",
    "print g\n",
    "\n",
    "#dot product\n",
    "h = c*e\n",
    "print h"
   ]
  }
 ],
 "metadata": {
  "kernelspec": {
   "display_name": "Python [Root]",
   "language": "python",
   "name": "Python [Root]"
  },
  "language_info": {
   "codemirror_mode": {
    "name": "ipython",
    "version": 2
   },
   "file_extension": ".py",
   "mimetype": "text/x-python",
   "name": "python",
   "nbconvert_exporter": "python",
   "pygments_lexer": "ipython2",
   "version": "2.7.12"
  }
 },
 "nbformat": 4,
 "nbformat_minor": 0
}
