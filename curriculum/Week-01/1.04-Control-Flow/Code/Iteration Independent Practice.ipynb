{
 "cells": [
  {
   "cell_type": "markdown",
   "metadata": {},
   "source": [
    "## Python Iteration - Independent Practice"
   ]
  },
  {
   "cell_type": "markdown",
   "metadata": {},
   "source": [
    "Now that you've learned about iteration in Python, it's time to put your skills to the test! Take the alloted time and work through the questions below. If you're having trouble or getting stuck, feel free to ask the instructor or your classmates."
   ]
  },
  {
   "cell_type": "markdown",
   "metadata": {},
   "source": [
    "### Question 1"
   ]
  },
  {
   "cell_type": "markdown",
   "metadata": {},
   "source": [
    "Write a program that scrolls through the numbers 0 to 1000 in increments of two. If the number is evenly divisible by 8 your program should let the user know."
   ]
  },
  {
   "cell_type": "code",
<<<<<<< HEAD
<<<<<<< HEAD
   "execution_count": 8,
=======
   "execution_count": 25,
>>>>>>> 52c9a7ba16f7341e9d778ce202467f54645f6460
=======
   "execution_count": 22,
>>>>>>> b0d359fe4296ff990a453390d4c3231aa5e163f5
   "metadata": {
    "collapsed": false
   },
   "outputs": [
    {
<<<<<<< HEAD
     "name": "stdout",
     "output_type": "stream",
     "text": [
<<<<<<< HEAD
      "0 is divisible by 8\n",
      "8 is divisible by 8\n",
      "16 is divisible by 8\n",
      "24 is divisible by 8\n",
      "32 is divisible by 8\n",
      "40 is divisible by 8\n",
      "48 is divisible by 8\n",
      "56 is divisible by 8\n",
      "64 is divisible by 8\n",
      "72 is divisible by 8\n",
      "80 is divisible by 8\n",
      "88 is divisible by 8\n",
      "96 is divisible by 8\n",
      "104 is divisible by 8\n",
      "112 is divisible by 8\n",
      "120 is divisible by 8\n",
      "128 is divisible by 8\n",
      "136 is divisible by 8\n",
      "144 is divisible by 8\n",
      "152 is divisible by 8\n",
      "160 is divisible by 8\n",
      "168 is divisible by 8\n",
      "176 is divisible by 8\n",
      "184 is divisible by 8\n",
      "192 is divisible by 8\n",
      "200 is divisible by 8\n",
      "208 is divisible by 8\n",
      "216 is divisible by 8\n",
      "224 is divisible by 8\n",
      "232 is divisible by 8\n",
      "240 is divisible by 8\n",
      "248 is divisible by 8\n",
      "256 is divisible by 8\n",
      "264 is divisible by 8\n",
      "272 is divisible by 8\n",
      "280 is divisible by 8\n",
      "288 is divisible by 8\n",
      "296 is divisible by 8\n",
      "304 is divisible by 8\n",
      "312 is divisible by 8\n",
      "320 is divisible by 8\n",
      "328 is divisible by 8\n",
      "336 is divisible by 8\n",
      "344 is divisible by 8\n",
      "352 is divisible by 8\n",
      "360 is divisible by 8\n",
      "368 is divisible by 8\n",
      "376 is divisible by 8\n",
      "384 is divisible by 8\n",
      "392 is divisible by 8\n",
      "400 is divisible by 8\n",
      "408 is divisible by 8\n",
      "416 is divisible by 8\n",
      "424 is divisible by 8\n",
      "432 is divisible by 8\n",
      "440 is divisible by 8\n",
      "448 is divisible by 8\n",
      "456 is divisible by 8\n",
      "464 is divisible by 8\n",
      "472 is divisible by 8\n",
      "480 is divisible by 8\n",
      "488 is divisible by 8\n",
      "496 is divisible by 8\n",
      "504 is divisible by 8\n",
      "512 is divisible by 8\n",
      "520 is divisible by 8\n",
      "528 is divisible by 8\n",
      "536 is divisible by 8\n",
      "544 is divisible by 8\n",
      "552 is divisible by 8\n",
      "560 is divisible by 8\n",
      "568 is divisible by 8\n",
      "576 is divisible by 8\n",
      "584 is divisible by 8\n",
      "592 is divisible by 8\n",
      "600 is divisible by 8\n",
      "608 is divisible by 8\n",
      "616 is divisible by 8\n",
      "624 is divisible by 8\n",
      "632 is divisible by 8\n",
      "640 is divisible by 8\n",
      "648 is divisible by 8\n",
      "656 is divisible by 8\n",
      "664 is divisible by 8\n",
      "672 is divisible by 8\n",
      "680 is divisible by 8\n",
      "688 is divisible by 8\n",
      "696 is divisible by 8\n",
      "704 is divisible by 8\n",
      "712 is divisible by 8\n",
      "720 is divisible by 8\n",
      "728 is divisible by 8\n",
      "736 is divisible by 8\n",
      "744 is divisible by 8\n",
      "752 is divisible by 8\n",
      "760 is divisible by 8\n",
      "768 is divisible by 8\n",
      "776 is divisible by 8\n",
      "784 is divisible by 8\n",
      "792 is divisible by 8\n",
      "800 is divisible by 8\n",
      "808 is divisible by 8\n",
      "816 is divisible by 8\n",
      "824 is divisible by 8\n",
      "832 is divisible by 8\n",
      "840 is divisible by 8\n",
      "848 is divisible by 8\n",
      "856 is divisible by 8\n",
      "864 is divisible by 8\n",
      "872 is divisible by 8\n",
      "880 is divisible by 8\n",
      "888 is divisible by 8\n",
      "896 is divisible by 8\n",
      "904 is divisible by 8\n",
      "912 is divisible by 8\n",
      "920 is divisible by 8\n",
      "928 is divisible by 8\n",
      "936 is divisible by 8\n",
      "944 is divisible by 8\n",
      "952 is divisible by 8\n",
      "960 is divisible by 8\n",
      "968 is divisible by 8\n",
      "976 is divisible by 8\n",
      "984 is divisible by 8\n",
      "992 is divisible by 8\n",
      "1000 is divisible by 8\n"
=======
      "0\n",
      "the number is evenly divided by eight\n",
      "8\n",
      "the number is evenly divided by eight\n",
      "16\n",
      "the number is evenly divided by eight\n",
      "24\n",
      "the number is evenly divided by eight\n",
      "32\n",
      "the number is evenly divided by eight\n",
      "40\n",
      "the number is evenly divided by eight\n",
      "48\n",
      "the number is evenly divided by eight\n",
      "56\n",
      "the number is evenly divided by eight\n",
      "64\n",
      "the number is evenly divided by eight\n",
      "72\n",
      "the number is evenly divided by eight\n",
      "80\n",
      "the number is evenly divided by eight\n",
      "88\n",
      "the number is evenly divided by eight\n",
      "96\n",
      "the number is evenly divided by eight\n",
      "104\n",
      "the number is evenly divided by eight\n",
      "112\n",
      "the number is evenly divided by eight\n",
      "120\n",
      "the number is evenly divided by eight\n",
      "128\n",
      "the number is evenly divided by eight\n",
      "136\n",
      "the number is evenly divided by eight\n",
      "144\n",
      "the number is evenly divided by eight\n",
      "152\n",
      "the number is evenly divided by eight\n",
      "160\n",
      "the number is evenly divided by eight\n",
      "168\n",
      "the number is evenly divided by eight\n",
      "176\n",
      "the number is evenly divided by eight\n",
      "184\n",
      "the number is evenly divided by eight\n",
      "192\n",
      "the number is evenly divided by eight\n",
      "200\n",
      "the number is evenly divided by eight\n",
      "208\n",
      "the number is evenly divided by eight\n",
      "216\n",
      "the number is evenly divided by eight\n",
      "224\n",
      "the number is evenly divided by eight\n",
      "232\n",
      "the number is evenly divided by eight\n",
      "240\n",
      "the number is evenly divided by eight\n",
      "248\n",
      "the number is evenly divided by eight\n",
      "256\n",
      "the number is evenly divided by eight\n",
      "264\n",
      "the number is evenly divided by eight\n",
      "272\n",
      "the number is evenly divided by eight\n",
      "280\n",
      "the number is evenly divided by eight\n",
      "288\n",
      "the number is evenly divided by eight\n",
      "296\n",
      "the number is evenly divided by eight\n",
      "304\n",
      "the number is evenly divided by eight\n",
      "312\n",
      "the number is evenly divided by eight\n",
      "320\n",
      "the number is evenly divided by eight\n",
      "328\n",
      "the number is evenly divided by eight\n",
      "336\n",
      "the number is evenly divided by eight\n",
      "344\n",
      "the number is evenly divided by eight\n",
      "352\n",
      "the number is evenly divided by eight\n",
      "360\n",
      "the number is evenly divided by eight\n",
      "368\n",
      "the number is evenly divided by eight\n",
      "376\n",
      "the number is evenly divided by eight\n",
      "384\n",
      "the number is evenly divided by eight\n",
      "392\n",
      "the number is evenly divided by eight\n",
      "400\n",
      "the number is evenly divided by eight\n",
      "408\n",
      "the number is evenly divided by eight\n",
      "416\n",
      "the number is evenly divided by eight\n",
      "424\n",
      "the number is evenly divided by eight\n",
      "432\n",
      "the number is evenly divided by eight\n",
      "440\n",
      "the number is evenly divided by eight\n",
      "448\n",
      "the number is evenly divided by eight\n",
      "456\n",
      "the number is evenly divided by eight\n",
      "464\n",
      "the number is evenly divided by eight\n",
      "472\n",
      "the number is evenly divided by eight\n",
      "480\n",
      "the number is evenly divided by eight\n",
      "488\n",
      "the number is evenly divided by eight\n",
      "496\n",
      "the number is evenly divided by eight\n",
      "504\n",
      "the number is evenly divided by eight\n",
      "512\n",
      "the number is evenly divided by eight\n",
      "520\n",
      "the number is evenly divided by eight\n",
      "528\n",
      "the number is evenly divided by eight\n",
      "536\n",
      "the number is evenly divided by eight\n",
      "544\n",
      "the number is evenly divided by eight\n",
      "552\n",
      "the number is evenly divided by eight\n",
      "560\n",
      "the number is evenly divided by eight\n",
      "568\n",
      "the number is evenly divided by eight\n",
      "576\n",
      "the number is evenly divided by eight\n",
      "584\n",
      "the number is evenly divided by eight\n",
      "592\n",
      "the number is evenly divided by eight\n",
      "600\n",
      "the number is evenly divided by eight\n",
      "608\n",
      "the number is evenly divided by eight\n",
      "616\n",
      "the number is evenly divided by eight\n",
      "624\n",
      "the number is evenly divided by eight\n",
      "632\n",
      "the number is evenly divided by eight\n",
      "640\n",
      "the number is evenly divided by eight\n",
      "648\n",
      "the number is evenly divided by eight\n",
      "656\n",
      "the number is evenly divided by eight\n",
      "664\n",
      "the number is evenly divided by eight\n",
      "672\n",
      "the number is evenly divided by eight\n",
      "680\n",
      "the number is evenly divided by eight\n",
      "688\n",
      "the number is evenly divided by eight\n",
      "696\n",
      "the number is evenly divided by eight\n",
      "704\n",
      "the number is evenly divided by eight\n",
      "712\n",
      "the number is evenly divided by eight\n",
      "720\n",
      "the number is evenly divided by eight\n",
      "728\n",
      "the number is evenly divided by eight\n",
      "736\n",
      "the number is evenly divided by eight\n",
      "744\n",
      "the number is evenly divided by eight\n",
      "752\n",
      "the number is evenly divided by eight\n",
      "760\n",
      "the number is evenly divided by eight\n",
      "768\n",
      "the number is evenly divided by eight\n",
      "776\n",
      "the number is evenly divided by eight\n",
      "784\n",
      "the number is evenly divided by eight\n",
      "792\n",
      "the number is evenly divided by eight\n",
      "800\n",
      "the number is evenly divided by eight\n",
      "808\n",
      "the number is evenly divided by eight\n",
      "816\n",
      "the number is evenly divided by eight\n",
      "824\n",
      "the number is evenly divided by eight\n",
      "832\n",
      "the number is evenly divided by eight\n",
      "840\n",
      "the number is evenly divided by eight\n",
      "848\n",
      "the number is evenly divided by eight\n",
      "856\n",
      "the number is evenly divided by eight\n",
      "864\n",
      "the number is evenly divided by eight\n",
      "872\n",
      "the number is evenly divided by eight\n",
      "880\n",
      "the number is evenly divided by eight\n",
      "888\n",
      "the number is evenly divided by eight\n",
      "896\n",
      "the number is evenly divided by eight\n",
      "904\n",
      "the number is evenly divided by eight\n",
      "912\n",
      "the number is evenly divided by eight\n",
      "920\n",
      "the number is evenly divided by eight\n",
      "928\n",
      "the number is evenly divided by eight\n",
      "936\n",
      "the number is evenly divided by eight\n",
      "944\n",
      "the number is evenly divided by eight\n",
      "952\n",
      "the number is evenly divided by eight\n",
      "960\n",
      "the number is evenly divided by eight\n",
      "968\n",
      "the number is evenly divided by eight\n",
      "976\n",
      "the number is evenly divided by eight\n",
      "984\n",
      "the number is evenly divided by eight\n",
      "992\n",
      "the number is evenly divided by eight\n",
      "done\n"
>>>>>>> 52c9a7ba16f7341e9d778ce202467f54645f6460
=======
     "ename": "SyntaxError",
     "evalue": "invalid syntax (<ipython-input-22-89d9fb2c982d>, line 1)",
     "output_type": "error",
     "traceback": [
      "\u001b[0;36m  File \u001b[0;32m\"<ipython-input-22-89d9fb2c982d>\"\u001b[0;36m, line \u001b[0;32m1\u001b[0m\n\u001b[0;31m    x in range (0, 1000, 2):\u001b[0m\n\u001b[0m                           ^\u001b[0m\n\u001b[0;31mSyntaxError\u001b[0m\u001b[0;31m:\u001b[0m invalid syntax\n"
>>>>>>> b0d359fe4296ff990a453390d4c3231aa5e163f5
     ]
    }
   ],
   "source": [
<<<<<<< HEAD
<<<<<<< HEAD
    "for i in range(0,1001,2):\n",
    "    if i%8 == 0:\n",
    "        print str(i) + ' is divisible by 8'\n"
=======
    "for i in range(0,1000):\n",
    "    if i%8==0:\n",
    "        print(i)\n",
    "        print('the number is evenly divided by eight')\n",
    "print('done')"
>>>>>>> 52c9a7ba16f7341e9d778ce202467f54645f6460
=======
    " x in range (0, 1000, 2):\n",
    "    \n",
    "    if x%8 ==0: \n",
    "        print (' is divisible by 8')\n",
    "    \n",
    "    "
>>>>>>> b0d359fe4296ff990a453390d4c3231aa5e163f5
   ]
  },
  {
   "cell_type": "markdown",
   "metadata": {},
   "source": [
    "### Question 2"
   ]
  },
  {
   "cell_type": "markdown",
   "metadata": {},
   "source": [
    "Write a Python program to guess a number between 1 to 9."
   ]
  },
  {
   "cell_type": "code",
<<<<<<< HEAD
<<<<<<< HEAD
   "execution_count": 12,
=======
   "execution_count": 21,
>>>>>>> 52c9a7ba16f7341e9d778ce202467f54645f6460
=======
   "execution_count": 4,
>>>>>>> b0d359fe4296ff990a453390d4c3231aa5e163f5
   "metadata": {
    "collapsed": false
   },
   "outputs": [
    {
<<<<<<< HEAD
<<<<<<< HEAD
     "data": {
      "text/plain": [
       "1"
      ]
     },
     "execution_count": 12,
     "metadata": {},
     "output_type": "execute_result"
    }
   ],
   "source": [
    "import random\n",
    "random.randint(1,10)\n"
=======
     "name": "stdout",
     "output_type": "stream",
     "text": [
      "Guess a number between 1 to 9: 3\n",
      "The number is higher\n",
      "Guess a number between 1 to 9: 5\n",
      "You have guessed correctly\n"
>>>>>>> 52c9a7ba16f7341e9d778ce202467f54645f6460
=======
     "ename": "SyntaxError",
     "evalue": "invalid syntax (<ipython-input-4-b02af20a55f4>, line 1)",
     "output_type": "error",
     "traceback": [
      "\u001b[0;36m  File \u001b[0;32m\"<ipython-input-4-b02af20a55f4>\"\u001b[0;36m, line \u001b[0;32m1\u001b[0m\n\u001b[0;31m    guess = (1:9)\u001b[0m\n\u001b[0m              ^\u001b[0m\n\u001b[0;31mSyntaxError\u001b[0m\u001b[0;31m:\u001b[0m invalid syntax\n"
>>>>>>> b0d359fe4296ff990a453390d4c3231aa5e163f5
     ]
    }
   ],
   "source": [
<<<<<<< HEAD
    "x=5\n",
    "running = True\n",
    "while running:\n",
    "    number = input('Guess a number between 1 to 9: ')\n",
    "    if number == x:\n",
    "        print('You have guessed correctly')\n",
    "        running = False\n",
    "    elif number < x:\n",
    "        print('The number is higher')\n",
    "    else:\n",
    "        print('The number is lower')"
=======
    "guess = (1:9) \n",
    "    for guess in range [1:9]\n",
    "    if guess is magic number:\n",
    "        print ('guess it\\'s between 1 and 9 )\n",
    "    break\n",
    "print ('well done')\n",
    "\n"
>>>>>>> b0d359fe4296ff990a453390d4c3231aa5e163f5
   ]
  },
  {
   "cell_type": "markdown",
   "metadata": {},
   "source": [
    "### Question 3"
   ]
  },
  {
   "cell_type": "markdown",
   "metadata": {},
   "source": [
    "Write a Python program that prints all the numbers from 0 to 6 except 3 and 6.\n",
    "**Note** : Use 'continue' statement."
   ]
  },
  {
   "cell_type": "code",
<<<<<<< HEAD
<<<<<<< HEAD
   "execution_count": 18,
=======
   "execution_count": 9,
>>>>>>> 52c9a7ba16f7341e9d778ce202467f54645f6460
=======
   "execution_count": 12,
>>>>>>> b0d359fe4296ff990a453390d4c3231aa5e163f5
   "metadata": {
    "collapsed": false
   },
   "outputs": [
    {
<<<<<<< HEAD
     "name": "stdout",
     "output_type": "stream",
     "text": [
      "1\n",
      "2\n",
<<<<<<< HEAD
      "no, no, no, no\n",
      "4\n",
      "5\n",
      "no, no, no, no\n"
=======
      "4\n",
      "5\n"
>>>>>>> 52c9a7ba16f7341e9d778ce202467f54645f6460
=======
     "ename": "SyntaxError",
     "evalue": "invalid syntax (<ipython-input-12-2ac65e81bc5d>, line 1)",
     "output_type": "error",
     "traceback": [
      "\u001b[0;36m  File \u001b[0;32m\"<ipython-input-12-2ac65e81bc5d>\"\u001b[0;36m, line \u001b[0;32m1\u001b[0m\n\u001b[0;31m    numbers taken = [3,6]\u001b[0m\n\u001b[0m                ^\u001b[0m\n\u001b[0;31mSyntaxError\u001b[0m\u001b[0;31m:\u001b[0m invalid syntax\n"
>>>>>>> b0d359fe4296ff990a453390d4c3231aa5e163f5
     ]
    }
   ],
   "source": [
<<<<<<< HEAD
<<<<<<< HEAD
    "for i in range(1,7):\n",
    "    if i%3 == 0:\n",
    "        print \"no, no, no, no\"\n",
    "        continue\n",
    "    else:\n",
    "        print i\n"
=======
    "for i in range(0,6):\n",
    "    if i%3!=0:\n",
    "        print(i)\n",
    "        continue"
>>>>>>> 52c9a7ba16f7341e9d778ce202467f54645f6460
=======
    "numbers taken = [3,6]\n",
    " print (\"here are the numbers available\")\n",
    "    for x in a range (0,7):\n",
    "        if x in numbers taken:\n",
    "            continue \n",
    "            print x"
>>>>>>> b0d359fe4296ff990a453390d4c3231aa5e163f5
   ]
  },
  {
   "cell_type": "markdown",
   "metadata": {},
   "source": [
    "### Question 4"
   ]
  },
  {
   "cell_type": "markdown",
   "metadata": {},
   "source": [
    "Write a Python program that accept a word from the user and reverse it"
   ]
  },
  {
   "cell_type": "code",
<<<<<<< HEAD
   "execution_count": 30,
=======
   "execution_count": 32,
>>>>>>> 52c9a7ba16f7341e9d778ce202467f54645f6460
   "metadata": {
    "collapsed": false
   },
<<<<<<< HEAD
   "outputs": [
    {
     "name": "stdout",
     "output_type": "stream",
     "text": [
<<<<<<< HEAD
      "Write something bro: apple\n",
      "elppa\n"
=======
      "Enter a word'hello'\n"
     ]
    },
    {
     "ename": "TypeError",
     "evalue": "'str' object is not callable",
     "output_type": "error",
     "traceback": [
      "\u001b[1;31m---------------------------------------------------------------------------\u001b[0m",
      "\u001b[1;31mTypeError\u001b[0m                                 Traceback (most recent call last)",
      "\u001b[1;32m<ipython-input-32-10c352ccc9ad>\u001b[0m in \u001b[0;36m<module>\u001b[1;34m()\u001b[0m\n\u001b[0;32m      1\u001b[0m \u001b[0mword\u001b[0m \u001b[1;33m=\u001b[0m \u001b[0minput\u001b[0m\u001b[1;33m(\u001b[0m\u001b[1;34m'Enter a word'\u001b[0m\u001b[1;33m)\u001b[0m\u001b[1;33m\u001b[0m\u001b[0m\n\u001b[0;32m      2\u001b[0m \u001b[1;32mfor\u001b[0m \u001b[0mchar\u001b[0m \u001b[1;32min\u001b[0m \u001b[0mrange\u001b[0m\u001b[1;33m(\u001b[0m\u001b[0mlen\u001b[0m\u001b[1;33m(\u001b[0m\u001b[0mword\u001b[0m\u001b[1;33m)\u001b[0m\u001b[1;33m-\u001b[0m\u001b[1;36m1\u001b[0m\u001b[1;33m,\u001b[0m\u001b[1;33m-\u001b[0m\u001b[1;36m1\u001b[0m\u001b[1;33m,\u001b[0m\u001b[1;33m-\u001b[0m\u001b[1;36m1\u001b[0m\u001b[1;33m)\u001b[0m\u001b[1;33m:\u001b[0m\u001b[1;33m\u001b[0m\u001b[0m\n\u001b[1;32m----> 3\u001b[1;33m     \u001b[1;32mprint\u001b[0m\u001b[1;33m(\u001b[0m\u001b[0mword\u001b[0m\u001b[1;33m(\u001b[0m\u001b[0mchar\u001b[0m\u001b[1;33m)\u001b[0m\u001b[1;33m)\u001b[0m\u001b[1;33m\u001b[0m\u001b[0m\n\u001b[0m",
      "\u001b[1;31mTypeError\u001b[0m: 'str' object is not callable"
>>>>>>> 52c9a7ba16f7341e9d778ce202467f54645f6460
     ]
    }
   ],
   "source": [
<<<<<<< HEAD
    "x = raw_input(\"Write something bro: \")\n",
    "print x[::-1]"
=======
    "word = input('Enter a word')\n",
    "for char in range(len(word)-1,-1,-1):\n",
    "    print(word(char))"
>>>>>>> 52c9a7ba16f7341e9d778ce202467f54645f6460
=======
   "outputs": [],
   "source": [
    "word = (\"input a word:\")\n",
    "for ingr in range len "
>>>>>>> b0d359fe4296ff990a453390d4c3231aa5e163f5
   ]
  },
  {
   "cell_type": "markdown",
   "metadata": {},
   "source": [
    "### Question 5"
   ]
  },
  {
   "cell_type": "markdown",
   "metadata": {},
   "source": [
    "Write a Python program to get the Fibonacci series between 0 to 50"
   ]
  },
  {
   "cell_type": "code",
<<<<<<< HEAD
<<<<<<< HEAD
   "execution_count": 35,
=======
   "execution_count": 31,
>>>>>>> 52c9a7ba16f7341e9d778ce202467f54645f6460
=======
   "execution_count": 23,
>>>>>>> b0d359fe4296ff990a453390d4c3231aa5e163f5
   "metadata": {
    "collapsed": false
   },
   "outputs": [
    {
<<<<<<< HEAD
     "name": "stdout",
     "output_type": "stream",
     "text": [
      "1\n",
      "1\n",
      "2\n",
      "3\n",
      "5\n",
      "8\n",
      "13\n",
      "21\n",
      "34\n"
=======
     "ename": "SyntaxError",
     "evalue": "invalid syntax (<ipython-input-23-a9c40cf5cf5c>, line 3)",
     "output_type": "error",
     "traceback": [
      "\u001b[0;36m  File \u001b[0;32m\"<ipython-input-23-a9c40cf5cf5c>\"\u001b[0;36m, line \u001b[0;32m3\u001b[0m\n\u001b[0;31m    while y<50,\u001b[0m\n\u001b[0m              ^\u001b[0m\n\u001b[0;31mSyntaxError\u001b[0m\u001b[0;31m:\u001b[0m invalid syntax\n"
>>>>>>> b0d359fe4296ff990a453390d4c3231aa5e163f5
     ]
    }
   ],
   "source": [
<<<<<<< HEAD
    "x,y=0,1\n",
<<<<<<< HEAD
    "while y<51:\n",
    "    print(y)\n",
    "    x,y = y,x+y"
=======
    "\n",
    "while y<50:\n",
    "    print(y)\n",
    "    x,y=y,x+y"
>>>>>>> 52c9a7ba16f7341e9d778ce202467f54645f6460
=======
    "x,y= 0,1\n",
    "\n",
    "while y<50, \n",
    "print (y)\n",
    "      x,y = y,x+y"
>>>>>>> b0d359fe4296ff990a453390d4c3231aa5e163f5
   ]
  },
  {
   "cell_type": "code",
   "execution_count": null,
   "metadata": {
    "collapsed": true
   },
   "outputs": [],
   "source": []
  }
 ],
 "metadata": {
  "anaconda-cloud": {},
  "kernelspec": {
   "display_name": "Python [Root]",
   "language": "python",
   "name": "Python [Root]"
  },
  "language_info": {
   "codemirror_mode": {
    "name": "ipython",
    "version": 2
   },
   "file_extension": ".py",
   "mimetype": "text/x-python",
   "name": "python",
   "nbconvert_exporter": "python",
   "pygments_lexer": "ipython2",
   "version": "2.7.12"
  }
 },
 "nbformat": 4,
 "nbformat_minor": 0
}
