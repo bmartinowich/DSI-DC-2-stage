{
 "cells": [
  {
   "cell_type": "code",
   "execution_count": 3,
   "metadata": {
    "collapsed": false
   },
   "outputs": [
    {
     "ename": "ValueError",
     "evalue": "operands could not be broadcast together with shapes (10,) (7,) ",
     "output_type": "error",
     "traceback": [
      "\u001b[1;31m---------------------------------------------------------------------------\u001b[0m",
      "\u001b[1;31mValueError\u001b[0m                                Traceback (most recent call last)",
      "\u001b[1;32m<ipython-input-3-0fdbb00fa204>\u001b[0m in \u001b[0;36m<module>\u001b[1;34m()\u001b[0m\n\u001b[0;32m      4\u001b[0m \u001b[0ma\u001b[0m\u001b[1;33m\u001b[0m\u001b[0m\n\u001b[0;32m      5\u001b[0m \u001b[0mb\u001b[0m\u001b[1;33m\u001b[0m\u001b[0m\n\u001b[1;32m----> 6\u001b[1;33m \u001b[0mnp\u001b[0m\u001b[1;33m.\u001b[0m\u001b[0madd\u001b[0m\u001b[1;33m(\u001b[0m\u001b[0ma\u001b[0m\u001b[1;33m,\u001b[0m\u001b[0mb\u001b[0m\u001b[1;33m)\u001b[0m\u001b[1;33m\u001b[0m\u001b[0m\n\u001b[0m\u001b[0;32m      7\u001b[0m \u001b[0mnp\u001b[0m\u001b[1;33m.\u001b[0m\u001b[0msubtract\u001b[0m\u001b[1;33m(\u001b[0m\u001b[0ma\u001b[0m\u001b[1;33m,\u001b[0m\u001b[0mb\u001b[0m\u001b[1;33m)\u001b[0m\u001b[1;33m\u001b[0m\u001b[0m\n\u001b[0;32m      8\u001b[0m \u001b[0mnp\u001b[0m\u001b[1;33m.\u001b[0m\u001b[0mdot\u001b[0m\u001b[1;33m(\u001b[0m\u001b[0ma\u001b[0m\u001b[1;33m,\u001b[0m\u001b[0mb\u001b[0m\u001b[1;33m)\u001b[0m\u001b[1;33m\u001b[0m\u001b[0m\n",
      "\u001b[1;31mValueError\u001b[0m: operands could not be broadcast together with shapes (10,) (7,) "
     ]
    }
   ],
   "source": [
    "import numpy as np\n",
    "a = np.arange(0,10)\n",
    "b = np.ones(7)\n",
    "a\n",
    "b\n",
    "np.add(a,b)\n",
    "np.subtract(a,b)\n",
    "np.dot(a,b)\n",
    "a.reshape(5,2)\n",
    "a.ravel()\n",
    "a.transpose()\n",
    "a[2,0]"
   ]
  },
  {
   "cell_type": "code",
   "execution_count": 5,
   "metadata": {
    "collapsed": false
   },
   "outputs": [
    {
     "data": {
      "text/plain": [
       "array([ 0,  1,  2,  3,  4,  5,  6,  7,  8,  9, 10])"
      ]
     },
     "execution_count": 5,
     "metadata": {},
     "output_type": "execute_result"
    }
   ],
   "source": [
    "import numpy as np\n",
    "a = np.arange(0,11)\n",
    "a"
   ]
  },
  {
   "cell_type": "code",
   "execution_count": 8,
   "metadata": {
    "collapsed": false
   },
   "outputs": [
    {
     "data": {
      "text/plain": [
       "array([[ 0],\n",
       "       [ 1],\n",
       "       [ 2],\n",
       "       [ 3],\n",
       "       [ 4],\n",
       "       [ 5],\n",
       "       [ 6],\n",
       "       [ 7],\n",
       "       [ 8],\n",
       "       [ 9],\n",
       "       [10]])"
      ]
     },
     "execution_count": 8,
     "metadata": {},
     "output_type": "execute_result"
    }
   ],
   "source": [
    "a.reshape(11,1)"
   ]
  },
  {
   "cell_type": "code",
   "execution_count": 9,
   "metadata": {
    "collapsed": false
   },
   "outputs": [
    {
     "data": {
      "text/plain": [
       "array([ 0,  1,  2,  3,  4,  5,  6,  7,  8,  9, 10])"
      ]
     },
     "execution_count": 9,
     "metadata": {},
     "output_type": "execute_result"
    }
   ],
   "source": [
    "a.transpose()\n",
    "a"
   ]
  },
  {
   "cell_type": "code",
   "execution_count": 12,
   "metadata": {
    "collapsed": false
   },
   "outputs": [
    {
     "data": {
      "text/plain": [
       "array([11, 12, 13, 14, 15, 16, 17, 18, 19, 20, 21])"
      ]
     },
     "execution_count": 12,
     "metadata": {},
     "output_type": "execute_result"
    }
   ],
   "source": [
    "b = np.arange(11,22)\n",
    "b"
   ]
  },
  {
   "cell_type": "code",
   "execution_count": 13,
   "metadata": {
    "collapsed": false
   },
   "outputs": [
    {
     "data": {
      "text/plain": [
       "array([11, 13, 15, 17, 19, 21, 23, 25, 27, 29, 31])"
      ]
     },
     "execution_count": 13,
     "metadata": {},
     "output_type": "execute_result"
    }
   ],
   "source": [
    "np.add(a,b)"
   ]
  },
  {
   "cell_type": "code",
   "execution_count": 14,
   "metadata": {
    "collapsed": false
   },
   "outputs": [
    {
     "data": {
      "text/plain": [
       "array([-11, -11, -11, -11, -11, -11, -11, -11, -11, -11, -11])"
      ]
     },
     "execution_count": 14,
     "metadata": {},
     "output_type": "execute_result"
    }
   ],
   "source": [
    "np.subtract(a,b)"
   ]
  },
  {
   "cell_type": "code",
   "execution_count": 15,
   "metadata": {
    "collapsed": false
   },
   "outputs": [
    {
     "data": {
      "text/plain": [
       "990"
      ]
     },
     "execution_count": 15,
     "metadata": {},
     "output_type": "execute_result"
    }
   ],
   "source": [
    "import numpy as np\n",
    "\n",
    "a = np.arange(50,150)\n",
    "a.reshape(10,10)\n"
   ]
  },
  {
   "cell_type": "code",
   "execution_count": 16,
   "metadata": {
    "collapsed": false
   },
   "outputs": [
    {
     "name": "stdout",
     "output_type": "stream",
     "text": [
      "[ 50  51  52  53  54  55  56  57  58  59  60  61  62  63  64  65  66  67\n",
      "  68  69  70  71  72  73  74  75  76  77  78  79  80  81  82  83  84  85\n",
      "  86  87  88  89  90  91  92  93  94  95  96  97  98  99 100 101 102 103\n",
      " 104 105 106 107 108 109 110 111 112 113 114 115 116 117 118 119 120 121\n",
      " 122 123 124 125 126 127 128 129 130 131 132 133 134 135 136 137 138 139\n",
      " 140 141 142 143 144 145 146 147 148 149]\n"
     ]
    }
   ],
   "source": [
    "a = np.arange(50,150)\n",
    "print (a)"
   ]
  },
  {
   "cell_type": "code",
   "execution_count": 20,
   "metadata": {
    "collapsed": false
   },
   "outputs": [
    {
     "name": "stdout",
     "output_type": "stream",
     "text": [
      "('Largest Sum is', 69614, 'on row', 0)\n",
      "('Largest Mean is', 6961, 'on row', 0)\n",
      "('Largest Standard Deviation is', 3571.2972432996949, 'on row', 0)\n",
      "('Largest Sum is', 71420, 'on column', 0)\n",
      "('Largest Mean is', 7142, 'on column', 0)\n",
      "('Largest Standard Deviation is', 3372.7127064130441, 'on column', 0)\n"
     ]
    }
   ],
   "source": [
    "import numpy as np\n",
    "import scipy\n",
    "from scipy import stats\n",
    "import random\n",
    "\n",
    "\n",
    "\n",
    "a = np.arange(50,150)\n",
    "for i in range(0,100):\n",
    "    a[i] = random.randint(-1000,10000)\n",
    "a = a.reshape(10,10)\n",
    "\n",
    "def rows(x):\n",
    "    largest_sum = 0\n",
    "    largest_mean = 0\n",
    "    largest_std = 0\n",
    "    largest_sum_row = 0\n",
    "    largest_mean_row = 0\n",
    "    largest_std_row = 0\n",
    "    for i in range(0,10):\n",
    "        #Sum\n",
    "        current_sum = x[i,0]+ x[i,1]+x[i,2]+ x[i,3]+x[i,4]+ x[i,5]+ x[i,6]+ x[i,7]+ x[i,8]+ x[i,9]\n",
    "        #Mean\n",
    "        current_mean = current_sum/10\n",
    "\n",
    "        #Get the sum of the squares of the differences from the mean\n",
    "        sum_of_squares = 0\n",
    "        for z in range(0,10):\n",
    "            sum_of_squares = (x[i,z]-current_mean)**2+sum_of_squares\n",
    "        #Standard Deviation\n",
    "        current_std = np.sqrt(sum_of_squares/10)\n",
    "        if current_sum > largest_sum:\n",
    "            largest_sum = current_sum\n",
    "            larget_sum_row = i\n",
    "        if current_mean > largest_mean:\n",
    "            largest_mean = current_mean\n",
    "            larget_mean_row = i\n",
    "        if current_std > largest_std:\n",
    "            largest_std = current_std\n",
    "            larget_std_row = i\n",
    "    print (\"Largest Sum is\", largest_sum,\"on row\", largest_sum_row)\n",
    "    print (\"Largest Mean is\", largest_mean,\"on row\", largest_mean_row)\n",
    "    print (\"Largest Standard Deviation is\", largest_std,\"on row\", largest_std_row)\n",
    "\n",
    "def cols(x):\n",
    "    largest_sum = 0\n",
    "    largest_mean = 0\n",
    "    largest_std = 0\n",
    "    largest_sum_col = 0\n",
    "    largest_mean_col = 0\n",
    "    largest_std_col = 0\n",
    "    for i in range(0,10):\n",
    "        #Sum\n",
    "        current_sum = x[0,i]+ x[1,i]+x[2,i]+ x[3,i]+x[4,i]+ x[5,i]+ x[6,i]+ x[7,i]+ x[8,i]+ x[9,i]\n",
    "        #Mean\n",
    "        current_mean = current_sum/10\n",
    "\n",
    "        #Get the sum of the squares of the differences from the mean\n",
    "        sum_of_squares = 0\n",
    "        for z in range(0,10):\n",
    "            sum_of_squares = (x[z,i]-current_mean)**2+sum_of_squares\n",
    "        #Standard Deviation\n",
    "        current_std = np.sqrt(sum_of_squares/10)\n",
    "        if current_sum > largest_sum:\n",
    "            largest_sum = current_sum\n",
    "            larget_sum_col = i\n",
    "        if current_mean > largest_mean:\n",
    "            largest_mean = current_mean\n",
    "            larget_mean_col = i\n",
    "        if current_std > largest_std:\n",
    "            largest_std = current_std\n",
    "            larget_std_col = i\n",
    "    print (\"Largest Sum is\", largest_sum,\"on column\", largest_sum_col)\n",
    "    print (\"Largest Mean is\", largest_mean,\"on column\", largest_mean_col)\n",
    "    print (\"Largest Standard Deviation is\", largest_std,\"on column\", largest_std_col)\n",
    "\n",
    "rows(a)\n",
    "cols(a)\n"
   ]
  }
 ],
 "metadata": {
  "kernelspec": {
   "display_name": "Python [Root]",
   "language": "python",
   "name": "Python [Root]"
  },
  "language_info": {
   "codemirror_mode": {
    "name": "ipython",
    "version": 2
   },
   "file_extension": ".py",
   "mimetype": "text/x-python",
   "name": "python",
   "nbconvert_exporter": "python",
   "pygments_lexer": "ipython2",
   "version": "2.7.12"
  }
 },
 "nbformat": 4,
 "nbformat_minor": 0
}
