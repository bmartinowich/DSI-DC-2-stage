{
 "cells": [
  {
   "cell_type": "markdown",
   "metadata": {},
   "source": [
    "### Review problem 8\n",
    "\n",
    "For this problem you will define three functions to \"clean up\" two dictionaries and merge them together.\n",
    "\n",
    "Your first function, called ```string_intlist_cleaner``` should:\n",
    "\n",
    "- Accept one argument which will be a dictionary.\n",
    "- Iterate through the key:value pairs in the dictionary:\n",
    "    - If the key is not a **string**, remove the key:value pair from the dictionary.\n",
    "    - If the value is not a **list**, remove the key:value pair from the dictionary.\n",
    "- Return the \"cleaned\" dictionary.\n",
    "\n",
    "Your second function, called ```int_string_cleaner``` should:\n",
    "\n",
    "- Accept one argument which will be a dictionary.\n",
    "- Iterate through the key:value pairs in the dictionary:\n",
    "    - If the key is not an **integer**, remove the key:value pair from the dictionary.\n",
    "    - If the value is not a **string**, remove the key:value pair from the dictionary.\n",
    "- Return the \"cleaned\" dictionary.\n",
    "\n",
    "Your third function, called ```dict_cleaner``` should:\n",
    "\n",
    "- Accept two arguments which will be dictionaries.\n",
    "- Print the first dictionary.\n",
    "- Print the second dictionary.\n",
    "- Assign the cleaned version of the first dictionary to a variable, calling your function ```string_intlist_cleaner()``` with the first dictionary as an argument.\n",
    "- Assign the cleaned version of the second dictionary to a variable, calling your function ```int_string_cleaner()``` with the second dictionary as an argument.\n",
    "- Combine the two cleaned dictionaries.\n",
    "- Print the combined and cleaned dictionary.\n",
    "- Return the combined and cleaned dictionary.\n",
    "\n",
    "Notes/Hints:\n",
    "\n",
    "- You can use the ```type()``` function to check the type of an object in python. Type names are defined without quotes:\n",
    "    ```python\n",
    "    type(7) == int\n",
    "    type('st') == str\n",
    "    type([1]) == list\n",
    "    type((1,2)) == tuple\n",
    "    type({1:'a'}) == dict\n",
    "    ```"
   ]
  },
  {
   "cell_type": "code",
   "execution_count": 9,
   "metadata": {
    "collapsed": true
   },
   "outputs": [],
   "source": [
    "first_dict = {'A':(1,2), 'B':[1,2,3,4,4], 'C':[0,9], 1:(1,1,1), 12:None, 'D':None, 'E':12.777}\n",
    "second_dict = {'1':('a','b'), 2:{1:23.3}, 3:'four', 4:'five', 'five':['six', 'seven'], 8:'nine'}"
   ]
  },
  {
   "cell_type": "code",
   "execution_count": 10,
   "metadata": {
    "collapsed": true
   },
   "outputs": [],
   "source": [
    "# Define your three functions here:\n",
    "\n",
    "#Accept one argument which will be a dictionary.\n",
    "def string_intlist_cleaner(dict):\n",
    "    #Iterate through the key:value pairs in the dictionary:\n",
    "    temp_dict = {}\n",
    "    for item in dict:\n",
    "        #If the key is not a string, remove the key:value pair from the dictionary.\n",
    "        #If the value is not a list, remove the key:value pair from the dictionary.\n",
    "        if type(item) is str and type(dict[item]) is list:\n",
    "            temp_dict[item] = dict[item]\n",
    "    #Return the \"cleaned\" dictionary.\n",
    "    dict = temp_dict\n",
    "    return dict\n"
   ]
  },
  {
   "cell_type": "code",
   "execution_count": 11,
   "metadata": {
    "collapsed": true
   },
   "outputs": [],
   "source": [
    "#Accept one argument which will be a dictionary.\n",
    "def int_string_cleaner(dict):\n",
    "    temp_dict = {}\n",
    "    #Iterate through the key:value pairs in the dictionary:\n",
    "    for item in dict:\n",
    "        #If the key is not an integer, remove the key:value pair from the dictionary.\n",
    "        #If the value is not a string, remove the key:value pair from the dictionary.\n",
    "        if type(item) is int and type(dict[item]) is str:\n",
    "                temp_dict[item] = dict[item]\n",
    "    #Return the \"cleaned\" dictionary.\n",
    "    dict = temp_dict\n",
    "    return dict\n",
    "\n"
   ]
  },
  {
   "cell_type": "code",
   "execution_count": 12,
   "metadata": {
    "collapsed": true
   },
   "outputs": [],
   "source": [
    "#Accept two arguments which will be dictionaries.\n",
    "def dict_cleaner(dictA,dictB):\n",
    "    #Print the first dictionary.\n",
    "    print(\"Dictionary 1: \")\n",
    "    print dictA\n",
    "    print\n",
    "    #Print the second dictionary.\n",
    "    print(\"Dictionary 2: \")\n",
    "    print dictB\n",
    "    print\n",
    "\n",
    "    #Assign the cleaned version of the first dictionary to a variable, calling your function\n",
    "    #string_intlist_cleaner() with the first dictionary as an argument.\n",
    "    cleanA = string_intlist_cleaner(dictA)\n",
    "    #Assign the cleaned version of the second dictionary to a variable, calling your function\n",
    "    #int_string_cleaner() with the second dictionary as an argument.\n",
    "    cleanB = int_string_cleaner(dictB)\n",
    "\n",
    "    #Combine the two cleaned dictionaries.\n",
    "    totalclean={}\n",
    "    for item in cleanA:\n",
    "        totalclean[item] = cleanA[item]\n",
    "    for item in cleanB:\n",
    "        totalclean[item] = cleanB[item]\n",
    "\n",
    "    #Print the combined and cleaned dictionary.\n",
    "    print(\"All cleaned up: \")\n",
    "    print totalclean\n",
    "    print\n",
    "    #Return the combined and cleaned dictionary.\n",
    "    return totalclean\n",
    "\n"
   ]
  },
  {
   "cell_type": "code",
   "execution_count": 13,
   "metadata": {
    "collapsed": false
   },
   "outputs": [
    {
     "name": "stdout",
     "output_type": "stream",
     "text": [
      "Dictionary 1: \n",
      "{'A': (1, 2), 1: (1, 1, 1), 'C': [0, 9], 'B': [1, 2, 3, 4, 4], 'E': 12.777, 'D': None, 12: None}\n",
      "\n",
      "Dictionary 2: \n",
      "{2: {1: 23.3}, 3: 'four', 4: 'five', 8: 'nine', '1': ('a', 'b'), 'five': ['six', 'seven']}\n",
      "\n",
      "All cleaned up: \n",
      "{8: 'nine', 3: 'four', 'C': [0, 9], 'B': [1, 2, 3, 4, 4], 4: 'five'}\n",
      "\n"
     ]
    },
    {
     "data": {
      "text/plain": [
       "{3: 'four', 4: 'five', 8: 'nine', 'B': [1, 2, 3, 4, 4], 'C': [0, 9]}"
      ]
     },
     "execution_count": 13,
     "metadata": {},
     "output_type": "execute_result"
    }
   ],
   "source": [
    "dict_cleaner(first_dict,second_dict)"
   ]
  },
  {
   "cell_type": "code",
   "execution_count": null,
   "metadata": {
    "collapsed": true
   },
   "outputs": [],
   "source": []
  }
 ],
 "metadata": {
  "anaconda-cloud": {},
  "kernelspec": {
   "display_name": "Python [Root]",
   "language": "python",
   "name": "Python [Root]"
  },
  "language_info": {
   "codemirror_mode": {
    "name": "ipython",
    "version": 2
   },
   "file_extension": ".py",
   "mimetype": "text/x-python",
   "name": "python",
   "nbconvert_exporter": "python",
   "pygments_lexer": "ipython2",
   "version": "2.7.12"
  }
 },
 "nbformat": 4,
 "nbformat_minor": 0
}
