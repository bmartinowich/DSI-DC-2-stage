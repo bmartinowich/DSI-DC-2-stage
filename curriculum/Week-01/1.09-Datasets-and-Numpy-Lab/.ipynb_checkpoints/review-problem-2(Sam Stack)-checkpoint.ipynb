{
 "cells": [
  {
   "cell_type": "markdown",
   "metadata": {},
   "source": [
    "### Review Problem 2\n",
    "\n",
    "For this problem, you will be writing a function that operates on a dictionary and **optionally** a list of numbers.\n",
    "\n",
    "Write a function that:\n",
    "\n",
    "- Accepts a dictionary as its first argument. The values of the dictionary should be a list of numbers.\n",
    "- Accepts an optional **keyword argument** that is a list. The default should be an empty list. **The optional keyword list should be called remainder**\n",
    "- **If the list is empty:** append a 2 to the list.\n",
    "- Print the dictionary as well as the optional list.\n",
    "- Iterate though they key:value pairs in the dictionary:\n",
    "    - For each value list of numbers, calculate the **remainder of each number** for **each number in the remainder list**\n",
    "    - Create a dictionary where they keys are the numbers in the value list, and the values are the remainders of that number from the remainder list.\n",
    "    - ex: if value ```list == [10,9]``` and ```remainder == [2,3]```, the new dictionary would be: ```{10:[0, 1], 9:[1, 0]}```\n",
    "    - For the current key in the dictionary entered into the function, change the value to the new remainder dictionary.\n",
    "- Print out the new dictionary.\n",
    "- Return the dictionary.\n",
    "\n",
    "Notes/Hints:\n",
    "\n",
    "- keyword arguments are specified in functions like so: \n",
    "    ```python\n",
    "    def example_function(arg1, kwarg1=default_value):\n",
    "    ```\n",
    "- The operator for finding the remainder of two values is: ```%```\n",
    "    ```python\n",
    "    14 % 5 == 4\n",
    "    ```"
   ]
  },
  {
   "cell_type": "code",
   "execution_count": 2,
   "metadata": {
    "collapsed": false
   },
   "outputs": [],
   "source": [
    "test_dict = {'A':[1,2,3,4,5], 'B':[12.1, 14.2, 20.3, 25.4], 'C':[10, 25.5, 50.9, 101]}\n",
    "optional_remainder = [2,3,4,5]"
   ]
  },
  {
   "cell_type": "code",
   "execution_count": 3,
   "metadata": {
    "collapsed": true
   },
   "outputs": [],
   "source": [
    "#Accepts a dictionary as its first argument. The values of the dictionary should be a list of numbers.\n",
    "#Accepts an optional keyword argument that is a list.\n",
    "#The default should be an empty list. The optional keyword list should be called remainder.\n",
    "\n",
    "def dictnums(dict,numlist=[]):\n",
    "    #If the list is empty: append a 2 to the list.\n",
    "    if numlist == []:\n",
    "        numlist.append(2)\n",
    "\n",
    "    #Print the dictionary as well as the optional list.\n",
    "    print \"original dictionary: \"\n",
    "    print dict\n",
    "    print \"remainder list: \"\n",
    "    print numlist\n",
    "    print \"remainder dictionaries for each key: \"\n",
    "\n",
    "    #Iterate though they key:value pairs in the dictionary:\n",
    "    #For each value (list of numbers), calculate the remainder of each number for each number in the remainder list\n",
    "    #Create a dictionary where the keys are the numbers in the value list, and the values are the remainders of that number from the remainder list.\n",
    "    #For the current key in the dictionary entered into the function, change the value to the new remainder dictionary.\n",
    "    for key in dict:\n",
    "        newdict={}\n",
    "        for x in dict[key]:\n",
    "            newdict[x]=[]\n",
    "            for y in numlist:\n",
    "                newdict[x].append(round(x%y,2))\n",
    "        dict[key] = newdict\n",
    "        print key + \": \" + str(newdict)\n",
    "\n",
    "\n",
    "    #Print out the new dictionary.\n",
    "    print \"Modified original dictionary: \"\n",
    "    print dict\n",
    "    print \n",
    "    #Return the dictionary.\n",
    "    return dict\n"
   ]
  },
  {
   "cell_type": "code",
   "execution_count": 4,
   "metadata": {
    "collapsed": false
   },
   "outputs": [
    {
     "name": "stdout",
     "output_type": "stream",
     "text": [
      "original dictionary: \n",
      "{'A': [1, 2, 3, 4, 5], 'C': [10, 25.5, 50.9, 101], 'B': [12.1, 14.2, 20.3, 25.4]}\n",
      "remainder list: \n",
      "[2]\n",
      "remainder dictionaries for each key: \n",
      "A: {1: [1.0], 2: [0.0], 3: [1.0], 4: [0.0], 5: [1.0]}\n",
      "C: {25.5: [1.5], 10: [0.0], 50.9: [0.9], 101: [1.0]}\n",
      "B: {14.2: [0.2], 20.3: [0.3], 12.1: [0.1], 25.4: [1.4]}\n",
      "Modified original dictionary: \n",
      "{'A': {1: [1.0], 2: [0.0], 3: [1.0], 4: [0.0], 5: [1.0]}, 'C': {25.5: [1.5], 10: [0.0], 50.9: [0.9], 101: [1.0]}, 'B': {14.2: [0.2], 20.3: [0.3], 12.1: [0.1], 25.4: [1.4]}}\n",
      "\n",
      "original dictionary: \n",
      "{'A': {1: [1.0], 2: [0.0], 3: [1.0], 4: [0.0], 5: [1.0]}, 'C': {25.5: [1.5], 10: [0.0], 50.9: [0.9], 101: [1.0]}, 'B': {14.2: [0.2], 20.3: [0.3], 12.1: [0.1], 25.4: [1.4]}}\n",
      "remainder list: \n",
      "[2, 3, 4, 5]\n",
      "remainder dictionaries for each key: \n",
      "A: {1: [1.0, 1.0, 1.0, 1.0], 2: [0.0, 2.0, 2.0, 2.0], 3: [1.0, 0.0, 3.0, 3.0], 4: [0.0, 1.0, 0.0, 4.0], 5: [1.0, 2.0, 1.0, 0.0]}\n",
      "C: {25.5: [1.5, 1.5, 1.5, 0.5], 10: [0.0, 1.0, 2.0, 0.0], 50.9: [0.9, 2.9, 2.9, 0.9], 101: [1.0, 2.0, 1.0, 1.0]}\n",
      "B: {14.2: [0.2, 2.2, 2.2, 4.2], 20.3: [0.3, 2.3, 0.3, 0.3], 12.1: [0.1, 0.1, 0.1, 2.1], 25.4: [1.4, 1.4, 1.4, 0.4]}\n",
      "Modified original dictionary: \n",
      "{'A': {1: [1.0, 1.0, 1.0, 1.0], 2: [0.0, 2.0, 2.0, 2.0], 3: [1.0, 0.0, 3.0, 3.0], 4: [0.0, 1.0, 0.0, 4.0], 5: [1.0, 2.0, 1.0, 0.0]}, 'C': {25.5: [1.5, 1.5, 1.5, 0.5], 10: [0.0, 1.0, 2.0, 0.0], 50.9: [0.9, 2.9, 2.9, 0.9], 101: [1.0, 2.0, 1.0, 1.0]}, 'B': {14.2: [0.2, 2.2, 2.2, 4.2], 20.3: [0.3, 2.3, 0.3, 0.3], 12.1: [0.1, 0.1, 0.1, 2.1], 25.4: [1.4, 1.4, 1.4, 0.4]}}\n",
      "\n"
     ]
    },
    {
     "data": {
      "text/plain": [
       "{'A': {1: [1.0, 1.0, 1.0, 1.0],\n",
       "  2: [0.0, 2.0, 2.0, 2.0],\n",
       "  3: [1.0, 0.0, 3.0, 3.0],\n",
       "  4: [0.0, 1.0, 0.0, 4.0],\n",
       "  5: [1.0, 2.0, 1.0, 0.0]},\n",
       " 'B': {12.1: [0.1, 0.1, 0.1, 2.1],\n",
       "  14.2: [0.2, 2.2, 2.2, 4.2],\n",
       "  20.3: [0.3, 2.3, 0.3, 0.3],\n",
       "  25.4: [1.4, 1.4, 1.4, 0.4]},\n",
       " 'C': {10: [0.0, 1.0, 2.0, 0.0],\n",
       "  25.5: [1.5, 1.5, 1.5, 0.5],\n",
       "  50.9: [0.9, 2.9, 2.9, 0.9],\n",
       "  101: [1.0, 2.0, 1.0, 1.0]}}"
      ]
     },
     "execution_count": 4,
     "metadata": {},
     "output_type": "execute_result"
    }
   ],
   "source": [
    "# 1. Run the function with the default keyword argument\n",
    "dictnums(test_dict)\n",
    "# 2. Run the function assigning the default keyword argument to the optional list\n",
    "dictnums(test_dict,optional_remainder)"
   ]
  },
  {
   "cell_type": "code",
   "execution_count": null,
   "metadata": {
    "collapsed": true
   },
   "outputs": [],
   "source": []
  }
 ],
 "metadata": {
  "kernelspec": {
   "display_name": "Python 2",
   "language": "python",
   "name": "python2"
  },
  "language_info": {
   "codemirror_mode": {
    "name": "ipython",
    "version": 2
   },
   "file_extension": ".py",
   "mimetype": "text/x-python",
   "name": "python",
   "nbconvert_exporter": "python",
   "pygments_lexer": "ipython2",
   "version": "2.7.11"
  }
 },
 "nbformat": 4,
 "nbformat_minor": 0
}
