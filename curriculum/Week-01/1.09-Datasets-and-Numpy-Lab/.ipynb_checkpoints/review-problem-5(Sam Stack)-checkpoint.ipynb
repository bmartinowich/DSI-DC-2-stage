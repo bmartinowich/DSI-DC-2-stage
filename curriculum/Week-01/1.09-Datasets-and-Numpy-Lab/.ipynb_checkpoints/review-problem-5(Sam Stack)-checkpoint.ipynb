{
 "cells": [
  {
   "cell_type": "markdown",
   "metadata": {},
   "source": [
    "### Review problem 5 (hard)\n",
    "\n",
    "In this problem you will be defining a function that calculates the **pearson correlation coefficient** between two lists of numbers.\n",
    "\n",
    "Your function should:\n",
    "\n",
    "- Accept two arguments that are the provided lists ```X``` and ```Y```.\n",
    "- Print the length of ```X``` and ```Y``` using the ```len()``` function, like so:\n",
    "    ```python\n",
    "    Length of X: 40\n",
    "    Length of Y: 40\n",
    "    ```\n",
    "- Calculate the **pearson correlation** between the two lists and assign the value to variable ```pearson_r```.\n",
    "    - Create a variable ```X_deviation``` that is each element of ```X``` minus the **mean** of ```X```. You can use ```np.mean()``` to calculate the mean.\n",
    "    - Create a variable ```Y_deviation``` that is each element of ```Y``` minus the **mean** of ```Y```.\n",
    "    - Create a variable ```sqrt_X_deviation_sq``` that is the **square root** of the **sum** of the **square** of each element of ```X_deviation```. Ive partially completed it below, for clarification:\n",
    "        ```python\n",
    "        sqrt_X_deviation_sq = np.sqrt(np.sum(\"each element of X_deviation squared\"))\n",
    "        ```\n",
    "    - Create a variable ```sqrt_Y_deviation_sq``` that is the same thing you just did for ```X_deviation``` but for ```Y_deviation```.\n",
    "    - Create a variable ```sum_XY_deviation``` that is the **sum** of each element of X and Y multiplied by each other, in order. You can use the ```zip()``` function to iterate through two lists at the same time:\n",
    "        ```python\n",
    "        for x_d, y_d in zip(X_deviation, Y_deviation):\n",
    "        ```\n",
    "    - ```pearson_r``` is equal to ```sum_XY_deviation``` divided by ```(sqrt_X_deviation_sq * sqrt_Y_deviation_sq)```\n",
    "- Print ```pearson_r```\n",
    "- Check if it is the same as numpys correlation function. Print ```np.corrcoef(X, Y)[0,1]```\n",
    "    "
   ]
  },
  {
   "cell_type": "code",
   "execution_count": 85,
   "metadata": {
    "collapsed": false
   },
   "outputs": [
    {
     "name": "stdout",
     "output_type": "stream",
     "text": [
      "21648.66\n"
     ]
    }
   ],
   "source": [
    "import numpy as np\n",
    "from math import sqrt\n",
    "\n",
    "X = [14.2,5.8,4.8,12.7,5.6,-1.2,5.3,11.9,4.8,8.1,1.5,8.5,14.9,6.1,\n",
    "     6.8,12.6,15.5,24.3,15.6,16.8,22.3,22.6,26.2,19.0,24.3,26.3,\n",
    "     25.3,31.6,27.3,33.0,32.6,30.7,29.6,34.7,32.7,43.1,40.1,35.4,49.6,38.6]\n",
    "\n",
    "Y = [-15.5,-8.5,0.8,-3.9,4.9,12.7,10.0,16.5,5.7,13.1,10.3,12.4,-1.5,\n",
    "     1.7,26.0,14.3,30.3,21.7,27.5,38.2,18.9,21.2,18.2,26.1,14.7,16.4,\n",
    "     22.8,34.3,37.1,38.9,39.1,33.8,52.2,36.5,20.7,21.6,14.5,33.6,44.5,44.2]\n",
    "\n",
    "cov_xy = sum([a*b for a,b in zip(X, Y)])\n",
    "print cov_xy"
   ]
  },
  {
   "cell_type": "code",
   "execution_count": 106,
   "metadata": {
    "collapsed": false
   },
   "outputs": [
    {
     "name": "stdout",
     "output_type": "stream",
     "text": [
      "0.659990523006\n"
     ]
    }
   ],
   "source": [
    "def problem5(x, y):\n",
    "    print 'Length of X: ', len(x)\n",
    "    print 'Length of Y: ', len(y)\n",
    "\n",
    "    mean_x = np.mean(x)\n",
    "    mean_y = np.mean(y)\n",
    "    \n",
    "    x_deviation = []\n",
    "    y_deviation = []\n",
    "#creates a list for the deviation of each item from the mean.  Will be used in COV and STD_DEV\n",
    "    for item in x:\n",
    "        x_deviation.insert(0,(item - mean_x))\n",
    "    for item in y:\n",
    "        y_deviation.insert(0,(item - mean_y))\n",
    "# Create a squared deviation lists\n",
    "    x_dev_squared = []\n",
    "    y_dev_squared = []\n",
    "# Created squared deviation functions.\n",
    "    for numb in x_deviation:\n",
    "        x_dev_squared.insert(0,(numb**2))\n",
    "    for numb in y_deviation:\n",
    "        y_dev_squared.insert(0,(numb**2))\n",
    "# calculate the standard deviations for x and y using the deviations        \n",
    "    std_dev_x = sqrt(sum(x_dev_squared)/len(x))\n",
    "    std_dev_y = sqrt(sum(y_dev_squared)/len(y))\n",
    "    print 'Standard deviation X: ', std_dev_x\n",
    "    print 'Standard deviation y: ', std_dev_y\n",
    "#Time to calculate th covariance.\n",
    "    cov_xy = (sum([a*b for a,b in zip(x_deviation, y_deviation)]))/len(x)\n",
    "#ONE MORE THING!!!\n",
    "# Calculate the Pearson Coorelation \n",
    "    pearson_r = cov_xy/(std_dev_x * std_dev_y)\n",
    "    print 'Pearson Coorelation: ', pearson_r\n",
    "    \n",
    "\n"
   ]
  },
  {
   "cell_type": "code",
   "execution_count": 108,
   "metadata": {
    "collapsed": false
   },
   "outputs": [
    {
     "name": "stdout",
     "output_type": "stream",
     "text": [
      "Length of X:  40\n",
      "Length of Y:  40\n",
      "Standard deviation X:  12.6949950768\n",
      "Standard deviation y:  15.3179959525\n",
      "Pearson Coorelation:  0.659990523006\n",
      "Results of np.corrcoef(X, Y)[0,1] 0.659990523006\n"
     ]
    }
   ],
   "source": [
    "problem5(X, Y)\n",
    "print \"Results of np.corrcoef(X, Y)[0,1]\", np.corrcoef(X, Y)[0,1]"
   ]
  },
  {
   "cell_type": "code",
   "execution_count": 87,
   "metadata": {
    "collapsed": false
   },
   "outputs": [
    {
     "name": "stdout",
     "output_type": "stream",
     "text": [
      "541.2165\n"
     ]
    }
   ],
   "source": [
    "\n",
    "cov_xy = (sum([a*b for a,b in zip(X, Y)]))/len(X)\n",
    "print cov_xy"
   ]
  },
  {
   "cell_type": "code",
   "execution_count": 90,
   "metadata": {
    "collapsed": false
   },
   "outputs": [
    {
     "data": {
      "text/plain": [
       "0.6599905230062455"
      ]
     },
     "execution_count": 90,
     "metadata": {},
     "output_type": "execute_result"
    }
   ],
   "source": [
    "np.corrcoef(X, Y)[0,1]"
   ]
  },
  {
   "cell_type": "code",
   "execution_count": 103,
   "metadata": {
    "collapsed": false
   },
   "outputs": [
    {
     "data": {
      "text/plain": [
       "0.0033939325904650619"
      ]
     },
     "execution_count": 103,
     "metadata": {},
     "output_type": "execute_result"
    }
   ],
   "source": [
    "(np.corrcoef(X, Y)[0,1])/(np.std(X) * np.std(Y))"
   ]
  },
  {
   "cell_type": "code",
   "execution_count": null,
   "metadata": {
    "collapsed": true
   },
   "outputs": [],
   "source": []
  }
 ],
 "metadata": {
  "kernelspec": {
   "display_name": "Python 2",
   "language": "python",
   "name": "python2"
  },
  "language_info": {
   "codemirror_mode": {
    "name": "ipython",
    "version": 2
   },
   "file_extension": ".py",
   "mimetype": "text/x-python",
   "name": "python",
   "nbconvert_exporter": "python",
   "pygments_lexer": "ipython2",
   "version": "2.7.11"
  }
 },
 "nbformat": 4,
 "nbformat_minor": 0
}
