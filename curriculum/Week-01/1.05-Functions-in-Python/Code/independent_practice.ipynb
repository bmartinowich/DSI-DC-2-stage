{
 "cells": [
  {
   "cell_type": "markdown",
   "metadata": {},
   "source": [
    "#Code Challenges with Functions\n",
    "\n",
    "To supplement what is going on in class related to control structures and functions, we've come up with this fun challenge to explore futher practice.  Although we're not specifically covering recursive functions, they can be useful to avoid application complexity when implenting repeating processes that test repeating conditions.  You don't have to use tehm in this exercize, but we strongly suggest you try solve the challenges using recursive methods.  \n",
    "\n",
    "[Recurve Function Review](http://www.python-course.eu/recursive_functions.php)\n",
    "\n",
    "Requirements For these challenges, you will need to have a basic working knowledge of Python and be comfortable with fundamental usage. To get the most out of these exercises you should avoid using libraries (but feel free to use buil-in types ie: zip()) as much as possible and try to construct solutions by hand as much as possible. Also, if solutions are available, try not to peek to get the most out of this. Feel free to search and use resources on the web but try to figure as much of these out with careful thought."
   ]
  },
  {
   "cell_type": "markdown",
   "metadata": {},
   "source": [
    "## Challenge 1 - Guess The Number\n",
    "\n",
    "In this challenge we will be creating one of the oldest, yet arguably exciting, games in the universe: \"Guess The Number\".  In order to provide the game mechanic, we will need to use control structures to facilitate the course of the game which is:\n",
    "\n",
    " 1. Generate random number\n",
    " 2. Ask for user input\n",
    " 3. Compare user input with generated number\n",
    " 4. Check winning conditions\n",
    " 5. Output response \"too high\", \"too low\", or \"You're the winner\"\n",
    " 6. Repeat until user wins\n",
    " \n",
    " \n",
    "**Input**\n",
    "\n",
    "     User prompt for numeric input.\n",
    "     \n",
    "**Output**\n",
    "\n",
    "     \"too high\" if user_input > random_number\n",
    "     \"too low\" if user_input < random_number\n",
    "     \"You're the winner\" if user_input == random_number\n",
    "\n",
    "*** The kernel may hang during testing of this type of app so use \"Kerenel -> Inturrupt\" as needed\n"
   ]
  },
  {
   "cell_type": "code",
   "execution_count": null,
   "metadata": {
    "collapsed": true
   },
   "outputs": [],
   "source": []
  },
  {
   "cell_type": "markdown",
   "metadata": {},
   "source": [
    "## Challenge 2 - Guess The Number  _(Enhanced Edition)_\n",
    "\n",
    "Guessing a number is good fun, but why don't we indroduce an element of danger shall we?  Let's give the user only 5 chances to guess!  Also, print the number of chances the user has used after each guess.  Take the previous function you created and modify it for these new features!\n",
    "\n",
    "**Input**\n",
    "\n",
    "     User prompt for numeric input.\n",
    "     \n",
    "**Output**\n",
    "\n",
    "     \"too high\" if user_input > random_number\n",
    "     \"too low\" if user_input < random_number\n",
    "     \"You're the winner\" if user_input == random_number\n",
    "     \"Game Over: Too many guesses!\"\n",
    "\n"
   ]
  },
  {
   "cell_type": "code",
   "execution_count": null,
   "metadata": {
    "collapsed": true
   },
   "outputs": [],
   "source": []
  }
 ],
 "metadata": {
  "kernelspec": {
   "display_name": "Python 2",
   "language": "python",
   "name": "python2"
  },
  "language_info": {
   "codemirror_mode": {
    "name": "ipython",
    "version": 2
   },
   "file_extension": ".py",
   "mimetype": "text/x-python",
   "name": "python",
   "nbconvert_exporter": "python",
   "pygments_lexer": "ipython2",
   "version": "2.7.11"
  }
 },
 "nbformat": 4,
 "nbformat_minor": 0
}
