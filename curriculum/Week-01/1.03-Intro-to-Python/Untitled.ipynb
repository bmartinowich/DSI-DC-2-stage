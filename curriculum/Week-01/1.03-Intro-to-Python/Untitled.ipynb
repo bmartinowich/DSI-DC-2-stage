{
 "cells": [
  {
   "cell_type": "code",
   "execution_count": null,
   "metadata": {
    "collapsed": false
   },
   "outputs": [],
   "source": [
    "def factor(x):\n",
    "\tnumber_of_factors = 0\n",
    "\ti = 1\n",
    "\twhile i<=x:\n",
    "\t\tif (x%i==0):\n",
    "\t\t\tnumber_of_factors = number_of_factors+1\n",
    "\treturn number_of_factors\n",
    "\t\n",
    "def triangle(x):\n",
    "\ti = 1\n",
    "\ttriangle = 0\n",
    "\twhile i<=x:\n",
    "\t\ttriangle = triangle+i\n",
    "\treturn triangle\n",
    "\t\n",
    "triangle_counter = 1\n",
    "\n",
    "factors = 1\n",
    "\n",
    "while factors<=500:\n",
    "\tfactors = factor(triangle(triangle_counter))\n",
    "\ttriangle_counter = triangle_counter+1\n",
    "\t\n",
    "print triangle(triangle_counter)\n"
   ]
  },
  {
   "cell_type": "code",
   "execution_count": null,
   "metadata": {
    "collapsed": true
   },
   "outputs": [],
   "source": []
  }
 ],
 "metadata": {
  "kernelspec": {
   "display_name": "Python [Root]",
   "language": "python",
   "name": "Python [Root]"
  },
  "language_info": {
   "codemirror_mode": {
    "name": "ipython",
    "version": 2
   },
   "file_extension": ".py",
   "mimetype": "text/x-python",
   "name": "python",
   "nbconvert_exporter": "python",
   "pygments_lexer": "ipython2",
   "version": "2.7.12"
  }
 },
 "nbformat": 4,
 "nbformat_minor": 0
}
