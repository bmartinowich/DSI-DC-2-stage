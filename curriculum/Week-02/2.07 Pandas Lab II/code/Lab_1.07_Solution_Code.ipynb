{
 "cells": [
  {
   "cell_type": "markdown",
   "metadata": {},
   "source": [
    "# Examining Animal Data\n",
    "## Pandas manipulation, merging, and plotting lab"
   ]
  },
  {
   "cell_type": "markdown",
   "metadata": {},
   "source": [
    "- Import your libraries (Pandas and NumPy) \n",
    "- Import the code as two Data Frames: \"intakes\" and \"outcomes\"\n",
    "- Take a look at the data (dtypes, length, size, head, tail, describe)"
   ]
  },
  {
   "cell_type": "code",
   "execution_count": 790,
   "metadata": {
    "collapsed": false
   },
   "outputs": [],
   "source": [
    "import pandas as pd\n",
    "import numpy as np\n",
    "import matplotlib.pyplot as plt\n",
    "%matplotlib inline\n",
    "\n",
    "intakes = pd.read_csv('../assets/austin_animal_intakes_15.csv')\n",
    "outcomes = pd.read_csv('../assets/austin_animal_outcomes_15.csv')"
   ]
  },
  {
   "cell_type": "code",
   "execution_count": 791,
   "metadata": {
    "collapsed": false
   },
   "outputs": [
    {
     "data": {
      "text/plain": [
       "Animal ID           object\n",
       "Name                object\n",
       "Intake Date         object\n",
       "Intake Time         object\n",
       "Found Location      object\n",
       "Intake Type         object\n",
       "Intake Condition    object\n",
       "Animal Type         object\n",
       "Sex upon Intake     object\n",
       "Age upon Intake     object\n",
       "Breed               object\n",
       "Color               object\n",
       "dtype: object"
      ]
     },
     "execution_count": 791,
     "metadata": {},
     "output_type": "execute_result"
    }
   ],
   "source": [
    "intakes.dtypes"
   ]
  },
  {
   "cell_type": "code",
   "execution_count": 792,
   "metadata": {
    "collapsed": false
   },
   "outputs": [
    {
     "data": {
      "text/plain": [
       "Animal ID           object\n",
       "Name                object\n",
       "Outcome Date        object\n",
       "Outcome Time        object\n",
       "Outcome Type        object\n",
       "Outcome Subtype     object\n",
       "Animal Type         object\n",
       "Sex upon Outcome    object\n",
       "Age upon Outcome    object\n",
       "Breed               object\n",
       "Color               object\n",
       "dtype: object"
      ]
     },
     "execution_count": 792,
     "metadata": {},
     "output_type": "execute_result"
    }
   ],
   "source": [
    "outcomes.dtypes"
   ]
  },
  {
   "cell_type": "code",
   "execution_count": 793,
   "metadata": {
    "collapsed": false
   },
   "outputs": [
    {
     "data": {
      "text/plain": [
       "18627"
      ]
     },
     "execution_count": 793,
     "metadata": {},
     "output_type": "execute_result"
    }
   ],
   "source": [
    "len(intakes)"
   ]
  },
  {
   "cell_type": "code",
   "execution_count": 794,
   "metadata": {
    "collapsed": false
   },
   "outputs": [
    {
     "data": {
      "text/plain": [
       "18447"
      ]
     },
     "execution_count": 794,
     "metadata": {},
     "output_type": "execute_result"
    }
   ],
   "source": [
    "len(outcomes)"
   ]
  },
  {
   "cell_type": "code",
   "execution_count": 795,
   "metadata": {
    "collapsed": false
   },
   "outputs": [
    {
     "data": {
      "text/html": [
       "<div>\n",
       "<table border=\"1\" class=\"dataframe\">\n",
       "  <thead>\n",
       "    <tr style=\"text-align: right;\">\n",
       "      <th></th>\n",
       "      <th>Animal ID</th>\n",
       "      <th>Name</th>\n",
       "      <th>Intake Date</th>\n",
       "      <th>Intake Time</th>\n",
       "      <th>Found Location</th>\n",
       "      <th>Intake Type</th>\n",
       "      <th>Intake Condition</th>\n",
       "      <th>Animal Type</th>\n",
       "      <th>Sex upon Intake</th>\n",
       "      <th>Age upon Intake</th>\n",
       "      <th>Breed</th>\n",
       "      <th>Color</th>\n",
       "    </tr>\n",
       "  </thead>\n",
       "  <tbody>\n",
       "    <tr>\n",
       "      <th>0</th>\n",
       "      <td>A689228</td>\n",
       "      <td>Louie</td>\n",
       "      <td>10/01/14</td>\n",
       "      <td>7:21AM</td>\n",
       "      <td>3005 S. Lamar in Austin (TX)</td>\n",
       "      <td>Stray</td>\n",
       "      <td>Normal</td>\n",
       "      <td>Dog</td>\n",
       "      <td>Intact Male</td>\n",
       "      <td>4 months</td>\n",
       "      <td>Dachshund/Chihuahua Shorthair</td>\n",
       "      <td>Sable/Tan</td>\n",
       "    </tr>\n",
       "    <tr>\n",
       "      <th>1</th>\n",
       "      <td>A689234</td>\n",
       "      <td>NaN</td>\n",
       "      <td>10/01/14</td>\n",
       "      <td>8:44AM</td>\n",
       "      <td>Travis (TX)</td>\n",
       "      <td>Stray</td>\n",
       "      <td>Nursing</td>\n",
       "      <td>Dog</td>\n",
       "      <td>Unknown</td>\n",
       "      <td>0 years</td>\n",
       "      <td>Labrador Retriever Mix</td>\n",
       "      <td>Brown/Black</td>\n",
       "    </tr>\n",
       "    <tr>\n",
       "      <th>2</th>\n",
       "      <td>A689239</td>\n",
       "      <td>NaN</td>\n",
       "      <td>10/01/14</td>\n",
       "      <td>8:44AM</td>\n",
       "      <td>Travis (TX)</td>\n",
       "      <td>Stray</td>\n",
       "      <td>Nursing</td>\n",
       "      <td>Dog</td>\n",
       "      <td>Unknown</td>\n",
       "      <td>0 years</td>\n",
       "      <td>Labrador Retriever Mix</td>\n",
       "      <td>Sable</td>\n",
       "    </tr>\n",
       "    <tr>\n",
       "      <th>3</th>\n",
       "      <td>A689237</td>\n",
       "      <td>NaN</td>\n",
       "      <td>10/01/14</td>\n",
       "      <td>8:44AM</td>\n",
       "      <td>Travis (TX)</td>\n",
       "      <td>Stray</td>\n",
       "      <td>Nursing</td>\n",
       "      <td>Dog</td>\n",
       "      <td>Unknown</td>\n",
       "      <td>0 years</td>\n",
       "      <td>Labrador Retriever Mix</td>\n",
       "      <td>Black/Brown</td>\n",
       "    </tr>\n",
       "    <tr>\n",
       "      <th>4</th>\n",
       "      <td>A689238</td>\n",
       "      <td>NaN</td>\n",
       "      <td>10/01/14</td>\n",
       "      <td>8:44AM</td>\n",
       "      <td>Travis (TX)</td>\n",
       "      <td>Stray</td>\n",
       "      <td>Nursing</td>\n",
       "      <td>Dog</td>\n",
       "      <td>Unknown</td>\n",
       "      <td>0 years</td>\n",
       "      <td>Labrador Retriever Mix</td>\n",
       "      <td>Sable/Brown</td>\n",
       "    </tr>\n",
       "  </tbody>\n",
       "</table>\n",
       "</div>"
      ],
      "text/plain": [
       "  Animal ID   Name Intake Date Intake Time                Found Location  \\\n",
       "0   A689228  Louie    10/01/14      7:21AM  3005 S. Lamar in Austin (TX)   \n",
       "1   A689234    NaN    10/01/14      8:44AM                   Travis (TX)   \n",
       "2   A689239    NaN    10/01/14      8:44AM                   Travis (TX)   \n",
       "3   A689237    NaN    10/01/14      8:44AM                   Travis (TX)   \n",
       "4   A689238    NaN    10/01/14      8:44AM                   Travis (TX)   \n",
       "\n",
       "  Intake Type Intake Condition Animal Type Sex upon Intake Age upon Intake  \\\n",
       "0       Stray           Normal         Dog     Intact Male        4 months   \n",
       "1       Stray          Nursing         Dog         Unknown         0 years   \n",
       "2       Stray          Nursing         Dog         Unknown         0 years   \n",
       "3       Stray          Nursing         Dog         Unknown         0 years   \n",
       "4       Stray          Nursing         Dog         Unknown         0 years   \n",
       "\n",
       "                           Breed        Color  \n",
       "0  Dachshund/Chihuahua Shorthair    Sable/Tan  \n",
       "1         Labrador Retriever Mix  Brown/Black  \n",
       "2         Labrador Retriever Mix        Sable  \n",
       "3         Labrador Retriever Mix  Black/Brown  \n",
       "4         Labrador Retriever Mix  Sable/Brown  "
      ]
     },
     "execution_count": 795,
     "metadata": {},
     "output_type": "execute_result"
    }
   ],
   "source": [
    "intakes.head()"
   ]
  },
  {
   "cell_type": "code",
   "execution_count": 796,
   "metadata": {
    "collapsed": false
   },
   "outputs": [
    {
     "data": {
      "text/html": [
       "<div>\n",
       "<table border=\"1\" class=\"dataframe\">\n",
       "  <thead>\n",
       "    <tr style=\"text-align: right;\">\n",
       "      <th></th>\n",
       "      <th>Animal ID</th>\n",
       "      <th>Name</th>\n",
       "      <th>Intake Date</th>\n",
       "      <th>Intake Time</th>\n",
       "      <th>Found Location</th>\n",
       "      <th>Intake Type</th>\n",
       "      <th>Intake Condition</th>\n",
       "      <th>Animal Type</th>\n",
       "      <th>Sex upon Intake</th>\n",
       "      <th>Age upon Intake</th>\n",
       "      <th>Breed</th>\n",
       "      <th>Color</th>\n",
       "    </tr>\n",
       "  </thead>\n",
       "  <tbody>\n",
       "    <tr>\n",
       "      <th>18622</th>\n",
       "      <td>A712970</td>\n",
       "      <td>NaN</td>\n",
       "      <td>09/30/15</td>\n",
       "      <td>5:42PM</td>\n",
       "      <td>Jamestown Dr &amp; Maine Dr in Austin (TX)</td>\n",
       "      <td>Stray</td>\n",
       "      <td>Normal</td>\n",
       "      <td>Dog</td>\n",
       "      <td>Intact Female</td>\n",
       "      <td>5 months</td>\n",
       "      <td>Chihuahua Shorthair Mix</td>\n",
       "      <td>Tricolor</td>\n",
       "    </tr>\n",
       "    <tr>\n",
       "      <th>18623</th>\n",
       "      <td>A712971</td>\n",
       "      <td>NaN</td>\n",
       "      <td>09/30/15</td>\n",
       "      <td>5:48PM</td>\n",
       "      <td>14517 Amy Francis St in Austin (TX)</td>\n",
       "      <td>Stray</td>\n",
       "      <td>Normal</td>\n",
       "      <td>Cat</td>\n",
       "      <td>Intact Female</td>\n",
       "      <td>3 years</td>\n",
       "      <td>Domestic Shorthair Mix</td>\n",
       "      <td>Torbie/White</td>\n",
       "    </tr>\n",
       "    <tr>\n",
       "      <th>18624</th>\n",
       "      <td>A712972</td>\n",
       "      <td>Julie</td>\n",
       "      <td>09/30/15</td>\n",
       "      <td>5:53PM</td>\n",
       "      <td>6911 Ih 35 in Austin (TX)</td>\n",
       "      <td>Stray</td>\n",
       "      <td>Normal</td>\n",
       "      <td>Dog</td>\n",
       "      <td>Spayed Female</td>\n",
       "      <td>5 years</td>\n",
       "      <td>Toy Poodle Mix</td>\n",
       "      <td>Cream</td>\n",
       "    </tr>\n",
       "    <tr>\n",
       "      <th>18625</th>\n",
       "      <td>A692521</td>\n",
       "      <td>Coby</td>\n",
       "      <td>09/30/15</td>\n",
       "      <td>6:13PM</td>\n",
       "      <td>1405 E 4Th St in Austin (TX)</td>\n",
       "      <td>Stray</td>\n",
       "      <td>Normal</td>\n",
       "      <td>Dog</td>\n",
       "      <td>Intact Male</td>\n",
       "      <td>1 year</td>\n",
       "      <td>Pit Bull Mix</td>\n",
       "      <td>Fawn/White</td>\n",
       "    </tr>\n",
       "    <tr>\n",
       "      <th>18626</th>\n",
       "      <td>A712944</td>\n",
       "      <td>Blue</td>\n",
       "      <td>09/30/15</td>\n",
       "      <td>6:59PM</td>\n",
       "      <td>Austin (TX)</td>\n",
       "      <td>Public Assist</td>\n",
       "      <td>Normal</td>\n",
       "      <td>Dog</td>\n",
       "      <td>Intact Male</td>\n",
       "      <td>6 months</td>\n",
       "      <td>Rottweiler Mix</td>\n",
       "      <td>Brown</td>\n",
       "    </tr>\n",
       "  </tbody>\n",
       "</table>\n",
       "</div>"
      ],
      "text/plain": [
       "      Animal ID   Name Intake Date Intake Time  \\\n",
       "18622   A712970    NaN    09/30/15      5:42PM   \n",
       "18623   A712971    NaN    09/30/15      5:48PM   \n",
       "18624   A712972  Julie    09/30/15      5:53PM   \n",
       "18625   A692521   Coby    09/30/15      6:13PM   \n",
       "18626   A712944   Blue    09/30/15      6:59PM   \n",
       "\n",
       "                               Found Location    Intake Type Intake Condition  \\\n",
       "18622  Jamestown Dr & Maine Dr in Austin (TX)          Stray           Normal   \n",
       "18623     14517 Amy Francis St in Austin (TX)          Stray           Normal   \n",
       "18624               6911 Ih 35 in Austin (TX)          Stray           Normal   \n",
       "18625            1405 E 4Th St in Austin (TX)          Stray           Normal   \n",
       "18626                             Austin (TX)  Public Assist           Normal   \n",
       "\n",
       "      Animal Type Sex upon Intake Age upon Intake                    Breed  \\\n",
       "18622         Dog   Intact Female        5 months  Chihuahua Shorthair Mix   \n",
       "18623         Cat   Intact Female         3 years   Domestic Shorthair Mix   \n",
       "18624         Dog   Spayed Female         5 years           Toy Poodle Mix   \n",
       "18625         Dog     Intact Male          1 year             Pit Bull Mix   \n",
       "18626         Dog     Intact Male        6 months           Rottweiler Mix   \n",
       "\n",
       "              Color  \n",
       "18622      Tricolor  \n",
       "18623  Torbie/White  \n",
       "18624         Cream  \n",
       "18625    Fawn/White  \n",
       "18626         Brown  "
      ]
     },
     "execution_count": 796,
     "metadata": {},
     "output_type": "execute_result"
    }
   ],
   "source": [
    "intakes.tail()"
   ]
  },
  {
   "cell_type": "code",
   "execution_count": 797,
   "metadata": {
    "collapsed": false
   },
   "outputs": [
    {
     "data": {
      "text/html": [
       "<div>\n",
       "<table border=\"1\" class=\"dataframe\">\n",
       "  <thead>\n",
       "    <tr style=\"text-align: right;\">\n",
       "      <th></th>\n",
       "      <th>Animal ID</th>\n",
       "      <th>Name</th>\n",
       "      <th>Outcome Date</th>\n",
       "      <th>Outcome Time</th>\n",
       "      <th>Outcome Type</th>\n",
       "      <th>Outcome Subtype</th>\n",
       "      <th>Animal Type</th>\n",
       "      <th>Sex upon Outcome</th>\n",
       "      <th>Age upon Outcome</th>\n",
       "      <th>Breed</th>\n",
       "      <th>Color</th>\n",
       "    </tr>\n",
       "  </thead>\n",
       "  <tbody>\n",
       "    <tr>\n",
       "      <th>0</th>\n",
       "      <td>A689146</td>\n",
       "      <td>NaN</td>\n",
       "      <td>10/01/14</td>\n",
       "      <td>7:54AM</td>\n",
       "      <td>Euthanasia</td>\n",
       "      <td>Rabies Risk</td>\n",
       "      <td>Cat</td>\n",
       "      <td>Intact Female</td>\n",
       "      <td>1 month</td>\n",
       "      <td>Domestic Shorthair Mix</td>\n",
       "      <td>Tortie/Calico</td>\n",
       "    </tr>\n",
       "    <tr>\n",
       "      <th>1</th>\n",
       "      <td>A689208</td>\n",
       "      <td>NaN</td>\n",
       "      <td>10/01/14</td>\n",
       "      <td>7:56AM</td>\n",
       "      <td>Euthanasia</td>\n",
       "      <td>Suffering</td>\n",
       "      <td>Cat</td>\n",
       "      <td>Neutered Male</td>\n",
       "      <td>2 years</td>\n",
       "      <td>Domestic Shorthair Mix</td>\n",
       "      <td>White/Brown Tabby</td>\n",
       "    </tr>\n",
       "    <tr>\n",
       "      <th>2</th>\n",
       "      <td>A689225</td>\n",
       "      <td>NaN</td>\n",
       "      <td>10/01/14</td>\n",
       "      <td>9:00AM</td>\n",
       "      <td>Transfer</td>\n",
       "      <td>SCRP</td>\n",
       "      <td>Cat</td>\n",
       "      <td>Intact Female</td>\n",
       "      <td>6 years</td>\n",
       "      <td>Domestic Medium Hair Mix</td>\n",
       "      <td>Brown Tabby</td>\n",
       "    </tr>\n",
       "    <tr>\n",
       "      <th>3</th>\n",
       "      <td>A689202</td>\n",
       "      <td>NaN</td>\n",
       "      <td>10/01/14</td>\n",
       "      <td>11:30AM</td>\n",
       "      <td>Euthanasia</td>\n",
       "      <td>Rabies Risk</td>\n",
       "      <td>Other</td>\n",
       "      <td>Unknown</td>\n",
       "      <td>6 months</td>\n",
       "      <td>Bat Mix</td>\n",
       "      <td>Gray</td>\n",
       "    </tr>\n",
       "    <tr>\n",
       "      <th>4</th>\n",
       "      <td>A684326</td>\n",
       "      <td>Kelvi</td>\n",
       "      <td>10/01/14</td>\n",
       "      <td>11:37AM</td>\n",
       "      <td>Adoption</td>\n",
       "      <td>NaN</td>\n",
       "      <td>Dog</td>\n",
       "      <td>Spayed Female</td>\n",
       "      <td>5 years</td>\n",
       "      <td>Border Collie Mix</td>\n",
       "      <td>Black/White</td>\n",
       "    </tr>\n",
       "  </tbody>\n",
       "</table>\n",
       "</div>"
      ],
      "text/plain": [
       "  Animal ID   Name Outcome Date Outcome Time Outcome Type Outcome Subtype  \\\n",
       "0   A689146    NaN     10/01/14       7:54AM   Euthanasia     Rabies Risk   \n",
       "1   A689208    NaN     10/01/14       7:56AM   Euthanasia       Suffering   \n",
       "2   A689225    NaN     10/01/14       9:00AM     Transfer            SCRP   \n",
       "3   A689202    NaN     10/01/14      11:30AM   Euthanasia     Rabies Risk   \n",
       "4   A684326  Kelvi     10/01/14      11:37AM     Adoption             NaN   \n",
       "\n",
       "  Animal Type Sex upon Outcome Age upon Outcome                     Breed  \\\n",
       "0         Cat    Intact Female          1 month    Domestic Shorthair Mix   \n",
       "1         Cat    Neutered Male          2 years    Domestic Shorthair Mix   \n",
       "2         Cat    Intact Female          6 years  Domestic Medium Hair Mix   \n",
       "3       Other          Unknown         6 months                   Bat Mix   \n",
       "4         Dog    Spayed Female          5 years         Border Collie Mix   \n",
       "\n",
       "               Color  \n",
       "0      Tortie/Calico  \n",
       "1  White/Brown Tabby  \n",
       "2        Brown Tabby  \n",
       "3               Gray  \n",
       "4        Black/White  "
      ]
     },
     "execution_count": 797,
     "metadata": {},
     "output_type": "execute_result"
    }
   ],
   "source": [
    "outcomes.head()"
   ]
  },
  {
   "cell_type": "code",
   "execution_count": 798,
   "metadata": {
    "collapsed": false
   },
   "outputs": [
    {
     "data": {
      "text/html": [
       "<div>\n",
       "<table border=\"1\" class=\"dataframe\">\n",
       "  <thead>\n",
       "    <tr style=\"text-align: right;\">\n",
       "      <th></th>\n",
       "      <th>Animal ID</th>\n",
       "      <th>Name</th>\n",
       "      <th>Outcome Date</th>\n",
       "      <th>Outcome Time</th>\n",
       "      <th>Outcome Type</th>\n",
       "      <th>Outcome Subtype</th>\n",
       "      <th>Animal Type</th>\n",
       "      <th>Sex upon Outcome</th>\n",
       "      <th>Age upon Outcome</th>\n",
       "      <th>Breed</th>\n",
       "      <th>Color</th>\n",
       "    </tr>\n",
       "  </thead>\n",
       "  <tbody>\n",
       "    <tr>\n",
       "      <th>18442</th>\n",
       "      <td>A711454</td>\n",
       "      <td>NaN</td>\n",
       "      <td>09/30/15</td>\n",
       "      <td>6:18PM</td>\n",
       "      <td>Adoption</td>\n",
       "      <td>NaN</td>\n",
       "      <td>Cat</td>\n",
       "      <td>Neutered Male</td>\n",
       "      <td>1 month</td>\n",
       "      <td>Domestic Medium Hair Mix</td>\n",
       "      <td>Orange Tabby/White</td>\n",
       "    </tr>\n",
       "    <tr>\n",
       "      <th>18443</th>\n",
       "      <td>A712651</td>\n",
       "      <td>NaN</td>\n",
       "      <td>09/30/15</td>\n",
       "      <td>6:30PM</td>\n",
       "      <td>Transfer</td>\n",
       "      <td>Partner</td>\n",
       "      <td>Dog</td>\n",
       "      <td>Spayed Female</td>\n",
       "      <td>4 years</td>\n",
       "      <td>Dachshund Mix</td>\n",
       "      <td>Blue Merle/Tan</td>\n",
       "    </tr>\n",
       "    <tr>\n",
       "      <th>18444</th>\n",
       "      <td>A712652</td>\n",
       "      <td>NaN</td>\n",
       "      <td>09/30/15</td>\n",
       "      <td>6:30PM</td>\n",
       "      <td>Transfer</td>\n",
       "      <td>Partner</td>\n",
       "      <td>Dog</td>\n",
       "      <td>Spayed Female</td>\n",
       "      <td>4 years</td>\n",
       "      <td>Dachshund Mix</td>\n",
       "      <td>Black/Tan</td>\n",
       "    </tr>\n",
       "    <tr>\n",
       "      <th>18445</th>\n",
       "      <td>A712701</td>\n",
       "      <td>NaN</td>\n",
       "      <td>09/30/15</td>\n",
       "      <td>6:45PM</td>\n",
       "      <td>Adoption</td>\n",
       "      <td>NaN</td>\n",
       "      <td>Dog</td>\n",
       "      <td>Spayed Female</td>\n",
       "      <td>3 months</td>\n",
       "      <td>Chihuahua Shorthair Mix</td>\n",
       "      <td>Black Brindle</td>\n",
       "    </tr>\n",
       "    <tr>\n",
       "      <th>18446</th>\n",
       "      <td>A707975</td>\n",
       "      <td>NaN</td>\n",
       "      <td>09/30/15</td>\n",
       "      <td>6:54PM</td>\n",
       "      <td>Adoption</td>\n",
       "      <td>NaN</td>\n",
       "      <td>Cat</td>\n",
       "      <td>Neutered Male</td>\n",
       "      <td>3 months</td>\n",
       "      <td>Domestic Shorthair Mix</td>\n",
       "      <td>Blue/White</td>\n",
       "    </tr>\n",
       "  </tbody>\n",
       "</table>\n",
       "</div>"
      ],
      "text/plain": [
       "      Animal ID Name Outcome Date Outcome Time Outcome Type Outcome Subtype  \\\n",
       "18442   A711454  NaN     09/30/15       6:18PM     Adoption             NaN   \n",
       "18443   A712651  NaN     09/30/15       6:30PM     Transfer         Partner   \n",
       "18444   A712652  NaN     09/30/15       6:30PM     Transfer         Partner   \n",
       "18445   A712701  NaN     09/30/15       6:45PM     Adoption             NaN   \n",
       "18446   A707975  NaN     09/30/15       6:54PM     Adoption             NaN   \n",
       "\n",
       "      Animal Type Sex upon Outcome Age upon Outcome                     Breed  \\\n",
       "18442         Cat    Neutered Male          1 month  Domestic Medium Hair Mix   \n",
       "18443         Dog    Spayed Female          4 years             Dachshund Mix   \n",
       "18444         Dog    Spayed Female          4 years             Dachshund Mix   \n",
       "18445         Dog    Spayed Female         3 months   Chihuahua Shorthair Mix   \n",
       "18446         Cat    Neutered Male         3 months    Domestic Shorthair Mix   \n",
       "\n",
       "                    Color  \n",
       "18442  Orange Tabby/White  \n",
       "18443      Blue Merle/Tan  \n",
       "18444           Black/Tan  \n",
       "18445       Black Brindle  \n",
       "18446          Blue/White  "
      ]
     },
     "execution_count": 798,
     "metadata": {},
     "output_type": "execute_result"
    }
   ],
   "source": [
    "outcomes.tail()"
   ]
  },
  {
   "cell_type": "code",
   "execution_count": 799,
   "metadata": {
    "collapsed": false
   },
   "outputs": [
    {
     "data": {
      "text/html": [
       "<div>\n",
       "<table border=\"1\" class=\"dataframe\">\n",
       "  <thead>\n",
       "    <tr style=\"text-align: right;\">\n",
       "      <th></th>\n",
       "      <th>Animal ID</th>\n",
       "      <th>Name</th>\n",
       "      <th>Intake Date</th>\n",
       "      <th>Intake Time</th>\n",
       "      <th>Found Location</th>\n",
       "      <th>Intake Type</th>\n",
       "      <th>Intake Condition</th>\n",
       "      <th>Animal Type</th>\n",
       "      <th>Sex upon Intake</th>\n",
       "      <th>Age upon Intake</th>\n",
       "      <th>Breed</th>\n",
       "      <th>Color</th>\n",
       "    </tr>\n",
       "  </thead>\n",
       "  <tbody>\n",
       "    <tr>\n",
       "      <th>count</th>\n",
       "      <td>18627</td>\n",
       "      <td>12891</td>\n",
       "      <td>18627</td>\n",
       "      <td>18627</td>\n",
       "      <td>18627</td>\n",
       "      <td>18627</td>\n",
       "      <td>18627</td>\n",
       "      <td>18627</td>\n",
       "      <td>18627</td>\n",
       "      <td>18627</td>\n",
       "      <td>18627</td>\n",
       "      <td>18627</td>\n",
       "    </tr>\n",
       "    <tr>\n",
       "      <th>unique</th>\n",
       "      <td>17546</td>\n",
       "      <td>5759</td>\n",
       "      <td>365</td>\n",
       "      <td>1073</td>\n",
       "      <td>9561</td>\n",
       "      <td>33</td>\n",
       "      <td>18</td>\n",
       "      <td>9</td>\n",
       "      <td>10</td>\n",
       "      <td>49</td>\n",
       "      <td>1152</td>\n",
       "      <td>335</td>\n",
       "    </tr>\n",
       "    <tr>\n",
       "      <th>top</th>\n",
       "      <td>A704004</td>\n",
       "      <td>Bella</td>\n",
       "      <td>05/27/15</td>\n",
       "      <td>11:01AM</td>\n",
       "      <td>Austin (TX)</td>\n",
       "      <td>Stray</td>\n",
       "      <td>Normal</td>\n",
       "      <td>Dog</td>\n",
       "      <td>Intact Male</td>\n",
       "      <td>1 year</td>\n",
       "      <td>Domestic Shorthair Mix</td>\n",
       "      <td>Black/White</td>\n",
       "    </tr>\n",
       "    <tr>\n",
       "      <th>freq</th>\n",
       "      <td>5</td>\n",
       "      <td>85</td>\n",
       "      <td>118</td>\n",
       "      <td>114</td>\n",
       "      <td>3034</td>\n",
       "      <td>13509</td>\n",
       "      <td>16256</td>\n",
       "      <td>10394</td>\n",
       "      <td>5805</td>\n",
       "      <td>2985</td>\n",
       "      <td>5849</td>\n",
       "      <td>1965</td>\n",
       "    </tr>\n",
       "  </tbody>\n",
       "</table>\n",
       "</div>"
      ],
      "text/plain": [
       "       Animal ID   Name Intake Date Intake Time Found Location Intake Type  \\\n",
       "count      18627  12891       18627       18627          18627       18627   \n",
       "unique     17546   5759         365        1073           9561          33   \n",
       "top      A704004  Bella    05/27/15     11:01AM    Austin (TX)       Stray   \n",
       "freq           5     85         118         114           3034       13509   \n",
       "\n",
       "       Intake Condition Animal Type Sex upon Intake Age upon Intake  \\\n",
       "count             18627       18627           18627           18627   \n",
       "unique               18           9              10              49   \n",
       "top              Normal         Dog     Intact Male          1 year   \n",
       "freq              16256       10394            5805            2985   \n",
       "\n",
       "                         Breed        Color  \n",
       "count                    18627        18627  \n",
       "unique                    1152          335  \n",
       "top     Domestic Shorthair Mix  Black/White  \n",
       "freq                      5849         1965  "
      ]
     },
     "execution_count": 799,
     "metadata": {},
     "output_type": "execute_result"
    }
   ],
   "source": [
    "intakes.describe()"
   ]
  },
  {
   "cell_type": "code",
   "execution_count": 800,
   "metadata": {
    "collapsed": false
   },
   "outputs": [
    {
     "data": {
      "text/html": [
       "<div>\n",
       "<table border=\"1\" class=\"dataframe\">\n",
       "  <thead>\n",
       "    <tr style=\"text-align: right;\">\n",
       "      <th></th>\n",
       "      <th>Animal ID</th>\n",
       "      <th>Name</th>\n",
       "      <th>Outcome Date</th>\n",
       "      <th>Outcome Time</th>\n",
       "      <th>Outcome Type</th>\n",
       "      <th>Outcome Subtype</th>\n",
       "      <th>Animal Type</th>\n",
       "      <th>Sex upon Outcome</th>\n",
       "      <th>Age upon Outcome</th>\n",
       "      <th>Breed</th>\n",
       "      <th>Color</th>\n",
       "    </tr>\n",
       "  </thead>\n",
       "  <tbody>\n",
       "    <tr>\n",
       "      <th>count</th>\n",
       "      <td>18447</td>\n",
       "      <td>12725</td>\n",
       "      <td>18447</td>\n",
       "      <td>18447</td>\n",
       "      <td>18447</td>\n",
       "      <td>9020</td>\n",
       "      <td>18447</td>\n",
       "      <td>18447</td>\n",
       "      <td>18447</td>\n",
       "      <td>18447</td>\n",
       "      <td>18447</td>\n",
       "    </tr>\n",
       "    <tr>\n",
       "      <th>unique</th>\n",
       "      <td>17358</td>\n",
       "      <td>5635</td>\n",
       "      <td>365</td>\n",
       "      <td>815</td>\n",
       "      <td>8</td>\n",
       "      <td>18</td>\n",
       "      <td>5</td>\n",
       "      <td>5</td>\n",
       "      <td>43</td>\n",
       "      <td>1141</td>\n",
       "      <td>307</td>\n",
       "    </tr>\n",
       "    <tr>\n",
       "      <th>top</th>\n",
       "      <td>A707114</td>\n",
       "      <td>Bella</td>\n",
       "      <td>07/18/15</td>\n",
       "      <td>9:00AM</td>\n",
       "      <td>Adoption</td>\n",
       "      <td>Partner</td>\n",
       "      <td>Dog</td>\n",
       "      <td>Neutered Male</td>\n",
       "      <td>1 year</td>\n",
       "      <td>Domestic Shorthair Mix</td>\n",
       "      <td>Black/White</td>\n",
       "    </tr>\n",
       "    <tr>\n",
       "      <th>freq</th>\n",
       "      <td>5</td>\n",
       "      <td>82</td>\n",
       "      <td>151</td>\n",
       "      <td>995</td>\n",
       "      <td>7235</td>\n",
       "      <td>4954</td>\n",
       "      <td>10484</td>\n",
       "      <td>6473</td>\n",
       "      <td>3045</td>\n",
       "      <td>5661</td>\n",
       "      <td>1962</td>\n",
       "    </tr>\n",
       "  </tbody>\n",
       "</table>\n",
       "</div>"
      ],
      "text/plain": [
       "       Animal ID   Name Outcome Date Outcome Time Outcome Type  \\\n",
       "count      18447  12725        18447        18447        18447   \n",
       "unique     17358   5635          365          815            8   \n",
       "top      A707114  Bella     07/18/15       9:00AM     Adoption   \n",
       "freq           5     82          151          995         7235   \n",
       "\n",
       "       Outcome Subtype Animal Type Sex upon Outcome Age upon Outcome  \\\n",
       "count             9020       18447            18447            18447   \n",
       "unique              18           5                5               43   \n",
       "top            Partner         Dog    Neutered Male           1 year   \n",
       "freq              4954       10484             6473             3045   \n",
       "\n",
       "                         Breed        Color  \n",
       "count                    18447        18447  \n",
       "unique                    1141          307  \n",
       "top     Domestic Shorthair Mix  Black/White  \n",
       "freq                      5661         1962  "
      ]
     },
     "execution_count": 800,
     "metadata": {},
     "output_type": "execute_result"
    }
   ],
   "source": [
    "outcomes.describe()"
   ]
  },
  {
   "cell_type": "markdown",
   "metadata": {},
   "source": [
    "## Part 1: Tidying Data\n",
    "- Handle null values (You can drop, fill, etc., but make sure you make a comment explaining your choice)"
   ]
  },
  {
   "cell_type": "code",
   "execution_count": 824,
   "metadata": {
    "collapsed": false
   },
   "outputs": [
    {
     "data": {
      "text/plain": [
       "id             0\n",
       "Name           0\n",
       "found_loc      0\n",
       "type           0\n",
       "condition      0\n",
       "animal_type    0\n",
       "sex            0\n",
       "age            0\n",
       "Breed          0\n",
       "Color          0\n",
       "datetime       0\n",
       "dtype: int64"
      ]
     },
     "execution_count": 824,
     "metadata": {},
     "output_type": "execute_result"
    }
   ],
   "source": [
    "intakes.isnull().sum()\n",
    "#Name is the only column with null values\n",
    "#Since this is not statistical, we can fill with \"None\"\n",
    "\n",
    "intakes.fillna('None', inplace=True)"
   ]
  },
  {
   "cell_type": "code",
   "execution_count": 802,
   "metadata": {
    "collapsed": false
   },
   "outputs": [],
   "source": [
    "outcomes.isnull().sum()\n",
    "#Name and Outcome Subtype have null values\n",
    "#Again, not statistical, so can fill with \"None\"\n",
    "\n",
    "outcomes.fillna('None', inplace=True)"
   ]
  },
  {
   "cell_type": "markdown",
   "metadata": {},
   "source": [
    "- Rename any columns that could make more sense (or need to be one word)"
   ]
  },
  {
   "cell_type": "code",
   "execution_count": 803,
   "metadata": {
    "collapsed": false
   },
   "outputs": [
    {
     "data": {
      "text/plain": [
       "Index([u'Animal ID', u'Name', u'Intake Date', u'Intake Time',\n",
       "       u'Found Location', u'Intake Type', u'Intake Condition', u'Animal Type',\n",
       "       u'Sex upon Intake', u'Age upon Intake', u'Breed', u'Color'],\n",
       "      dtype='object')"
      ]
     },
     "execution_count": 803,
     "metadata": {},
     "output_type": "execute_result"
    }
   ],
   "source": [
    "intakes.columns"
   ]
  },
  {
   "cell_type": "code",
   "execution_count": 804,
   "metadata": {
    "collapsed": false
   },
   "outputs": [],
   "source": [
    "intakes.rename(columns={'Animal ID':'id', 'Intake Date':'date', 'Intake Time':'time', 'Found Location':'found_loc',\n",
    "               'Intake Type':'type', 'Intake Condition':'condition', 'Animal Type':'animal_type', 'Sex upon Intake':'sex', \n",
    "                'Age upon Intake':'age'}, inplace=True)"
   ]
  },
  {
   "cell_type": "code",
   "execution_count": 805,
   "metadata": {
    "collapsed": false
   },
   "outputs": [
    {
     "data": {
      "text/plain": [
       "Index([u'Animal ID', u'Name', u'Outcome Date', u'Outcome Time',\n",
       "       u'Outcome Type', u'Outcome Subtype', u'Animal Type',\n",
       "       u'Sex upon Outcome', u'Age upon Outcome', u'Breed', u'Color'],\n",
       "      dtype='object')"
      ]
     },
     "execution_count": 805,
     "metadata": {},
     "output_type": "execute_result"
    }
   ],
   "source": [
    "outcomes.columns"
   ]
  },
  {
   "cell_type": "code",
   "execution_count": 806,
   "metadata": {
    "collapsed": true
   },
   "outputs": [],
   "source": [
    "outcomes.rename(columns={'Animal ID':'id', 'Outcome Date':'date', 'Outcome Time':'time',\n",
    "               'Outcome Type':'type', 'Outcome Subtype':'subtype', 'Animal Type':'animal_type', 'Sex upon Outcome':'sex', \n",
    "                'Age upon Outcome':'age'}, inplace=True)"
   ]
  },
  {
   "cell_type": "markdown",
   "metadata": {},
   "source": [
    "- Group the date and time columns into a single column and convert it to datetime objects (check out pandas to_datetime function for this)"
   ]
  },
  {
   "cell_type": "code",
   "execution_count": 807,
   "metadata": {
    "collapsed": false
   },
   "outputs": [],
   "source": [
    "intakes['datetime'] = pd.to_datetime(intakes.date + ' ' + intakes.time)"
   ]
  },
  {
   "cell_type": "code",
   "execution_count": 808,
   "metadata": {
    "collapsed": false
   },
   "outputs": [],
   "source": [
    "outcomes['datetime'] = pd.to_datetime(outcomes.date + ' ' + outcomes.time)"
   ]
  },
  {
   "cell_type": "code",
   "execution_count": 809,
   "metadata": {
    "collapsed": false
   },
   "outputs": [],
   "source": [
    "intakes.drop('date', axis=1, inplace=True)\n",
    "intakes.drop('time', axis=1, inplace=True)\n",
    "outcomes.drop('date', axis=1, inplace=True)\n",
    "outcomes.drop('time', axis=1, inplace=True)"
   ]
  },
  {
   "cell_type": "markdown",
   "metadata": {},
   "source": [
    "- Convert the data types of any columns in each data frame that should be different"
   ]
  },
  {
   "cell_type": "code",
   "execution_count": 810,
   "metadata": {
    "collapsed": false
   },
   "outputs": [
    {
     "data": {
      "text/plain": [
       "id                     object\n",
       "Name                   object\n",
       "type                   object\n",
       "subtype                object\n",
       "animal_type            object\n",
       "sex                    object\n",
       "age                    object\n",
       "Breed                  object\n",
       "Color                  object\n",
       "datetime       datetime64[ns]\n",
       "dtype: object"
      ]
     },
     "execution_count": 810,
     "metadata": {},
     "output_type": "execute_result"
    }
   ],
   "source": [
    "intakes.dtypes\n",
    "outcomes.dtypes\n",
    "#All other data types look correct, unless we wanted to make age numeric"
   ]
  },
  {
   "cell_type": "markdown",
   "metadata": {},
   "source": [
    "- Change the values in the breed and color columns into lists (Reword to indicate that lists mess up drop_duplicates, or move this task to later in lab)"
   ]
  },
  {
   "cell_type": "code",
   "execution_count": 811,
   "metadata": {
    "collapsed": false
   },
   "outputs": [],
   "source": [
    "def makelist(x):\n",
    "    return str(x.split('/'))\n",
    "    \n",
    "intakes.Breed = intakes.Breed.apply(makelist)\n",
    "intakes.Color = intakes.Color.apply(makelist)\n",
    "outcomes.Breed = outcomes.Breed.apply(makelist)\n",
    "outcomes.Color = outcomes.Color.apply(makelist)"
   ]
  },
  {
   "cell_type": "markdown",
   "metadata": {},
   "source": [
    "## Part 2: Assemble Descriptive Data"
   ]
  },
  {
   "cell_type": "markdown",
   "metadata": {},
   "source": [
    "- Make a data frame with all of the permanent descriptive data (animal id, name, animal type, breed, color) from each Data Frame \n",
    "- Consider: What is the best way to include data from both data frames? Merge/Join/Concatenate? How?"
   ]
  },
  {
   "cell_type": "code",
   "execution_count": 812,
   "metadata": {
    "collapsed": false
   },
   "outputs": [
    {
     "name": "stdout",
     "output_type": "stream",
     "text": [
      "37074\n"
     ]
    }
   ],
   "source": [
    "features = ['id','Name','animal_type','Breed','Color']\n",
    "intakes_descrip = intakes[features]\n",
    "outcomes_descrip = outcomes[features]\n",
    "\n",
    "descrip = pd.concat([intakes_descrip, outcomes_descrip])\n",
    "#We concatenate here because we're not trying to add any new data to existing rows, we're just sticking the data frames together\n",
    "print len(descrip)"
   ]
  },
  {
   "cell_type": "markdown",
   "metadata": {},
   "source": [
    "### Brief detour into merging clarification"
   ]
  },
  {
   "cell_type": "code",
   "execution_count": 896,
   "metadata": {
    "collapsed": false
   },
   "outputs": [
    {
     "data": {
      "text/html": [
       "<div>\n",
       "<table border=\"1\" class=\"dataframe\">\n",
       "  <thead>\n",
       "    <tr style=\"text-align: right;\">\n",
       "      <th></th>\n",
       "      <th>name</th>\n",
       "    </tr>\n",
       "    <tr>\n",
       "      <th>code</th>\n",
       "      <th></th>\n",
       "    </tr>\n",
       "  </thead>\n",
       "  <tbody>\n",
       "    <tr>\n",
       "      <th>A</th>\n",
       "      <td>Bob</td>\n",
       "    </tr>\n",
       "    <tr>\n",
       "      <th>B</th>\n",
       "      <td>Sam</td>\n",
       "    </tr>\n",
       "  </tbody>\n",
       "</table>\n",
       "</div>"
      ],
      "text/plain": [
       "     name\n",
       "code     \n",
       "A     Bob\n",
       "B     Sam"
      ]
     },
     "execution_count": 896,
     "metadata": {},
     "output_type": "execute_result"
    }
   ],
   "source": [
    "Left = pd.DataFrame([['A','B'],['Bob','Sam']], index=['code','name']).transpose()\n",
    "Right = pd.DataFrame([['A','B'],['Bob','Joe']], index=['code','name']).transpose()\n",
    "\n",
    "Left.set_index('code')"
   ]
  },
  {
   "cell_type": "code",
   "execution_count": 897,
   "metadata": {
    "collapsed": false
   },
   "outputs": [
    {
     "data": {
      "text/html": [
       "<div>\n",
       "<table border=\"1\" class=\"dataframe\">\n",
       "  <thead>\n",
       "    <tr style=\"text-align: right;\">\n",
       "      <th></th>\n",
       "      <th>name</th>\n",
       "    </tr>\n",
       "    <tr>\n",
       "      <th>code</th>\n",
       "      <th></th>\n",
       "    </tr>\n",
       "  </thead>\n",
       "  <tbody>\n",
       "    <tr>\n",
       "      <th>A</th>\n",
       "      <td>Bob</td>\n",
       "    </tr>\n",
       "    <tr>\n",
       "      <th>B</th>\n",
       "      <td>Joe</td>\n",
       "    </tr>\n",
       "  </tbody>\n",
       "</table>\n",
       "</div>"
      ],
      "text/plain": [
       "     name\n",
       "code     \n",
       "A     Bob\n",
       "B     Joe"
      ]
     },
     "execution_count": 897,
     "metadata": {},
     "output_type": "execute_result"
    }
   ],
   "source": [
    "Right.set_index('code')"
   ]
  },
  {
   "cell_type": "code",
   "execution_count": 899,
   "metadata": {
    "collapsed": false
   },
   "outputs": [
    {
     "data": {
      "text/html": [
       "<div>\n",
       "<table border=\"1\" class=\"dataframe\">\n",
       "  <thead>\n",
       "    <tr style=\"text-align: right;\">\n",
       "      <th></th>\n",
       "      <th>code</th>\n",
       "      <th>name</th>\n",
       "    </tr>\n",
       "  </thead>\n",
       "  <tbody>\n",
       "    <tr>\n",
       "      <th>0</th>\n",
       "      <td>A</td>\n",
       "      <td>Bob</td>\n",
       "    </tr>\n",
       "  </tbody>\n",
       "</table>\n",
       "</div>"
      ],
      "text/plain": [
       "  code name\n",
       "0    A  Bob"
      ]
     },
     "execution_count": 899,
     "metadata": {},
     "output_type": "execute_result"
    }
   ],
   "source": [
    "Left.merge(Right, how='inner')"
   ]
  },
  {
   "cell_type": "markdown",
   "metadata": {},
   "source": [
    "- You should now have lots of duplicates. Use the pandas method [drop_duplicates](http://pandas.pydata.org/pandas-docs/version/0.17.1/generated/pandas.DataFrame.drop_duplicates.html) to remove them. (This will NOT work if you have lists as values in your data frame)"
   ]
  },
  {
   "cell_type": "code",
   "execution_count": 903,
   "metadata": {
    "collapsed": false
   },
   "outputs": [
    {
     "data": {
      "text/plain": [
       "18181"
      ]
     },
     "execution_count": 903,
     "metadata": {},
     "output_type": "execute_result"
    }
   ],
   "source": [
    "descrip.drop_duplicates(inplace=True, subset='animal_id')\n",
    "len(descrip)"
   ]
  },
  {
   "cell_type": "markdown",
   "metadata": {},
   "source": [
    " - Create a column with the sex (male, female, or unknown) for each animal (hint: choose one of the original data frames, simplify the sex column, and merge on animal id)"
   ]
  },
  {
   "cell_type": "code",
   "execution_count": 814,
   "metadata": {
    "collapsed": false
   },
   "outputs": [],
   "source": [
    "def get_sex(x):\n",
    "    if 'Male' in x:\n",
    "        return 'M'\n",
    "    elif 'Female' in x:\n",
    "        return 'F'\n",
    "    else:\n",
    "        return 0\n",
    "\n",
    "descrip['sex'] = intakes.sex.apply(get_sex)"
   ]
  },
  {
   "cell_type": "markdown",
   "metadata": {},
   "source": [
    "#### Challenge goal\n",
    "- Do you have any animals that have mismatched data? Handle this so every animal has a single row describing it. "
   ]
  },
  {
   "cell_type": "code",
   "execution_count": 815,
   "metadata": {
    "collapsed": false
   },
   "outputs": [
    {
     "data": {
      "text/html": [
       "<div>\n",
       "<table border=\"1\" class=\"dataframe\">\n",
       "  <thead>\n",
       "    <tr style=\"text-align: right;\">\n",
       "      <th></th>\n",
       "      <th>id</th>\n",
       "      <th>Name</th>\n",
       "      <th>animal_type</th>\n",
       "      <th>Breed</th>\n",
       "      <th>Color</th>\n",
       "      <th>sex</th>\n",
       "    </tr>\n",
       "  </thead>\n",
       "  <tbody>\n",
       "    <tr>\n",
       "      <th>29</th>\n",
       "      <td>A689262</td>\n",
       "      <td>Chavo</td>\n",
       "      <td>Stray</td>\n",
       "      <td>['Intact Male']</td>\n",
       "      <td>['1 year']</td>\n",
       "      <td>0</td>\n",
       "    </tr>\n",
       "    <tr>\n",
       "      <th>109</th>\n",
       "      <td>A689378</td>\n",
       "      <td>None</td>\n",
       "      <td>Injured</td>\n",
       "      <td>['2 months']</td>\n",
       "      <td>['Domestic Shorthair Mix']</td>\n",
       "      <td>0</td>\n",
       "    </tr>\n",
       "    <tr>\n",
       "      <th>121</th>\n",
       "      <td>A689390</td>\n",
       "      <td>Jules</td>\n",
       "      <td>Stray</td>\n",
       "      <td>['Intact Female']</td>\n",
       "      <td>['1 year']</td>\n",
       "      <td>0</td>\n",
       "    </tr>\n",
       "    <tr>\n",
       "      <th>217</th>\n",
       "      <td>A689514</td>\n",
       "      <td>Gizmo</td>\n",
       "      <td>Normal</td>\n",
       "      <td>['1 month']</td>\n",
       "      <td>['Chihuahua Shorthair Mix']</td>\n",
       "      <td>0</td>\n",
       "    </tr>\n",
       "    <tr>\n",
       "      <th>446</th>\n",
       "      <td>A689819</td>\n",
       "      <td>Mars</td>\n",
       "      <td>Dog</td>\n",
       "      <td>['Rottweiler']</td>\n",
       "      <td>['Black', 'Brown']</td>\n",
       "      <td>M</td>\n",
       "    </tr>\n",
       "    <tr>\n",
       "      <th>914</th>\n",
       "      <td>A690374</td>\n",
       "      <td>*Mikey</td>\n",
       "      <td>Injured</td>\n",
       "      <td>['1 month']</td>\n",
       "      <td>['Domestic Shorthair Mix']</td>\n",
       "      <td>0</td>\n",
       "    </tr>\n",
       "    <tr>\n",
       "      <th>1869</th>\n",
       "      <td>A691690</td>\n",
       "      <td>*Swizzle</td>\n",
       "      <td>Stray</td>\n",
       "      <td>['Intact Female']</td>\n",
       "      <td>['6 months']</td>\n",
       "      <td>0</td>\n",
       "    </tr>\n",
       "    <tr>\n",
       "      <th>1878</th>\n",
       "      <td>A691700</td>\n",
       "      <td>None</td>\n",
       "      <td>Normal</td>\n",
       "      <td>['2 months']</td>\n",
       "      <td>['Domestic Shorthair Mix']</td>\n",
       "      <td>0</td>\n",
       "    </tr>\n",
       "    <tr>\n",
       "      <th>1893</th>\n",
       "      <td>A691713</td>\n",
       "      <td>*Bailey</td>\n",
       "      <td>Stray</td>\n",
       "      <td>['Intact Male']</td>\n",
       "      <td>['2 years']</td>\n",
       "      <td>0</td>\n",
       "    </tr>\n",
       "    <tr>\n",
       "      <th>1894</th>\n",
       "      <td>A691714</td>\n",
       "      <td>Archer</td>\n",
       "      <td>Stray</td>\n",
       "      <td>['Intact Male']</td>\n",
       "      <td>['2 years']</td>\n",
       "      <td>0</td>\n",
       "    </tr>\n",
       "    <tr>\n",
       "      <th>1915</th>\n",
       "      <td>A691737</td>\n",
       "      <td>None</td>\n",
       "      <td>Stray</td>\n",
       "      <td>['Intact Female']</td>\n",
       "      <td>['1 year']</td>\n",
       "      <td>0</td>\n",
       "    </tr>\n",
       "    <tr>\n",
       "      <th>1916</th>\n",
       "      <td>A691736</td>\n",
       "      <td>None</td>\n",
       "      <td>Stray</td>\n",
       "      <td>['Spayed Female']</td>\n",
       "      <td>['1 year']</td>\n",
       "      <td>0</td>\n",
       "    </tr>\n",
       "    <tr>\n",
       "      <th>2086</th>\n",
       "      <td>A691939</td>\n",
       "      <td>*Julie</td>\n",
       "      <td>Stray</td>\n",
       "      <td>['Spayed Female']</td>\n",
       "      <td>['1 year']</td>\n",
       "      <td>0</td>\n",
       "    </tr>\n",
       "    <tr>\n",
       "      <th>2088</th>\n",
       "      <td>A691944</td>\n",
       "      <td>Rosie</td>\n",
       "      <td>Normal</td>\n",
       "      <td>['4 years']</td>\n",
       "      <td>['Australian Cattle Dog Mix']</td>\n",
       "      <td>0</td>\n",
       "    </tr>\n",
       "    <tr>\n",
       "      <th>2165</th>\n",
       "      <td>A692077</td>\n",
       "      <td>*Sasha</td>\n",
       "      <td>Normal</td>\n",
       "      <td>['4 years']</td>\n",
       "      <td>['Beagle Mix']</td>\n",
       "      <td>0</td>\n",
       "    </tr>\n",
       "    <tr>\n",
       "      <th>2201</th>\n",
       "      <td>A692118</td>\n",
       "      <td>Kilah</td>\n",
       "      <td>Stray</td>\n",
       "      <td>['Intact Female']</td>\n",
       "      <td>['3 months']</td>\n",
       "      <td>0</td>\n",
       "    </tr>\n",
       "    <tr>\n",
       "      <th>2205</th>\n",
       "      <td>A692122</td>\n",
       "      <td>None</td>\n",
       "      <td>Stray</td>\n",
       "      <td>['Unknown']</td>\n",
       "      <td>['4 weeks']</td>\n",
       "      <td>0</td>\n",
       "    </tr>\n",
       "    <tr>\n",
       "      <th>2430</th>\n",
       "      <td>A692413</td>\n",
       "      <td>Dexter</td>\n",
       "      <td>Stray</td>\n",
       "      <td>['Intact Male']</td>\n",
       "      <td>['2 years']</td>\n",
       "      <td>0</td>\n",
       "    </tr>\n",
       "    <tr>\n",
       "      <th>2970</th>\n",
       "      <td>A691714</td>\n",
       "      <td>Archer</td>\n",
       "      <td>Dog</td>\n",
       "      <td>['Chihuahua Shorthair Mix']</td>\n",
       "      <td>['Tricolor']</td>\n",
       "      <td>M</td>\n",
       "    </tr>\n",
       "    <tr>\n",
       "      <th>3069</th>\n",
       "      <td>A693236</td>\n",
       "      <td>None</td>\n",
       "      <td>Normal</td>\n",
       "      <td>['1 year']</td>\n",
       "      <td>['Domestic Shorthair Mix']</td>\n",
       "      <td>0</td>\n",
       "    </tr>\n",
       "    <tr>\n",
       "      <th>3285</th>\n",
       "      <td>A693499</td>\n",
       "      <td>*Froggie</td>\n",
       "      <td>Dog</td>\n",
       "      <td>['Boxer Mix']</td>\n",
       "      <td>['Tan']</td>\n",
       "      <td>F</td>\n",
       "    </tr>\n",
       "    <tr>\n",
       "      <th>3645</th>\n",
       "      <td>A693938</td>\n",
       "      <td>King</td>\n",
       "      <td>Dog</td>\n",
       "      <td>['Pit Bull Mix']</td>\n",
       "      <td>['Tan', 'White']</td>\n",
       "      <td>M</td>\n",
       "    </tr>\n",
       "    <tr>\n",
       "      <th>3819</th>\n",
       "      <td>A694159</td>\n",
       "      <td>*Gary</td>\n",
       "      <td>Normal</td>\n",
       "      <td>['1 year']</td>\n",
       "      <td>['Queensland Heeler Mix']</td>\n",
       "      <td>0</td>\n",
       "    </tr>\n",
       "    <tr>\n",
       "      <th>4055</th>\n",
       "      <td>A695818</td>\n",
       "      <td>Shadow</td>\n",
       "      <td>Stray</td>\n",
       "      <td>['Intact Female']</td>\n",
       "      <td>['1 month']</td>\n",
       "      <td>0</td>\n",
       "    </tr>\n",
       "    <tr>\n",
       "      <th>4064</th>\n",
       "      <td>A694456</td>\n",
       "      <td>None</td>\n",
       "      <td>Dog</td>\n",
       "      <td>['Miniature Poodle Mix']</td>\n",
       "      <td>['Apricot']</td>\n",
       "      <td>M</td>\n",
       "    </tr>\n",
       "    <tr>\n",
       "      <th>4173</th>\n",
       "      <td>A694590</td>\n",
       "      <td>Snowbelle</td>\n",
       "      <td>Stray</td>\n",
       "      <td>['Intact Female']</td>\n",
       "      <td>['2 months']</td>\n",
       "      <td>0</td>\n",
       "    </tr>\n",
       "    <tr>\n",
       "      <th>4408</th>\n",
       "      <td>A695817</td>\n",
       "      <td>None</td>\n",
       "      <td>Stray</td>\n",
       "      <td>['Spayed Female']</td>\n",
       "      <td>['4 years']</td>\n",
       "      <td>0</td>\n",
       "    </tr>\n",
       "    <tr>\n",
       "      <th>4479</th>\n",
       "      <td>A695060</td>\n",
       "      <td>*Sweet Pea</td>\n",
       "      <td>Stray</td>\n",
       "      <td>['Intact Female']</td>\n",
       "      <td>['6 months']</td>\n",
       "      <td>0</td>\n",
       "    </tr>\n",
       "    <tr>\n",
       "      <th>4731</th>\n",
       "      <td>A695411</td>\n",
       "      <td>None</td>\n",
       "      <td>Stray</td>\n",
       "      <td>['Intact Female']</td>\n",
       "      <td>['1 year']</td>\n",
       "      <td>0</td>\n",
       "    </tr>\n",
       "    <tr>\n",
       "      <th>4739</th>\n",
       "      <td>A695423</td>\n",
       "      <td>Rosie</td>\n",
       "      <td>Stray</td>\n",
       "      <td>['Intact Female']</td>\n",
       "      <td>['1 year']</td>\n",
       "      <td>0</td>\n",
       "    </tr>\n",
       "    <tr>\n",
       "      <th>...</th>\n",
       "      <td>...</td>\n",
       "      <td>...</td>\n",
       "      <td>...</td>\n",
       "      <td>...</td>\n",
       "      <td>...</td>\n",
       "      <td>...</td>\n",
       "    </tr>\n",
       "    <tr>\n",
       "      <th>10273</th>\n",
       "      <td>A700248</td>\n",
       "      <td>Ruby</td>\n",
       "      <td>Dog</td>\n",
       "      <td>['Labrador Retriever Mix']</td>\n",
       "      <td>['Black', 'White']</td>\n",
       "      <td>M</td>\n",
       "    </tr>\n",
       "    <tr>\n",
       "      <th>10567</th>\n",
       "      <td>A697161</td>\n",
       "      <td>Bandit</td>\n",
       "      <td>Dog</td>\n",
       "      <td>['Great Pyrenees Mix']</td>\n",
       "      <td>['Sable', 'White']</td>\n",
       "      <td>F</td>\n",
       "    </tr>\n",
       "    <tr>\n",
       "      <th>11374</th>\n",
       "      <td>A703942</td>\n",
       "      <td>Stella</td>\n",
       "      <td>Dog</td>\n",
       "      <td>['Dachshund Mix']</td>\n",
       "      <td>['Brown', 'Tricolor']</td>\n",
       "      <td>F</td>\n",
       "    </tr>\n",
       "    <tr>\n",
       "      <th>11375</th>\n",
       "      <td>A703943</td>\n",
       "      <td>Abby</td>\n",
       "      <td>Dog</td>\n",
       "      <td>['Dachshund Mix']</td>\n",
       "      <td>['Brown']</td>\n",
       "      <td>M</td>\n",
       "    </tr>\n",
       "    <tr>\n",
       "      <th>12888</th>\n",
       "      <td>A705238</td>\n",
       "      <td>Hero</td>\n",
       "      <td>Dog</td>\n",
       "      <td>['Rottweiler Mix']</td>\n",
       "      <td>['Black', 'Brown']</td>\n",
       "      <td>F</td>\n",
       "    </tr>\n",
       "    <tr>\n",
       "      <th>12889</th>\n",
       "      <td>A705435</td>\n",
       "      <td>Bodhi</td>\n",
       "      <td>Dog</td>\n",
       "      <td>['Dachshund Wirehair', 'Chihuahua Shorthair']</td>\n",
       "      <td>['Cream', 'Tan']</td>\n",
       "      <td>M</td>\n",
       "    </tr>\n",
       "    <tr>\n",
       "      <th>13026</th>\n",
       "      <td>A706444</td>\n",
       "      <td>None</td>\n",
       "      <td>Dog</td>\n",
       "      <td>['Pit Bull', 'Boxer']</td>\n",
       "      <td>['Black', 'White']</td>\n",
       "      <td>F</td>\n",
       "    </tr>\n",
       "    <tr>\n",
       "      <th>13096</th>\n",
       "      <td>A704977</td>\n",
       "      <td>Schmitz</td>\n",
       "      <td>Cat</td>\n",
       "      <td>['Domestic Longhair Mix']</td>\n",
       "      <td>['Black']</td>\n",
       "      <td>F</td>\n",
       "    </tr>\n",
       "    <tr>\n",
       "      <th>13097</th>\n",
       "      <td>A704976</td>\n",
       "      <td>Wilde</td>\n",
       "      <td>Cat</td>\n",
       "      <td>['Domestic Longhair Mix']</td>\n",
       "      <td>['Black Smoke']</td>\n",
       "      <td>M</td>\n",
       "    </tr>\n",
       "    <tr>\n",
       "      <th>13270</th>\n",
       "      <td>A666221</td>\n",
       "      <td>Ladybird</td>\n",
       "      <td>Dog</td>\n",
       "      <td>['Beagle']</td>\n",
       "      <td>['Tricolor']</td>\n",
       "      <td>F</td>\n",
       "    </tr>\n",
       "    <tr>\n",
       "      <th>13452</th>\n",
       "      <td>A703649</td>\n",
       "      <td>Kismit</td>\n",
       "      <td>Dog</td>\n",
       "      <td>['Pit Bull Mix']</td>\n",
       "      <td>['White', 'Brown']</td>\n",
       "      <td>F</td>\n",
       "    </tr>\n",
       "    <tr>\n",
       "      <th>14401</th>\n",
       "      <td>A707745</td>\n",
       "      <td>Lola</td>\n",
       "      <td>Dog</td>\n",
       "      <td>['Labrador Retriever']</td>\n",
       "      <td>['White']</td>\n",
       "      <td>M</td>\n",
       "    </tr>\n",
       "    <tr>\n",
       "      <th>14752</th>\n",
       "      <td>A707744</td>\n",
       "      <td>Music</td>\n",
       "      <td>Dog</td>\n",
       "      <td>['Great Pyrenees', 'Labrador Retriever']</td>\n",
       "      <td>['White']</td>\n",
       "      <td>0</td>\n",
       "    </tr>\n",
       "    <tr>\n",
       "      <th>14948</th>\n",
       "      <td>A647791</td>\n",
       "      <td>Mocha</td>\n",
       "      <td>Dog</td>\n",
       "      <td>['Siberian Husky Mix']</td>\n",
       "      <td>['Tricolor']</td>\n",
       "      <td>M</td>\n",
       "    </tr>\n",
       "    <tr>\n",
       "      <th>14956</th>\n",
       "      <td>A708487</td>\n",
       "      <td>*Kit Kat</td>\n",
       "      <td>Cat</td>\n",
       "      <td>['Domestic Shorthair Mix']</td>\n",
       "      <td>['Orange Tabby']</td>\n",
       "      <td>F</td>\n",
       "    </tr>\n",
       "    <tr>\n",
       "      <th>14957</th>\n",
       "      <td>A708485</td>\n",
       "      <td>*Snickers</td>\n",
       "      <td>Cat</td>\n",
       "      <td>['Domestic Shorthair Mix']</td>\n",
       "      <td>['Tortie']</td>\n",
       "      <td>F</td>\n",
       "    </tr>\n",
       "    <tr>\n",
       "      <th>15181</th>\n",
       "      <td>A703674</td>\n",
       "      <td>Mia</td>\n",
       "      <td>Cat</td>\n",
       "      <td>['Domestic Medium Hair Mix']</td>\n",
       "      <td>['Blue']</td>\n",
       "      <td>M</td>\n",
       "    </tr>\n",
       "    <tr>\n",
       "      <th>15471</th>\n",
       "      <td>A709334</td>\n",
       "      <td>*Larry</td>\n",
       "      <td>Cat</td>\n",
       "      <td>['Domestic Shorthair Mix']</td>\n",
       "      <td>['Orange Tabby']</td>\n",
       "      <td>F</td>\n",
       "    </tr>\n",
       "    <tr>\n",
       "      <th>15910</th>\n",
       "      <td>A709507</td>\n",
       "      <td>None</td>\n",
       "      <td>Dog</td>\n",
       "      <td>['Labrador Retriever Mix']</td>\n",
       "      <td>['Yellow']</td>\n",
       "      <td>M</td>\n",
       "    </tr>\n",
       "    <tr>\n",
       "      <th>15981</th>\n",
       "      <td>A709541</td>\n",
       "      <td>*Dill</td>\n",
       "      <td>Dog</td>\n",
       "      <td>['Cairn Terrier']</td>\n",
       "      <td>['Tan']</td>\n",
       "      <td>F</td>\n",
       "    </tr>\n",
       "    <tr>\n",
       "      <th>15995</th>\n",
       "      <td>A710013</td>\n",
       "      <td>Keith</td>\n",
       "      <td>Cat</td>\n",
       "      <td>['Domestic Shorthair Mix']</td>\n",
       "      <td>['White', 'Gray']</td>\n",
       "      <td>0</td>\n",
       "    </tr>\n",
       "    <tr>\n",
       "      <th>16066</th>\n",
       "      <td>A709297</td>\n",
       "      <td>Sirius</td>\n",
       "      <td>Dog</td>\n",
       "      <td>['German Shepherd Mix']</td>\n",
       "      <td>['Black', 'White']</td>\n",
       "      <td>M</td>\n",
       "    </tr>\n",
       "    <tr>\n",
       "      <th>16677</th>\n",
       "      <td>A701979</td>\n",
       "      <td>Winnie</td>\n",
       "      <td>Dog</td>\n",
       "      <td>['Labrador Retriever Mix']</td>\n",
       "      <td>['Tan']</td>\n",
       "      <td>F</td>\n",
       "    </tr>\n",
       "    <tr>\n",
       "      <th>17103</th>\n",
       "      <td>A708629</td>\n",
       "      <td>Frankie</td>\n",
       "      <td>Dog</td>\n",
       "      <td>['Labrador Retriever', 'Catahoula']</td>\n",
       "      <td>['Brown', 'White']</td>\n",
       "      <td>M</td>\n",
       "    </tr>\n",
       "    <tr>\n",
       "      <th>17290</th>\n",
       "      <td>A709539</td>\n",
       "      <td>Athena</td>\n",
       "      <td>Dog</td>\n",
       "      <td>['Rottweiler']</td>\n",
       "      <td>['Tricolor']</td>\n",
       "      <td>M</td>\n",
       "    </tr>\n",
       "    <tr>\n",
       "      <th>17625</th>\n",
       "      <td>A711130</td>\n",
       "      <td>*Clara</td>\n",
       "      <td>Dog</td>\n",
       "      <td>['Pit Bull Mix']</td>\n",
       "      <td>['Blue', 'White']</td>\n",
       "      <td>M</td>\n",
       "    </tr>\n",
       "    <tr>\n",
       "      <th>17784</th>\n",
       "      <td>A711880</td>\n",
       "      <td>Leah</td>\n",
       "      <td>Dog</td>\n",
       "      <td>['Australian Shepherd Mix']</td>\n",
       "      <td>['Black', 'White']</td>\n",
       "      <td>0</td>\n",
       "    </tr>\n",
       "    <tr>\n",
       "      <th>17897</th>\n",
       "      <td>A711229</td>\n",
       "      <td>Ella</td>\n",
       "      <td>Cat</td>\n",
       "      <td>['Domestic Shorthair Mix']</td>\n",
       "      <td>['Brown Tabby']</td>\n",
       "      <td>M</td>\n",
       "    </tr>\n",
       "    <tr>\n",
       "      <th>17911</th>\n",
       "      <td>A703876</td>\n",
       "      <td>Conrad</td>\n",
       "      <td>Dog</td>\n",
       "      <td>['Rottweiler Mix']</td>\n",
       "      <td>['Tricolor']</td>\n",
       "      <td>0</td>\n",
       "    </tr>\n",
       "    <tr>\n",
       "      <th>17978</th>\n",
       "      <td>A711571</td>\n",
       "      <td>Reggie Veggi</td>\n",
       "      <td>Dog</td>\n",
       "      <td>['Border Collie Mix']</td>\n",
       "      <td>['Black', 'White']</td>\n",
       "      <td>M</td>\n",
       "    </tr>\n",
       "  </tbody>\n",
       "</table>\n",
       "<p>168 rows × 6 columns</p>\n",
       "</div>"
      ],
      "text/plain": [
       "            id          Name animal_type  \\\n",
       "29     A689262         Chavo       Stray   \n",
       "109    A689378          None     Injured   \n",
       "121    A689390         Jules       Stray   \n",
       "217    A689514         Gizmo      Normal   \n",
       "446    A689819          Mars         Dog   \n",
       "914    A690374        *Mikey     Injured   \n",
       "1869   A691690      *Swizzle       Stray   \n",
       "1878   A691700          None      Normal   \n",
       "1893   A691713       *Bailey       Stray   \n",
       "1894   A691714        Archer       Stray   \n",
       "1915   A691737          None       Stray   \n",
       "1916   A691736          None       Stray   \n",
       "2086   A691939        *Julie       Stray   \n",
       "2088   A691944         Rosie      Normal   \n",
       "2165   A692077        *Sasha      Normal   \n",
       "2201   A692118         Kilah       Stray   \n",
       "2205   A692122          None       Stray   \n",
       "2430   A692413        Dexter       Stray   \n",
       "2970   A691714        Archer         Dog   \n",
       "3069   A693236          None      Normal   \n",
       "3285   A693499      *Froggie         Dog   \n",
       "3645   A693938          King         Dog   \n",
       "3819   A694159         *Gary      Normal   \n",
       "4055   A695818        Shadow       Stray   \n",
       "4064   A694456          None         Dog   \n",
       "4173   A694590     Snowbelle       Stray   \n",
       "4408   A695817          None       Stray   \n",
       "4479   A695060    *Sweet Pea       Stray   \n",
       "4731   A695411          None       Stray   \n",
       "4739   A695423         Rosie       Stray   \n",
       "...        ...           ...         ...   \n",
       "10273  A700248          Ruby         Dog   \n",
       "10567  A697161        Bandit         Dog   \n",
       "11374  A703942        Stella         Dog   \n",
       "11375  A703943          Abby         Dog   \n",
       "12888  A705238          Hero         Dog   \n",
       "12889  A705435         Bodhi         Dog   \n",
       "13026  A706444          None         Dog   \n",
       "13096  A704977       Schmitz         Cat   \n",
       "13097  A704976         Wilde         Cat   \n",
       "13270  A666221      Ladybird         Dog   \n",
       "13452  A703649        Kismit         Dog   \n",
       "14401  A707745          Lola         Dog   \n",
       "14752  A707744         Music         Dog   \n",
       "14948  A647791         Mocha         Dog   \n",
       "14956  A708487      *Kit Kat         Cat   \n",
       "14957  A708485     *Snickers         Cat   \n",
       "15181  A703674           Mia         Cat   \n",
       "15471  A709334        *Larry         Cat   \n",
       "15910  A709507          None         Dog   \n",
       "15981  A709541         *Dill         Dog   \n",
       "15995  A710013         Keith         Cat   \n",
       "16066  A709297        Sirius         Dog   \n",
       "16677  A701979        Winnie         Dog   \n",
       "17103  A708629       Frankie         Dog   \n",
       "17290  A709539        Athena         Dog   \n",
       "17625  A711130        *Clara         Dog   \n",
       "17784  A711880          Leah         Dog   \n",
       "17897  A711229          Ella         Cat   \n",
       "17911  A703876        Conrad         Dog   \n",
       "17978  A711571  Reggie Veggi         Dog   \n",
       "\n",
       "                                               Breed  \\\n",
       "29                                   ['Intact Male']   \n",
       "109                                     ['2 months']   \n",
       "121                                ['Intact Female']   \n",
       "217                                      ['1 month']   \n",
       "446                                   ['Rottweiler']   \n",
       "914                                      ['1 month']   \n",
       "1869                               ['Intact Female']   \n",
       "1878                                    ['2 months']   \n",
       "1893                                 ['Intact Male']   \n",
       "1894                                 ['Intact Male']   \n",
       "1915                               ['Intact Female']   \n",
       "1916                               ['Spayed Female']   \n",
       "2086                               ['Spayed Female']   \n",
       "2088                                     ['4 years']   \n",
       "2165                                     ['4 years']   \n",
       "2201                               ['Intact Female']   \n",
       "2205                                     ['Unknown']   \n",
       "2430                                 ['Intact Male']   \n",
       "2970                     ['Chihuahua Shorthair Mix']   \n",
       "3069                                      ['1 year']   \n",
       "3285                                   ['Boxer Mix']   \n",
       "3645                                ['Pit Bull Mix']   \n",
       "3819                                      ['1 year']   \n",
       "4055                               ['Intact Female']   \n",
       "4064                        ['Miniature Poodle Mix']   \n",
       "4173                               ['Intact Female']   \n",
       "4408                               ['Spayed Female']   \n",
       "4479                               ['Intact Female']   \n",
       "4731                               ['Intact Female']   \n",
       "4739                               ['Intact Female']   \n",
       "...                                              ...   \n",
       "10273                     ['Labrador Retriever Mix']   \n",
       "10567                         ['Great Pyrenees Mix']   \n",
       "11374                              ['Dachshund Mix']   \n",
       "11375                              ['Dachshund Mix']   \n",
       "12888                             ['Rottweiler Mix']   \n",
       "12889  ['Dachshund Wirehair', 'Chihuahua Shorthair']   \n",
       "13026                          ['Pit Bull', 'Boxer']   \n",
       "13096                      ['Domestic Longhair Mix']   \n",
       "13097                      ['Domestic Longhair Mix']   \n",
       "13270                                     ['Beagle']   \n",
       "13452                               ['Pit Bull Mix']   \n",
       "14401                         ['Labrador Retriever']   \n",
       "14752       ['Great Pyrenees', 'Labrador Retriever']   \n",
       "14948                         ['Siberian Husky Mix']   \n",
       "14956                     ['Domestic Shorthair Mix']   \n",
       "14957                     ['Domestic Shorthair Mix']   \n",
       "15181                   ['Domestic Medium Hair Mix']   \n",
       "15471                     ['Domestic Shorthair Mix']   \n",
       "15910                     ['Labrador Retriever Mix']   \n",
       "15981                              ['Cairn Terrier']   \n",
       "15995                     ['Domestic Shorthair Mix']   \n",
       "16066                        ['German Shepherd Mix']   \n",
       "16677                     ['Labrador Retriever Mix']   \n",
       "17103            ['Labrador Retriever', 'Catahoula']   \n",
       "17290                                 ['Rottweiler']   \n",
       "17625                               ['Pit Bull Mix']   \n",
       "17784                    ['Australian Shepherd Mix']   \n",
       "17897                     ['Domestic Shorthair Mix']   \n",
       "17911                             ['Rottweiler Mix']   \n",
       "17978                          ['Border Collie Mix']   \n",
       "\n",
       "                               Color sex  \n",
       "29                        ['1 year']   0  \n",
       "109       ['Domestic Shorthair Mix']   0  \n",
       "121                       ['1 year']   0  \n",
       "217      ['Chihuahua Shorthair Mix']   0  \n",
       "446               ['Black', 'Brown']   M  \n",
       "914       ['Domestic Shorthair Mix']   0  \n",
       "1869                    ['6 months']   0  \n",
       "1878      ['Domestic Shorthair Mix']   0  \n",
       "1893                     ['2 years']   0  \n",
       "1894                     ['2 years']   0  \n",
       "1915                      ['1 year']   0  \n",
       "1916                      ['1 year']   0  \n",
       "2086                      ['1 year']   0  \n",
       "2088   ['Australian Cattle Dog Mix']   0  \n",
       "2165                  ['Beagle Mix']   0  \n",
       "2201                    ['3 months']   0  \n",
       "2205                     ['4 weeks']   0  \n",
       "2430                     ['2 years']   0  \n",
       "2970                    ['Tricolor']   M  \n",
       "3069      ['Domestic Shorthair Mix']   0  \n",
       "3285                         ['Tan']   F  \n",
       "3645                ['Tan', 'White']   M  \n",
       "3819       ['Queensland Heeler Mix']   0  \n",
       "4055                     ['1 month']   0  \n",
       "4064                     ['Apricot']   M  \n",
       "4173                    ['2 months']   0  \n",
       "4408                     ['4 years']   0  \n",
       "4479                    ['6 months']   0  \n",
       "4731                      ['1 year']   0  \n",
       "4739                      ['1 year']   0  \n",
       "...                              ...  ..  \n",
       "10273             ['Black', 'White']   M  \n",
       "10567             ['Sable', 'White']   F  \n",
       "11374          ['Brown', 'Tricolor']   F  \n",
       "11375                      ['Brown']   M  \n",
       "12888             ['Black', 'Brown']   F  \n",
       "12889               ['Cream', 'Tan']   M  \n",
       "13026             ['Black', 'White']   F  \n",
       "13096                      ['Black']   F  \n",
       "13097                ['Black Smoke']   M  \n",
       "13270                   ['Tricolor']   F  \n",
       "13452             ['White', 'Brown']   F  \n",
       "14401                      ['White']   M  \n",
       "14752                      ['White']   0  \n",
       "14948                   ['Tricolor']   M  \n",
       "14956               ['Orange Tabby']   F  \n",
       "14957                     ['Tortie']   F  \n",
       "15181                       ['Blue']   M  \n",
       "15471               ['Orange Tabby']   F  \n",
       "15910                     ['Yellow']   M  \n",
       "15981                        ['Tan']   F  \n",
       "15995              ['White', 'Gray']   0  \n",
       "16066             ['Black', 'White']   M  \n",
       "16677                        ['Tan']   F  \n",
       "17103             ['Brown', 'White']   M  \n",
       "17290                   ['Tricolor']   M  \n",
       "17625              ['Blue', 'White']   M  \n",
       "17784             ['Black', 'White']   0  \n",
       "17897                ['Brown Tabby']   M  \n",
       "17911                   ['Tricolor']   0  \n",
       "17978             ['Black', 'White']   M  \n",
       "\n",
       "[168 rows x 6 columns]"
      ]
     },
     "execution_count": 815,
     "metadata": {},
     "output_type": "execute_result"
    }
   ],
   "source": [
    "#Examine the data frame to see what happened with these duplicated animals\n",
    "\n",
    "#Get a list of the counts for each id's occurence\n",
    "counts = descrip.id.value_counts()\n",
    "\n",
    "#Make a list of the ids that have duplicate appearances\n",
    "duplicates = counts[counts > 1].index.tolist()\n",
    "\n",
    "#Make a data frame dedicated to the duplicate rows\n",
    "dup_df = descrip[descrip['id'].isin(duplicates)]\n",
    "\n",
    "#We have 168 rows of duplicate data\n",
    "dup_df"
   ]
  },
  {
   "cell_type": "code",
   "execution_count": 816,
   "metadata": {
    "collapsed": false
   },
   "outputs": [],
   "source": [
    "#some of these seem to have been read incorrectly from the csv (what really happened was that Austin's data for address\n",
    "#included commas, making the frame get read offset). We can filter these out by noticing that if \"animal_type\" isn't \n",
    "#actually an animal, something has gone wrong, and we can drop those.\n",
    "\n",
    "descrip.animal_type.value_counts()\n",
    "animal_types = ['Dog','Cat','Other','Bird','Livestock']\n",
    "descrip = descrip[descrip.animal_type.isin(animal_types)]"
   ]
  },
  {
   "cell_type": "code",
   "execution_count": 817,
   "metadata": {
    "collapsed": false
   },
   "outputs": [
    {
     "name": "stdout",
     "output_type": "stream",
     "text": [
      "72\n"
     ]
    }
   ],
   "source": [
    "#Recheck the data for duplicates\n",
    "counts = descrip.id.value_counts()\n",
    "duplicates = counts[counts > 1].index.tolist()\n",
    "dup_df = descrip[descrip['id'].isin(duplicates)]\n",
    "print len(dup_df)\n",
    "\n",
    "#Now we only have 72 duplicate rows"
   ]
  },
  {
   "cell_type": "code",
   "execution_count": 818,
   "metadata": {
    "collapsed": false
   },
   "outputs": [
    {
     "name": "stdout",
     "output_type": "stream",
     "text": [
      "70\n"
     ]
    }
   ],
   "source": [
    "#Some of the duplicates are because the animal's name has an asterisk in one row. We can deal with this by removing\n",
    "#all the asterisks from animals names.\n",
    "\n",
    "descrip['Name'] = descrip['Name'].apply(lambda x: x.replace('*',''))\n",
    "descrip.drop_duplicates(inplace=True)\n",
    "\n",
    "#Recheck the data for duplicates\n",
    "counts = descrip.id.value_counts()\n",
    "duplicates = counts[counts > 1].index.tolist()\n",
    "dup_df = descrip[descrip['id'].isin(duplicates)]\n",
    "print len(dup_df)\n",
    "\n",
    "#This only got rid of 2 rows, but now we're down to 70."
   ]
  },
  {
   "cell_type": "code",
   "execution_count": 819,
   "metadata": {
    "collapsed": false
   },
   "outputs": [],
   "source": [
    "#We could keep digging, but down to 70 duplicates out of the original 18,000, it's better just to drop them\n",
    "descrip = descrip[~descrip['id'].isin(duplicates)]"
   ]
  },
  {
   "cell_type": "markdown",
   "metadata": {},
   "source": [
    "## Part 3: Examine the Descriptive Data"
   ]
  },
  {
   "cell_type": "markdown",
   "metadata": {},
   "source": [
    "- How many animal types are there? What are they? "
   ]
  },
  {
   "cell_type": "code",
   "execution_count": 820,
   "metadata": {
    "collapsed": false
   },
   "outputs": [
    {
     "data": {
      "text/plain": [
       "Dog          9875\n",
       "Cat          7426\n",
       "Other         836\n",
       "Bird           43\n",
       "Livestock       1\n",
       "Name: animal_type, dtype: int64"
      ]
     },
     "execution_count": 820,
     "metadata": {},
     "output_type": "execute_result"
    }
   ],
   "source": [
    "descrip.animal_type.value_counts()"
   ]
  },
  {
   "cell_type": "markdown",
   "metadata": {},
   "source": [
    "- Make a bar chart showing the distribution of how many animals are in each animal type category"
   ]
  },
  {
   "cell_type": "code",
   "execution_count": 821,
   "metadata": {
    "collapsed": false
   },
   "outputs": [
    {
     "data": {
      "text/plain": [
       "<matplotlib.axes._subplots.AxesSubplot at 0x11dde9450>"
      ]
     },
     "execution_count": 821,
     "metadata": {},
     "output_type": "execute_result"
    },
    {
     "data": {
      "image/png": "[encoded data removed]",
      "text/plain": [
       "<matplotlib.figure.Figure at 0x1860c9350>"
      ]
     },
     "metadata": {},
     "output_type": "display_data"
    }
   ],
   "source": [
    "descrip.animal_type.value_counts().plot(kind='bar')"
   ]
  },
  {
   "cell_type": "markdown",
   "metadata": {},
   "source": [
    "- Make a list of all the unique breeds for each animal type (one list for dogs, one list for cats, etc.)"
   ]
  },
  {
   "cell_type": "code",
   "execution_count": 906,
   "metadata": {
    "collapsed": false,
    "scrolled": true
   },
   "outputs": [
    {
     "name": "stdout",
     "output_type": "stream",
     "text": [
      "Bird\n",
      "['Chicken Mix', 'Duck', 'Finch', 'Parakeet', 'Guinea Mix', 'Turkey Mix', 'Conure', 'Chicken', 'Parakeet Mix', 'Quaker Mix', 'Pigeon Mix', 'Dove', 'Bluebird Mix', 'Bunting', 'Sparrow', 'Mockingbird', 'Duck Mix', 'Dove Mix', 'Pigeon', 'Grackle', 'Owl Mix', 'Conure Mix', 'Sparrow Mix']\n",
      "Cat\n",
      "['Domestic Shorthair Mix', 'Domestic Longhair Mix', 'Maine Coon Mix', 'Domestic Medium Hair Mix', 'Siamese Mix', 'Persian Mix', 'Domestic Shorthair', 'Tonkinese Mix', 'Manx Mix', 'Himalayan Mix', 'American Shorthair Mix', 'Domestic Medium Hair', 'Japanese Bobtail Mix', 'Snowshoe Mix', 'Devon Rex', 'Domestic Longhair', 'Balinese Mix', 'Snowshoe', 'Cymric Mix', 'Chartreux Mix', 'Russian Blue', 'Russian Blue Mix', 'Siamese', 'Ragdoll Mix', 'Turkish Van Mix', 'Manx', 'Himalayan', 'Sphynx', 'British Shorthair Mix', 'American Wirehair Mix', 'Devon Rex Mix', 'Maine Coon', 'Bengal', 'Oriental Sh Mix', 'Bombay Mix', 'Turkish Angora Mix', 'Persian', 'Abyssinian Mix', 'Japanese Bobtail', 'Bengal Mix', 'Pixiebob Shorthair Mix', 'Javanese Mix', 'Havana Brown Mix', 'Cornish Rex Mix']\n",
      "Dog\n",
      "['Dachshund', 'Chihuahua Shorthair', 'Labrador Retriever Mix', 'Labrador Retriever', 'Basset Hound', 'Dogue De Bordeaux Mix', 'Pit Bull Mix', 'Chihuahua Longhair Mix', 'Australian Cattle Dog Mix', 'Shetland Sheepdog Mix', 'Dachshund Wirehair Mix', 'Miniature Poodle', 'Soft Coated Wheaten Terrier Mix', 'Standard Schnauzer', 'Standard Poodle', 'German Shepherd Mix', 'Rat Terrier Mix', 'Miniature Pinscher Mix', 'Carolina Dog Mix', 'Dachshund Longhair', 'Cairn Terrier', 'Dachshund Longhair Mix', 'Shih Tzu', 'Chesa Bay Retr', 'Chihuahua Shorthair Mix', 'American Staffordshire Terrier Mix', 'Airedale Terrier Mix', 'Italian Greyhound Mix', 'Miniature Schnauzer Mix', 'Boxer', 'Pit Bull', 'Catahoula', 'Border Terrier Mix', 'German Shepherd', 'Border Collie', 'Border Collie Mix', 'Australian Cattle Dog', 'Bruss Griffon Mix', 'German Shorthair Pointer', 'Jack Russell Terrier Mix', 'Cairn Terrier Mix', 'Catahoula Mix', 'Miniature Poodle Mix', 'Plott Hound', 'Chow Chow Mix', 'Boxer Mix', 'American Bulldog Mix', 'Beagle Mix', 'Rottweiler', 'Great Pyrenees', 'Doberman Pinsch Mix', 'American Pit Bull Terrier Mix', 'Bulldog Mix', 'Yorkshire Terrier', 'Dachshund Mix', 'Cardigan Welsh Corgi', 'Norfolk Terrier Mix', 'Yorkshire Terrier Mix', 'Dachshund Wirehair', 'Border Terrier', 'Manchester Terrier', 'Anatol Shepherd Mix', 'St. Bernard Smooth Coat Mix', 'Chinese Crested Mix', 'Australian Shepherd Mix', 'Australian Kelpie Mix', 'German Shorthair Pointer Mix', 'Shih Tzu Mix', 'Miniature Schnauzer', 'Great Pyrenees Mix', 'Havanese Mix', 'Pointer', 'Akita', 'Pointer Mix', 'Pembroke Welsh Corgi', 'Siberian Husky Mix', 'Maltese', 'Miniature Pinscher', 'Pomeranian Mix', 'Beagle', 'Australian Shepherd', 'Plott Hound Mix', 'Collie Smooth Mix', 'Bull Terrier', 'Basenji Mix', 'Alaskan Malamute', 'Soft Coated Wheaten Terrier', 'Weimaraner Mix', 'Basenji', 'Harrier', 'Great Dane', 'Boston Terrier Mix', 'Queensland Heeler Mix', 'Standard Schnauzer Mix', 'Black Mouth Cur Mix', 'Brittany', 'Dalmatian', 'American Foxhound', 'Pembroke Welsh Corgi Mix', 'Belgian Malinois Mix', 'Black', 'Tan Hound Mix', 'Leonberger Mix', 'Akita Mix', 'Mastiff Mix', 'Presa Canario Mix', 'Cocker Spaniel Mix', 'Manchester Terrier Mix', 'Cocker Spaniel', 'Rhod Ridgeback Mix', 'Staffordshire', 'Pug', 'Siberian Husky', 'West Highland Mix', 'Rhod Ridgeback', 'Bullmastiff', 'Schnauzer Giant', 'Staffordshire Mix', 'Boston Terrier', 'Otterhound Mix', 'Rottweiler Mix', 'Bichon Frise Mix', 'Golden Retriever Mix', 'Parson Russell Terrier', 'Pug Mix', 'Treeing Cur Mix', 'Italian Greyhound', 'Belgian Sheepdog Mix', 'Smooth Fox Terrier', 'Chinese Sharpei', 'Tan Hound', 'Chihuahua Longhair', 'Tibetan Spaniel', 'Norwich Terrier Mix', 'Jack Russell Terrier', 'Feist Mix', 'Golden Retriever', 'Rat Terrier', 'Cardigan Welsh Corgi Mix', 'Maltese Mix', 'Toy Poodle Mix', 'Chow Chow', 'Flat Coat Retriever Mix', 'English Foxhound Mix', 'Blue Lacy Mix', 'English Cocker Spaniel Mix', 'Dalmatian Mix', 'Dogo Argentino', 'Bloodhound Mix', 'Bull Terrier Mix', 'American Pit Bull Terrier', 'Saluki', 'Whippet Mix', 'Irish Setter', 'Australian Kelpie', 'Blue Lacy', 'Redbone Hound Mix', 'English Springer Spaniel', 'Pekingese', 'Anatol Shepherd', 'Shiba Inu Mix', 'Landseer Mix', 'American Bulldog', 'Collie Rough Mix', 'American Staffordshire Terrier', 'West Highland', 'Norfolk Terrier', 'Queensland Heeler', 'Greater Swiss Mountain Dog', 'Black Mouth Cur', 'Finnish Spitz', 'Basset Hound Mix', 'Cavalier Span Mix', 'Great Dane Mix', 'Chinese Sharpei Mix', 'Collie Smooth', 'Affenpinscher Mix', 'Flat Coat Retriever', 'English Bulldog Mix', 'French Bulldog', 'Pomeranian', 'Swiss Hound', 'Vizsla Mix', 'Vizsla', 'Toy Fox Terrier Mix', 'Bernese Mountain Dog Mix', 'Cane Corso Mix', 'Beauceron Mix', 'Greyhound', 'Wire Hair Fox Terrier Mix', 'Bloodhound', 'Weimaraner', 'Shiba Inu', 'French Bulldog Mix', 'Wire Hair Fox Terrier', 'Parson Russell Terrier Mix', 'Irish Terrier Mix', 'English Shepherd Mix', 'Airedale Terrier', 'Bluetick Hound Mix', 'Standard Poodle Mix', 'Toy Poodle', 'Greyhound Mix', 'Papillon Mix', 'Dutch Shepherd', 'Lhasa Apso Mix', 'Mastiff', 'Patterdale Terr Mix', 'Old English Bulldog Mix', 'Dogo Argentino Mix', 'German Pinscher Mix', 'Australian Terrier Mix', 'Pbgv Mix', 'Doberman Pinsch', 'Harrier Mix', 'English Bulldog', 'English Pointer Mix', 'Shetland Sheepdog', 'Dutch Shepherd Mix', 'Podengo Pequeno Mix', 'Bullmastiff Mix', 'Tibetan Spaniel Mix', 'Bernese Mountain Dog', 'Schipperke', 'Pekingese Mix', 'Finnish Spitz Mix', 'Belgian Sheepdog', 'English Setter', 'Scottish Terrier', 'Smooth Fox Terrier Mix', 'Keeshond', 'Carolina Dog', 'Lhasa Apso', 'Dogue De Bordeaux', 'Schipperke Mix', 'Spinone Italiano Mix', 'Sealyham Terr Mix', 'Welsh Terrier Mix', 'Pbgv', 'Alaskan Husky', 'Havanese', 'Cavalier Span', 'Whippet', 'Redbone Hound', 'Feist', 'Alaskan Husky Mix', 'Bedlington Terr Mix', 'Nova Scotia Duck Tolling Retriever Mix', 'Treeing Walker Coonhound Mix', 'Cane Corso', 'Borzoi', 'English Coonhound', 'German Wirehaired Pointer Mix', 'Affenpinscher', 'Pharaoh Hound Mix', 'Bulldog', 'Newfoundland', 'Samoyed Mix', 'Port Water Dog Mix', 'Unknown Mix', 'American Eskimo', 'Bichon Frise', 'English Shepherd', 'Norwich Terrier', 'St. Bernard Rough Coat Mix', 'English Coonhound Mix', 'Papillon', 'English Springer Spaniel Mix', 'Chesa Bay Retr Mix', 'Schnauzer Giant Mix', 'German Wirehaired Pointer', 'Bluetick Hound', 'Treeing Walker Coonhound', 'Welsh Terrier', 'English Setter Mix', 'English Cocker Spaniel', 'Lowchen', 'Swedish Vallhund Mix', 'English Foxhound', 'Bull Terrier Miniature Mix', 'Canaan Dog', 'Silky Terrier Mix', 'Tibetan Terrier Mix', 'Brittany Mix', 'Spanish Mastiff Mix', 'Nova Scotia Duck Tolling Retriever', 'Bruss Griffon', 'Keeshond Mix', 'Bull Terrier Miniature', 'Boerboel Mix', 'Boerboel', 'Irish Terrier', 'Canaan Dog Mix', 'Chinese Crested', 'Old English Bulldog', 'Belgian Malinois', 'Old English Sheepdog Mix', 'English Pointer', 'Jindo', 'Collie Rough', 'Dachshund Stan Mix', 'Toy Fox Terrier', 'Pharaoh Hound', 'Japanese Chin Mix', 'Scottish Terrier Mix', 'Beauceron', 'Glen Of Imaal', 'Ibizan Hound', 'Swedish Vallhund', 'Newfoundland Mix', 'Mexican Hairless Mix', 'Glen Of Imaal Mix', 'Tibetan Terrier', 'St. Bernard Smooth Coat', 'Wirehaired Pointing Griffon Mix', 'St. Bernard Rough Coat', 'Bearded Collie Mix', 'American Eskimo Mix', 'Skye Terrier Mix', 'Field Spaniel Mix', 'Neapolitan Mastiff Mix', 'Picardy Sheepdog Mix', 'Silky Terrier', 'Belgian Tervuren', 'Skye Terrier', 'Alaskan Malamute Mix', 'Bearded Collie', 'Patterdale Terr']\n",
      "Livestock\n",
      "['Pig Mix']\n",
      "Other\n",
      "['Rex Mix', 'Bat Mix', 'Raccoon Mix', 'Bat', 'Californian Mix', 'Guinea Pig Mix', 'Skunk Mix', 'Rabbit Sh Mix', 'Opossum', 'Squirrel Mix', 'Ferret Mix', 'Opossum Mix', 'Lionhead Mix', 'Guinea Pig', 'Raccoon', 'Fox', 'New Zealand Wht Mix', 'Rabbit Sh', 'Skunk', 'Tortoise Mix', 'Fox Mix', 'Lop-Mini Mix', 'Coyote Mix', 'Ferret', 'Hamster Mix', 'Mouse Mix', 'Hotot Mix', 'Lop-English Mix', 'Hamster', 'Lizard Mix', 'Cinnamon', 'Squirrel', 'Rabbit Lh', 'Turtle Mix', 'American Sable Mix', 'Gerbil Mix', 'Angora-French Mix', 'Rat Mix', 'Snake Mix', 'Dutch', 'Cottontail Mix', 'Californian', 'Tarantula', 'Turtle', 'Dutch Mix', 'Snake', 'Frog', 'Lionhead', 'Armadillo', 'Ringtail Mix']\n"
     ]
    }
   ],
   "source": [
    "animal_types = ['Bird','Cat','Dog','Livestock','Other']\n",
    "\n",
    "for species in animal_types:\n",
    "    print species\n",
    "    breedlist = []\n",
    "    for x in descrip[descrip.animal_type == species].Breed.unique():\n",
    "        x = x.replace('[','').replace(']','').replace(\"'\",'').split(', ')\n",
    "        for item in x:\n",
    "            if item not in breedlist:\n",
    "                breedlist.append(item)\n",
    "    print breedlist"
   ]
  },
  {
   "cell_type": "markdown",
   "metadata": {},
   "source": [
    "- For each animal type, make a pie chart showing the distribution of sex"
   ]
  },
  {
   "cell_type": "code",
   "execution_count": 918,
   "metadata": {
    "collapsed": false
   },
   "outputs": [
    {
     "data": {
      "image/png": "[encoded data removed]",
      "text/plain": [
       "<matplotlib.figure.Figure at 0x182d3d950>"
      ]
     },
     "metadata": {},
     "output_type": "display_data"
    },
    {
     "data": {
      "image/png": "[encoded data removed]",
      "text/plain": [
       "<matplotlib.figure.Figure at 0x1851b3450>"
      ]
     },
     "metadata": {},
     "output_type": "display_data"
    },
    {
     "data": {
      "image/png": "[encoded data removed]",
      "text/plain": [
       "<matplotlib.figure.Figure at 0x18360d590>"
      ]
     },
     "metadata": {},
     "output_type": "display_data"
    },
    {
     "data": {
      "image/png": "[encoded data removed]",
      "text/plain": [
       "<matplotlib.figure.Figure at 0x1839d0b10>"
      ]
     },
     "metadata": {},
     "output_type": "display_data"
    },
    {
     "data": {
      "image/png": "[encoded data removed]",
      "text/plain": [
       "<matplotlib.figure.Figure at 0x183dacfd0>"
      ]
     },
     "metadata": {},
     "output_type": "display_data"
    }
   ],
   "source": [
    "for item in descrip.animal_type.unique().tolist():\n",
    "    data = descrip[descrip.animal_type == item].sex.value_counts()\n",
    "    fig = data.plot(kind='pie', title=item, cmap='Blues', figsize=(4,4))\n",
    "    plt.show()"
   ]
  },
  {
   "cell_type": "markdown",
   "metadata": {},
   "source": [
    "#### Challenge Goal\n",
    "- Get a list of unique colors\n",
    "- Create a new dataframe with the number of animals of each color\n",
    "- Plot this information\n",
    "- EXTRA BONUS: Make each plot correspond to the color it represents!"
   ]
  },
  {
   "cell_type": "code",
   "execution_count": null,
   "metadata": {
    "collapsed": true
   },
   "outputs": [],
   "source": []
  },
  {
   "cell_type": "markdown",
   "metadata": {},
   "source": [
    "## Part 4: CHALLENGE - Create Timelines "
   ]
  },
  {
   "cell_type": "markdown",
   "metadata": {},
   "source": [
    "- Create a new data frame from intakes showing the animal id, intake time, intake type, intake condition, age upon intake, and sex upon intake\n",
    "- Do the same for outcomes (instead of intake condition, use outcome subtype)"
   ]
  },
  {
   "cell_type": "code",
   "execution_count": null,
   "metadata": {
    "collapsed": true
   },
   "outputs": [],
   "source": []
  },
  {
   "cell_type": "markdown",
   "metadata": {},
   "source": [
    "- Create a single data frame that is chronological showing all intakes and outcomes, then sort this by animal ID (You should be able to make out a story for each individual by doing this)\n",
    "- Consider: Why aren't we just merging on animal ID? "
   ]
  },
  {
   "cell_type": "code",
   "execution_count": null,
   "metadata": {
    "collapsed": true
   },
   "outputs": [],
   "source": []
  },
  {
   "cell_type": "markdown",
   "metadata": {},
   "source": [
    "- Condense this data frame so that for each intake, the same row shows the corresponding outcome for that animal (you may need to drop some information if there is not an even match between intakes and outcomes)"
   ]
  },
  {
   "cell_type": "code",
   "execution_count": null,
   "metadata": {
    "collapsed": true
   },
   "outputs": [],
   "source": []
  },
  {
   "cell_type": "markdown",
   "metadata": {},
   "source": [
    "Answer the following questions: \n",
    "- How long do animals spend in the shelter on average? \n",
    "- How many animals were \"fixed\" (Spayed or Neutered) in care? "
   ]
  },
  {
   "cell_type": "code",
   "execution_count": null,
   "metadata": {
    "collapsed": true
   },
   "outputs": [],
   "source": []
  },
  {
   "cell_type": "markdown",
   "metadata": {},
   "source": [
    "## Part 5: CHALLENGE - Examine the Intake/Outcome Data"
   ]
  },
  {
   "cell_type": "markdown",
   "metadata": {},
   "source": [
    "- What outcome is the most likely for each intake type? For each intake condition?\n",
    "- Does being male or female affect the outcome? \n",
    "- What are the most common outcomes for each animal type?\n",
    "- What are the most likely outcome subtypes for each outcome type?"
   ]
  },
  {
   "cell_type": "code",
   "execution_count": null,
   "metadata": {
    "collapsed": true
   },
   "outputs": [],
   "source": []
  }
 ],
 "metadata": {
  "kernelspec": {
   "display_name": "Python 2",
   "language": "python",
   "name": "python2"
  },
  "language_info": {
   "codemirror_mode": {
    "name": "ipython",
    "version": 2
   },
   "file_extension": ".py",
   "mimetype": "text/x-python",
   "name": "python",
   "nbconvert_exporter": "python",
   "pygments_lexer": "ipython2",
   "version": "2.7.11"
  }
 },
 "nbformat": 4,
 "nbformat_minor": 0
}
