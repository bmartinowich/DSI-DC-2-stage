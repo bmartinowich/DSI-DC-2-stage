
### LEARNING OBJECTIVES
*After this lesson, you will be able to:*

- Define a problem and types of data
- Identify data set types
- Define the data science workflow

### STUDENT PRE-WORK
*Before this lesson, you should already be able to:*

- Create, open and create and iPython Notebook
- Have completed python pre-work


### LESSON GUIDE
| TIMING  | TYPE  | TOPIC  |
|:-:|---|---|
| 5 min  | [Opening](#opening)  | Lesson Objectives  |
| 10 min  | [Introduction](#introduction1)   | The why's and how's of a good question |
| 10 min  | [Demo](#demo1)  | Diagraming a high quality aim |
| 10 min  | [Lecture](#lecture1)  | Types of datasets |
| 10 min | [Guided Practice](#guidedpractice)  | Write a research question with raw data |
| 5 min  | [Knowledge Check](#review1)  | Section 1 Review |
---

<a name="opening"></a>
## Opening (5 min)

- Review Current Lesson Objectives
    - Review Data Science workflow
    1. Identify
    2. Acquire
    3. Parse
    4. Mine
    5. Refine
    6. Build
    7. Present

Today we will focus on steps 1-2, and we will dive into steps 3-5 over the next few classes.


<a name="introduction"></a>
## Intro: Asking a good question (10 mins)

#### Why we need a good question/aim
"A problem well stated is half solved."

By having a high quality question/aim you set yourself up for success as you being your analysis. You also establish the basis for making your analysis reproducible. A clearly articulated research question not only helps other data scientists learn from, and reproduce your work, but also helps them expand on your work in the future.

#### What is a good question?
The goals of a high quality, reproducible question are similar to the SMART Goals Framework.

- S: specific
- M: measurable
- A: attainable
- R: reproducible
- T: time-bound

Let's break this down further:

1. Specific: The dataset and key variables are clearly defined.
2. Measurable: The the type of analysis and major assumptions are articulated.
3. Attainable: The question you are asking is feasible for your dataset and is not likely to be biased.
4. Reproducible: Another person (or you in 6 months!) can read your state and understand exactly how your analysis is performed
5. Time-bound: You clearly state the time period and population for which this analysis will pertain

<a name="demo1"></a>
## Demo: Diagraming an aim (5 mins)

> Instructors: Example study design

**Point**: Trends often change over time and vary by the population or source of your data. It is important to clearly define who/what you included in your analysis as well as the time period for the analysis.


#### Context
Depending on your setting, the types of questions you will answer may vary. The previous example is from a research setting. In a business setting, you will need to clearly articulate the business objectives. You should also ID and hypothesize the goals and criteria for success.

For example, "success" for the Netflix recommendation engine might be stated as: 70% of customers over the age of 18 select a movie from the recommended queue during Q3 of 2015. Regardless of setting, stating your question using the SMART framework will help you achieve your objectives.

#### Knowledge Check
Which of the following questions uses the SMART framework? Why? What is missing?

1. I am looking to see if there is an association with number of passengers with carry on luggage and delayed take-off time.
2. Determine if the number of passengers on JetBlue, Delta, and United domestic flights with carry-on luggage is associated with delayed take-off time using data from flightstats.com from January 2015- December 2015.

#### Why data types matter

As we saw in the attainable section above, different types of data have different limitations and strengths. Therefore, certain types of analysis will not be possible with certain datasets. Here is a brief overview of some of the different types of datasets:

1. **Cross-Sectional Data:** All information is determined at the same time; all the data comes from the same time period.

    - **Issues**: TEMPORALITY.
        - There is no distinction between _exposure_ and _outcome_. This is why in the example above, we can't say that the availability of fruit in the home actually **causes** children to meet their recommendations. It is just as likely that the opposite may be true.
    - **Strengths**
        - Often population-based  
        - Generalizability   
        - Reduced cost compared to other types of data collection methods
    - **Weaknesses**
        - Separation of cause and effect may be difficult or impossible
        - Variables/Cases with long duration are over-represented

2. **Time-Series/Longitudinal Data:** The information (data) is collected over a period of time.

    - **Strengths**
        - Unambiguous temporal sequence – exposure precedes outcome
        - Multiple outcomes can be measured

    - **Limitations**
        - Expense
        - Takes a long time
        - Vulnerable to missing data

**Check:**

- What type of data is the "flightstats" data?
- Determine if the number of passengers on JetBlue, Delta, and United domestic flights with carry-on luggage is associated with delayed take-off time using data from flightstats.com from January 2015- December 2015.
- Can you create a cross-sectional analysis from a longitudinal data collection? How?

<a name="#guidedpractice"></a>
## Guided Practice: Write a research question with raw data (10 mins)
Looking at the data from Kaggle's Titanic competition, let's write a high quality research question.

- Resource: [Data dictionary](https://www.kaggle.com/c/titanic/data)
- Format: Think, Pair, Share

**Check:**

1. Q: What type of data is this cross-sectional or longitudinal?

2. Q: What will we be measuring (hint: look back at the previous example)

3. Q: Write out a SMART aim for this data:

<a name="review1"></a>
## SMART Review
The S.M.A.R.T. process covers the "Identify" step of the data science workflow. We also explored the strengths and weaknesses of two types of data.

1. SMART analysis aims
2. Types of a datasets: Cross-Sectional vs Longitudinal/Time Series

Questions?

