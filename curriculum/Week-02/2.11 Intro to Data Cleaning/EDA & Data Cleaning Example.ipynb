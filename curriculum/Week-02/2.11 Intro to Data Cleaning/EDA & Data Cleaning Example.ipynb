{
 "cells": [
  {
   "cell_type": "markdown",
   "metadata": {},
   "source": [
    "# EDA & Data Cleaning Example"
   ]
  },
  {
   "cell_type": "markdown",
   "metadata": {},
   "source": [
    "## Dataset"
   ]
  },
  {
   "cell_type": "markdown",
   "metadata": {},
   "source": [
    "We're going to be using the Kaggle Stumbleupon dataset \n",
    "\n",
    "\n"
   ]
  },
  {
   "cell_type": "markdown",
   "metadata": {},
   "source": [
    "## Import Modules"
   ]
  },
  {
   "cell_type": "code",
   "execution_count": 2,
   "metadata": {
    "collapsed": true
   },
   "outputs": [],
   "source": [
    "import pandas as pd\n",
    "import numpy as np\n",
    "from sklearn.grid_search import GridSearchCV\n",
    "from sklearn.linear_model import LogisticRegression\n",
    "from sklearn.cross_validation import cross_val_score\n",
    "import statsmodels.formula.api as smf\n",
    "import patsy\n",
    "from patsy import dmatrices\n",
    "import matplotlib.pyplot as plt\n",
    "import seaborn as sns\n",
    "sns.set_style('white')\n",
    "%matplotlib inline"
   ]
  },
  {
   "cell_type": "markdown",
   "metadata": {},
   "source": [
    "## Preprocessing"
   ]
  },
  {
   "cell_type": "markdown",
   "metadata": {},
   "source": [
    "First, let's load in the dataset. It's always important to visually examine the data, so let's go ahead and give it a look"
   ]
  },
  {
   "cell_type": "code",
   "execution_count": 3,
   "metadata": {
    "collapsed": false
   },
   "outputs": [
    {
     "data": {
      "text/html": [
       "<div>\n",
       "<table border=\"1\" class=\"dataframe\">\n",
       "  <thead>\n",
       "    <tr style=\"text-align: right;\">\n",
       "      <th></th>\n",
       "      <th>url</th>\n",
       "      <th>urlid</th>\n",
       "      <th>boilerplate</th>\n",
       "      <th>alchemy_category</th>\n",
       "      <th>alchemy_category_score</th>\n",
       "      <th>avglinksize</th>\n",
       "      <th>commonlinkratio_1</th>\n",
       "      <th>commonlinkratio_2</th>\n",
       "      <th>commonlinkratio_3</th>\n",
       "      <th>commonlinkratio_4</th>\n",
       "      <th>...</th>\n",
       "      <th>is_news</th>\n",
       "      <th>lengthyLinkDomain</th>\n",
       "      <th>linkwordscore</th>\n",
       "      <th>news_front_page</th>\n",
       "      <th>non_markup_alphanum_characters</th>\n",
       "      <th>numberOfLinks</th>\n",
       "      <th>numwords_in_url</th>\n",
       "      <th>parametrizedLinkRatio</th>\n",
       "      <th>spelling_errors_ratio</th>\n",
       "      <th>label</th>\n",
       "    </tr>\n",
       "  </thead>\n",
       "  <tbody>\n",
       "    <tr>\n",
       "      <th>0</th>\n",
       "      <td>http://www.bloomberg.com/news/2010-12-23/ibm-p...</td>\n",
       "      <td>4042</td>\n",
       "      <td>{\"title\":\"IBM Sees Holographic Calls Air Breat...</td>\n",
       "      <td>business</td>\n",
       "      <td>0.789131</td>\n",
       "      <td>2.055556</td>\n",
       "      <td>0.676471</td>\n",
       "      <td>0.205882</td>\n",
       "      <td>0.047059</td>\n",
       "      <td>0.023529</td>\n",
       "      <td>...</td>\n",
       "      <td>1</td>\n",
       "      <td>1</td>\n",
       "      <td>24</td>\n",
       "      <td>0</td>\n",
       "      <td>5424</td>\n",
       "      <td>170</td>\n",
       "      <td>8</td>\n",
       "      <td>0.152941</td>\n",
       "      <td>0.079130</td>\n",
       "      <td>0</td>\n",
       "    </tr>\n",
       "    <tr>\n",
       "      <th>1</th>\n",
       "      <td>http://www.popsci.com/technology/article/2012-...</td>\n",
       "      <td>8471</td>\n",
       "      <td>{\"title\":\"The Fully Electronic Futuristic Star...</td>\n",
       "      <td>recreation</td>\n",
       "      <td>0.574147</td>\n",
       "      <td>3.677966</td>\n",
       "      <td>0.508021</td>\n",
       "      <td>0.288770</td>\n",
       "      <td>0.213904</td>\n",
       "      <td>0.144385</td>\n",
       "      <td>...</td>\n",
       "      <td>1</td>\n",
       "      <td>1</td>\n",
       "      <td>40</td>\n",
       "      <td>0</td>\n",
       "      <td>4973</td>\n",
       "      <td>187</td>\n",
       "      <td>9</td>\n",
       "      <td>0.181818</td>\n",
       "      <td>0.125448</td>\n",
       "      <td>1</td>\n",
       "    </tr>\n",
       "    <tr>\n",
       "      <th>2</th>\n",
       "      <td>http://www.menshealth.com/health/flu-fighting-...</td>\n",
       "      <td>1164</td>\n",
       "      <td>{\"title\":\"Fruits that Fight the Flu fruits tha...</td>\n",
       "      <td>health</td>\n",
       "      <td>0.996526</td>\n",
       "      <td>2.382883</td>\n",
       "      <td>0.562016</td>\n",
       "      <td>0.321705</td>\n",
       "      <td>0.120155</td>\n",
       "      <td>0.042636</td>\n",
       "      <td>...</td>\n",
       "      <td>1</td>\n",
       "      <td>1</td>\n",
       "      <td>55</td>\n",
       "      <td>0</td>\n",
       "      <td>2240</td>\n",
       "      <td>258</td>\n",
       "      <td>11</td>\n",
       "      <td>0.166667</td>\n",
       "      <td>0.057613</td>\n",
       "      <td>1</td>\n",
       "    </tr>\n",
       "    <tr>\n",
       "      <th>3</th>\n",
       "      <td>http://www.dumblittleman.com/2007/12/10-foolpr...</td>\n",
       "      <td>6684</td>\n",
       "      <td>{\"title\":\"10 Foolproof Tips for Better Sleep \"...</td>\n",
       "      <td>health</td>\n",
       "      <td>0.801248</td>\n",
       "      <td>1.543103</td>\n",
       "      <td>0.400000</td>\n",
       "      <td>0.100000</td>\n",
       "      <td>0.016667</td>\n",
       "      <td>0.000000</td>\n",
       "      <td>...</td>\n",
       "      <td>1</td>\n",
       "      <td>0</td>\n",
       "      <td>24</td>\n",
       "      <td>0</td>\n",
       "      <td>2737</td>\n",
       "      <td>120</td>\n",
       "      <td>5</td>\n",
       "      <td>0.041667</td>\n",
       "      <td>0.100858</td>\n",
       "      <td>1</td>\n",
       "    </tr>\n",
       "    <tr>\n",
       "      <th>4</th>\n",
       "      <td>http://bleacherreport.com/articles/1205138-the...</td>\n",
       "      <td>9006</td>\n",
       "      <td>{\"title\":\"The 50 Coolest Jerseys You Didn t Kn...</td>\n",
       "      <td>sports</td>\n",
       "      <td>0.719157</td>\n",
       "      <td>2.676471</td>\n",
       "      <td>0.500000</td>\n",
       "      <td>0.222222</td>\n",
       "      <td>0.123457</td>\n",
       "      <td>0.043210</td>\n",
       "      <td>...</td>\n",
       "      <td>1</td>\n",
       "      <td>1</td>\n",
       "      <td>14</td>\n",
       "      <td>0</td>\n",
       "      <td>12032</td>\n",
       "      <td>162</td>\n",
       "      <td>10</td>\n",
       "      <td>0.098765</td>\n",
       "      <td>0.082569</td>\n",
       "      <td>0</td>\n",
       "    </tr>\n",
       "  </tbody>\n",
       "</table>\n",
       "<p>5 rows × 27 columns</p>\n",
       "</div>"
      ],
      "text/plain": [
       "                                                 url  urlid  \\\n",
       "0  http://www.bloomberg.com/news/2010-12-23/ibm-p...   4042   \n",
       "1  http://www.popsci.com/technology/article/2012-...   8471   \n",
       "2  http://www.menshealth.com/health/flu-fighting-...   1164   \n",
       "3  http://www.dumblittleman.com/2007/12/10-foolpr...   6684   \n",
       "4  http://bleacherreport.com/articles/1205138-the...   9006   \n",
       "\n",
       "                                         boilerplate alchemy_category  \\\n",
       "0  {\"title\":\"IBM Sees Holographic Calls Air Breat...         business   \n",
       "1  {\"title\":\"The Fully Electronic Futuristic Star...       recreation   \n",
       "2  {\"title\":\"Fruits that Fight the Flu fruits tha...           health   \n",
       "3  {\"title\":\"10 Foolproof Tips for Better Sleep \"...           health   \n",
       "4  {\"title\":\"The 50 Coolest Jerseys You Didn t Kn...           sports   \n",
       "\n",
       "  alchemy_category_score  avglinksize  commonlinkratio_1  commonlinkratio_2  \\\n",
       "0               0.789131     2.055556           0.676471           0.205882   \n",
       "1               0.574147     3.677966           0.508021           0.288770   \n",
       "2               0.996526     2.382883           0.562016           0.321705   \n",
       "3               0.801248     1.543103           0.400000           0.100000   \n",
       "4               0.719157     2.676471           0.500000           0.222222   \n",
       "\n",
       "   commonlinkratio_3  commonlinkratio_4  ...    is_news  lengthyLinkDomain  \\\n",
       "0           0.047059           0.023529  ...          1                  1   \n",
       "1           0.213904           0.144385  ...          1                  1   \n",
       "2           0.120155           0.042636  ...          1                  1   \n",
       "3           0.016667           0.000000  ...          1                  0   \n",
       "4           0.123457           0.043210  ...          1                  1   \n",
       "\n",
       "   linkwordscore  news_front_page  non_markup_alphanum_characters  \\\n",
       "0             24                0                            5424   \n",
       "1             40                0                            4973   \n",
       "2             55                0                            2240   \n",
       "3             24                0                            2737   \n",
       "4             14                0                           12032   \n",
       "\n",
       "   numberOfLinks  numwords_in_url parametrizedLinkRatio  \\\n",
       "0            170                8              0.152941   \n",
       "1            187                9              0.181818   \n",
       "2            258               11              0.166667   \n",
       "3            120                5              0.041667   \n",
       "4            162               10              0.098765   \n",
       "\n",
       "   spelling_errors_ratio  label  \n",
       "0               0.079130      0  \n",
       "1               0.125448      1  \n",
       "2               0.057613      1  \n",
       "3               0.100858      1  \n",
       "4               0.082569      0  \n",
       "\n",
       "[5 rows x 27 columns]"
      ]
     },
     "execution_count": 3,
     "metadata": {},
     "output_type": "execute_result"
    }
   ],
   "source": [
    "ev = pd.read_csv('/users/patricksmith/desktop/evergreen.tsv', delimiter='\\t')\n",
    "ev.head()"
   ]
  },
  {
   "cell_type": "markdown",
   "metadata": {},
   "source": [
    "##  Preprocessing"
   ]
  },
  {
   "cell_type": "markdown",
   "metadata": {},
   "source": [
    "When we first look at a new dataset, it's important to understand certain characteristics about it. A basic use of `shape` as well as `dtypes` will give us a general idea of what our data looks like. "
   ]
  },
  {
   "cell_type": "code",
   "execution_count": 4,
   "metadata": {
    "collapsed": false
   },
   "outputs": [
    {
     "data": {
      "text/plain": [
       "(7395, 27)"
      ]
     },
     "execution_count": 4,
     "metadata": {},
     "output_type": "execute_result"
    }
   ],
   "source": [
    "ev.shape"
   ]
  },
  {
   "cell_type": "code",
   "execution_count": 5,
   "metadata": {
    "collapsed": false
   },
   "outputs": [
    {
     "data": {
      "text/plain": [
       "url                                object\n",
       "urlid                               int64\n",
       "boilerplate                        object\n",
       "alchemy_category                   object\n",
       "alchemy_category_score             object\n",
       "avglinksize                       float64\n",
       "commonlinkratio_1                 float64\n",
       "commonlinkratio_2                 float64\n",
       "commonlinkratio_3                 float64\n",
       "commonlinkratio_4                 float64\n",
       "compression_ratio                 float64\n",
       "embed_ratio                       float64\n",
       "framebased                          int64\n",
       "frameTagRatio                     float64\n",
       "hasDomainLink                       int64\n",
       "html_ratio                        float64\n",
       "image_ratio                       float64\n",
       "is_news                            object\n",
       "lengthyLinkDomain                   int64\n",
       "linkwordscore                       int64\n",
       "news_front_page                    object\n",
       "non_markup_alphanum_characters      int64\n",
       "numberOfLinks                       int64\n",
       "numwords_in_url                     int64\n",
       "parametrizedLinkRatio             float64\n",
       "spelling_errors_ratio             float64\n",
       "label                               int64\n",
       "dtype: object"
      ]
     },
     "execution_count": 5,
     "metadata": {},
     "output_type": "execute_result"
    }
   ],
   "source": [
    "ev.dtypes"
   ]
  },
  {
   "cell_type": "markdown",
   "metadata": {},
   "source": [
    "It's always good to compare these data types to what we would expect to see when visually examining our data. Notice that `is_news`,`news_front_page`, and `alchemy_category_score` are incorrectly coded as objects - the pythonic name for a string-type. We'll want to take a closer look at these. \n",
    "\n",
    "We can do that simply by using .unique() to check for unique values in each column:"
   ]
  },
  {
   "cell_type": "code",
   "execution_count": 6,
   "metadata": {
    "collapsed": false
   },
   "outputs": [
    {
     "data": {
      "text/plain": [
       "array(['1', '?'], dtype=object)"
      ]
     },
     "execution_count": 6,
     "metadata": {},
     "output_type": "execute_result"
    }
   ],
   "source": [
    "ev.is_news.unique()"
   ]
  },
  {
   "cell_type": "markdown",
   "metadata": {},
   "source": [
    "Notice that we question marks in our data instead of another binary label. We'll what to remap the question marks to represent *0s* instead, which we can easily do utilizing Python's map function combined with a lambda function to easily handle this."
   ]
  },
  {
   "cell_type": "code",
   "execution_count": 7,
   "metadata": {
    "collapsed": false
   },
   "outputs": [],
   "source": [
    "ev['is_news'] = ev.is_news.map(lambda x: 0 if x == '?' else 1)"
   ]
  },
  {
   "cell_type": "markdown",
   "metadata": {},
   "source": [
    "Now, let's take a look at the *news_front_page* column: "
   ]
  },
  {
   "cell_type": "code",
   "execution_count": 8,
   "metadata": {
    "collapsed": false
   },
   "outputs": [
    {
     "data": {
      "text/plain": [
       "array(['0', '?', '1'], dtype=object)"
      ]
     },
     "execution_count": 8,
     "metadata": {},
     "output_type": "execute_result"
    }
   ],
   "source": [
    "ev.news_front_page.unique()"
   ]
  },
  {
   "cell_type": "markdown",
   "metadata": {},
   "source": [
    "We can write a function to replace the question marks here with zeros as well:"
   ]
  },
  {
   "cell_type": "code",
   "execution_count": 9,
   "metadata": {
    "collapsed": false
   },
   "outputs": [],
   "source": [
    "def replace(x):\n",
    "    if x == '?':\n",
    "        return float(0)\n",
    "    else:\n",
    "        return float(x)\n",
    "    \n",
    "ev['news_front_page'] = ev.news_front_page.map(replace)"
   ]
  },
  {
   "cell_type": "markdown",
   "metadata": {
    "collapsed": true
   },
   "source": [
    "Lastly, let's take a look at `alchemy_category_score`:"
   ]
  },
  {
   "cell_type": "code",
   "execution_count": 10,
   "metadata": {
    "collapsed": false
   },
   "outputs": [
    {
     "data": {
      "text/plain": [
       "array(['0.789131', '0.574147', '0.996526', ..., '0.14192', '0.196273',\n",
       "       '0.617876'], dtype=object)"
      ]
     },
     "execution_count": 10,
     "metadata": {},
     "output_type": "execute_result"
    }
   ],
   "source": [
    "ev.alchemy_category_score.unique()"
   ]
  },
  {
   "cell_type": "markdown",
   "metadata": {
    "collapsed": true
   },
   "source": [
    "As you can see, these clearly aren't strings! Let's write a function to convert these scores to floats, including a condition to handle edge cases that can't be converted. I'll convert these to NAN's and deal with them later on. "
   ]
  },
  {
   "cell_type": "code",
   "execution_count": 11,
   "metadata": {
    "collapsed": true
   },
   "outputs": [],
   "source": [
    "def replaceScore(x):\n",
    "    try:\n",
    "        return float(x)\n",
    "    except:\n",
    "        return np.nan\n",
    "    \n",
    "ev['alchemy_category_score'] = ev.alchemy_category_score.map(replaceScore)"
   ]
  },
  {
   "cell_type": "markdown",
   "metadata": {
    "collapsed": true
   },
   "source": [
    "Lastly, let's take a look at the `alchemy_category` column:"
   ]
  },
  {
   "cell_type": "code",
   "execution_count": 12,
   "metadata": {
    "collapsed": false
   },
   "outputs": [
    {
     "data": {
      "text/plain": [
       "array(['business', 'recreation', 'health', 'sports', '?',\n",
       "       'arts_entertainment', 'science_technology', 'gaming',\n",
       "       'culture_politics', 'computer_internet', 'law_crime', 'religion',\n",
       "       'weather', 'unknown'], dtype=object)"
      ]
     },
     "execution_count": 12,
     "metadata": {},
     "output_type": "execute_result"
    }
   ],
   "source": [
    "ev.alchemy_category.unique()"
   ]
  },
  {
   "cell_type": "markdown",
   "metadata": {
    "collapsed": true
   },
   "source": [
    "It looks like we have the values of '?' and 'unknown', which are effectly the same value. So how do we handle this? \n",
    "\n",
    "We can first start by converting each of the question marks into a unknown value."
   ]
  },
  {
   "cell_type": "code",
   "execution_count": 13,
   "metadata": {
    "collapsed": true
   },
   "outputs": [],
   "source": [
    "ev['alchemy_category'] = ev.alchemy_category.map(lambda x: 'unknown' if x == '?' else x)"
   ]
  },
  {
   "cell_type": "markdown",
   "metadata": {},
   "source": [
    "## Exploratory Data Analysis"
   ]
  },
  {
   "cell_type": "markdown",
   "metadata": {},
   "source": [
    "Let's do some initial EDA to get an even better feel for our data"
   ]
  },
  {
   "cell_type": "code",
   "execution_count": 14,
   "metadata": {
    "collapsed": false
   },
   "outputs": [
    {
     "data": {
      "text/html": [
       "<div>\n",
       "<table border=\"1\" class=\"dataframe\">\n",
       "  <thead>\n",
       "    <tr style=\"text-align: right;\">\n",
       "      <th></th>\n",
       "      <th>urlid</th>\n",
       "      <th>alchemy_category_score</th>\n",
       "      <th>avglinksize</th>\n",
       "      <th>commonlinkratio_1</th>\n",
       "      <th>commonlinkratio_2</th>\n",
       "      <th>commonlinkratio_3</th>\n",
       "      <th>commonlinkratio_4</th>\n",
       "      <th>compression_ratio</th>\n",
       "      <th>embed_ratio</th>\n",
       "      <th>framebased</th>\n",
       "      <th>...</th>\n",
       "      <th>is_news</th>\n",
       "      <th>lengthyLinkDomain</th>\n",
       "      <th>linkwordscore</th>\n",
       "      <th>news_front_page</th>\n",
       "      <th>non_markup_alphanum_characters</th>\n",
       "      <th>numberOfLinks</th>\n",
       "      <th>numwords_in_url</th>\n",
       "      <th>parametrizedLinkRatio</th>\n",
       "      <th>spelling_errors_ratio</th>\n",
       "      <th>label</th>\n",
       "    </tr>\n",
       "    <tr>\n",
       "      <th>alchemy_category</th>\n",
       "      <th></th>\n",
       "      <th></th>\n",
       "      <th></th>\n",
       "      <th></th>\n",
       "      <th></th>\n",
       "      <th></th>\n",
       "      <th></th>\n",
       "      <th></th>\n",
       "      <th></th>\n",
       "      <th></th>\n",
       "      <th></th>\n",
       "      <th></th>\n",
       "      <th></th>\n",
       "      <th></th>\n",
       "      <th></th>\n",
       "      <th></th>\n",
       "      <th></th>\n",
       "      <th></th>\n",
       "      <th></th>\n",
       "      <th></th>\n",
       "      <th></th>\n",
       "    </tr>\n",
       "  </thead>\n",
       "  <tbody>\n",
       "    <tr>\n",
       "      <th>arts_entertainment</th>\n",
       "      <td>5282.924548</td>\n",
       "      <td>0.635563</td>\n",
       "      <td>2.589265</td>\n",
       "      <td>0.435978</td>\n",
       "      <td>0.196893</td>\n",
       "      <td>0.085662</td>\n",
       "      <td>0.045975</td>\n",
       "      <td>1.398077</td>\n",
       "      <td>-0.062806</td>\n",
       "      <td>0.0</td>\n",
       "      <td>...</td>\n",
       "      <td>0.753454</td>\n",
       "      <td>0.643996</td>\n",
       "      <td>29.933050</td>\n",
       "      <td>0.063762</td>\n",
       "      <td>5799.317747</td>\n",
       "      <td>178.555792</td>\n",
       "      <td>4.823592</td>\n",
       "      <td>0.185572</td>\n",
       "      <td>0.100828</td>\n",
       "      <td>0.371945</td>\n",
       "    </tr>\n",
       "    <tr>\n",
       "      <th>business</th>\n",
       "      <td>5185.118182</td>\n",
       "      <td>0.610034</td>\n",
       "      <td>2.866954</td>\n",
       "      <td>0.469868</td>\n",
       "      <td>0.216449</td>\n",
       "      <td>0.093442</td>\n",
       "      <td>0.051227</td>\n",
       "      <td>1.044285</td>\n",
       "      <td>-0.055398</td>\n",
       "      <td>0.0</td>\n",
       "      <td>...</td>\n",
       "      <td>0.684091</td>\n",
       "      <td>0.690909</td>\n",
       "      <td>28.430682</td>\n",
       "      <td>0.044318</td>\n",
       "      <td>5331.531818</td>\n",
       "      <td>190.580682</td>\n",
       "      <td>5.034091</td>\n",
       "      <td>0.179033</td>\n",
       "      <td>0.090234</td>\n",
       "      <td>0.711364</td>\n",
       "    </tr>\n",
       "    <tr>\n",
       "      <th>computer_internet</th>\n",
       "      <td>5405.131757</td>\n",
       "      <td>0.702846</td>\n",
       "      <td>3.642673</td>\n",
       "      <td>0.463554</td>\n",
       "      <td>0.214057</td>\n",
       "      <td>0.089813</td>\n",
       "      <td>0.054457</td>\n",
       "      <td>1.346886</td>\n",
       "      <td>-0.050093</td>\n",
       "      <td>0.0</td>\n",
       "      <td>...</td>\n",
       "      <td>0.743243</td>\n",
       "      <td>0.689189</td>\n",
       "      <td>32.827703</td>\n",
       "      <td>0.023649</td>\n",
       "      <td>4252.986486</td>\n",
       "      <td>155.655405</td>\n",
       "      <td>5.604730</td>\n",
       "      <td>0.175133</td>\n",
       "      <td>0.101900</td>\n",
       "      <td>0.246622</td>\n",
       "    </tr>\n",
       "    <tr>\n",
       "      <th>culture_politics</th>\n",
       "      <td>5437.702624</td>\n",
       "      <td>0.577337</td>\n",
       "      <td>4.212783</td>\n",
       "      <td>0.479214</td>\n",
       "      <td>0.218812</td>\n",
       "      <td>0.101380</td>\n",
       "      <td>0.058570</td>\n",
       "      <td>1.222569</td>\n",
       "      <td>-0.056870</td>\n",
       "      <td>0.0</td>\n",
       "      <td>...</td>\n",
       "      <td>0.705539</td>\n",
       "      <td>0.728863</td>\n",
       "      <td>31.241983</td>\n",
       "      <td>0.043732</td>\n",
       "      <td>6068.034985</td>\n",
       "      <td>191.635569</td>\n",
       "      <td>5.250729</td>\n",
       "      <td>0.159529</td>\n",
       "      <td>0.093682</td>\n",
       "      <td>0.457726</td>\n",
       "    </tr>\n",
       "    <tr>\n",
       "      <th>gaming</th>\n",
       "      <td>4826.184211</td>\n",
       "      <td>0.505969</td>\n",
       "      <td>2.454487</td>\n",
       "      <td>0.333959</td>\n",
       "      <td>0.138273</td>\n",
       "      <td>0.059195</td>\n",
       "      <td>0.030920</td>\n",
       "      <td>3.107140</td>\n",
       "      <td>-0.142401</td>\n",
       "      <td>0.0</td>\n",
       "      <td>...</td>\n",
       "      <td>0.644737</td>\n",
       "      <td>0.513158</td>\n",
       "      <td>29.526316</td>\n",
       "      <td>0.026316</td>\n",
       "      <td>4404.381579</td>\n",
       "      <td>134.671053</td>\n",
       "      <td>4.381579</td>\n",
       "      <td>0.181900</td>\n",
       "      <td>0.114138</td>\n",
       "      <td>0.368421</td>\n",
       "    </tr>\n",
       "    <tr>\n",
       "      <th>health</th>\n",
       "      <td>5438.217391</td>\n",
       "      <td>0.705927</td>\n",
       "      <td>3.233397</td>\n",
       "      <td>0.529462</td>\n",
       "      <td>0.254992</td>\n",
       "      <td>0.099043</td>\n",
       "      <td>0.043573</td>\n",
       "      <td>1.322775</td>\n",
       "      <td>-0.045306</td>\n",
       "      <td>0.0</td>\n",
       "      <td>...</td>\n",
       "      <td>0.679842</td>\n",
       "      <td>0.743083</td>\n",
       "      <td>28.709486</td>\n",
       "      <td>0.025692</td>\n",
       "      <td>6224.420949</td>\n",
       "      <td>162.440711</td>\n",
       "      <td>5.602767</td>\n",
       "      <td>0.155042</td>\n",
       "      <td>0.098498</td>\n",
       "      <td>0.573123</td>\n",
       "    </tr>\n",
       "    <tr>\n",
       "      <th>law_crime</th>\n",
       "      <td>5619.096774</td>\n",
       "      <td>0.499999</td>\n",
       "      <td>2.603905</td>\n",
       "      <td>0.470935</td>\n",
       "      <td>0.205460</td>\n",
       "      <td>0.095772</td>\n",
       "      <td>0.056749</td>\n",
       "      <td>3.194900</td>\n",
       "      <td>-0.128400</td>\n",
       "      <td>0.0</td>\n",
       "      <td>...</td>\n",
       "      <td>0.677419</td>\n",
       "      <td>0.645161</td>\n",
       "      <td>37.709677</td>\n",
       "      <td>0.032258</td>\n",
       "      <td>3398.000000</td>\n",
       "      <td>130.161290</td>\n",
       "      <td>4.870968</td>\n",
       "      <td>0.138358</td>\n",
       "      <td>0.114294</td>\n",
       "      <td>0.419355</td>\n",
       "    </tr>\n",
       "    <tr>\n",
       "      <th>recreation</th>\n",
       "      <td>5325.001627</td>\n",
       "      <td>0.527897</td>\n",
       "      <td>2.712232</td>\n",
       "      <td>0.460888</td>\n",
       "      <td>0.212855</td>\n",
       "      <td>0.093616</td>\n",
       "      <td>0.051932</td>\n",
       "      <td>1.452804</td>\n",
       "      <td>-0.064736</td>\n",
       "      <td>0.0</td>\n",
       "      <td>...</td>\n",
       "      <td>0.669650</td>\n",
       "      <td>0.625712</td>\n",
       "      <td>29.804719</td>\n",
       "      <td>0.064280</td>\n",
       "      <td>5026.894223</td>\n",
       "      <td>187.813670</td>\n",
       "      <td>4.706265</td>\n",
       "      <td>0.177550</td>\n",
       "      <td>0.095933</td>\n",
       "      <td>0.684296</td>\n",
       "    </tr>\n",
       "    <tr>\n",
       "      <th>religion</th>\n",
       "      <td>5239.847222</td>\n",
       "      <td>0.426596</td>\n",
       "      <td>3.223695</td>\n",
       "      <td>0.424185</td>\n",
       "      <td>0.211026</td>\n",
       "      <td>0.088241</td>\n",
       "      <td>0.048864</td>\n",
       "      <td>2.558645</td>\n",
       "      <td>-0.110914</td>\n",
       "      <td>0.0</td>\n",
       "      <td>...</td>\n",
       "      <td>0.638889</td>\n",
       "      <td>0.611111</td>\n",
       "      <td>37.750000</td>\n",
       "      <td>0.000000</td>\n",
       "      <td>4224.694444</td>\n",
       "      <td>155.250000</td>\n",
       "      <td>4.458333</td>\n",
       "      <td>0.156488</td>\n",
       "      <td>0.116062</td>\n",
       "      <td>0.416667</td>\n",
       "    </tr>\n",
       "    <tr>\n",
       "      <th>science_technology</th>\n",
       "      <td>5483.501730</td>\n",
       "      <td>0.549531</td>\n",
       "      <td>3.300213</td>\n",
       "      <td>0.473325</td>\n",
       "      <td>0.218223</td>\n",
       "      <td>0.090219</td>\n",
       "      <td>0.050878</td>\n",
       "      <td>1.412342</td>\n",
       "      <td>-0.062015</td>\n",
       "      <td>0.0</td>\n",
       "      <td>...</td>\n",
       "      <td>0.743945</td>\n",
       "      <td>0.702422</td>\n",
       "      <td>28.076125</td>\n",
       "      <td>0.010381</td>\n",
       "      <td>5973.712803</td>\n",
       "      <td>175.162630</td>\n",
       "      <td>5.335640</td>\n",
       "      <td>0.154723</td>\n",
       "      <td>0.093356</td>\n",
       "      <td>0.456747</td>\n",
       "    </tr>\n",
       "    <tr>\n",
       "      <th>sports</th>\n",
       "      <td>5260.155263</td>\n",
       "      <td>0.666918</td>\n",
       "      <td>2.402517</td>\n",
       "      <td>0.452599</td>\n",
       "      <td>0.204716</td>\n",
       "      <td>0.086464</td>\n",
       "      <td>0.045561</td>\n",
       "      <td>1.210821</td>\n",
       "      <td>-0.039448</td>\n",
       "      <td>0.0</td>\n",
       "      <td>...</td>\n",
       "      <td>0.760526</td>\n",
       "      <td>0.726316</td>\n",
       "      <td>32.615789</td>\n",
       "      <td>0.028947</td>\n",
       "      <td>5691.460526</td>\n",
       "      <td>171.515789</td>\n",
       "      <td>5.584211</td>\n",
       "      <td>0.140687</td>\n",
       "      <td>0.100740</td>\n",
       "      <td>0.205263</td>\n",
       "    </tr>\n",
       "    <tr>\n",
       "      <th>unknown</th>\n",
       "      <td>5291.267036</td>\n",
       "      <td>0.400001</td>\n",
       "      <td>2.375230</td>\n",
       "      <td>0.477737</td>\n",
       "      <td>0.214862</td>\n",
       "      <td>0.093074</td>\n",
       "      <td>0.048597</td>\n",
       "      <td>4.138933</td>\n",
       "      <td>-0.197557</td>\n",
       "      <td>0.0</td>\n",
       "      <td>...</td>\n",
       "      <td>0.421635</td>\n",
       "      <td>0.633305</td>\n",
       "      <td>30.175468</td>\n",
       "      <td>0.027257</td>\n",
       "      <td>6302.564736</td>\n",
       "      <td>178.663118</td>\n",
       "      <td>4.748296</td>\n",
       "      <td>0.176817</td>\n",
       "      <td>0.109820</td>\n",
       "      <td>0.501704</td>\n",
       "    </tr>\n",
       "    <tr>\n",
       "      <th>weather</th>\n",
       "      <td>3649.250000</td>\n",
       "      <td>0.596973</td>\n",
       "      <td>7.122233</td>\n",
       "      <td>0.469343</td>\n",
       "      <td>0.226216</td>\n",
       "      <td>0.036907</td>\n",
       "      <td>0.030294</td>\n",
       "      <td>15.796905</td>\n",
       "      <td>-0.750000</td>\n",
       "      <td>0.0</td>\n",
       "      <td>...</td>\n",
       "      <td>0.500000</td>\n",
       "      <td>0.250000</td>\n",
       "      <td>38.250000</td>\n",
       "      <td>0.000000</td>\n",
       "      <td>6419.750000</td>\n",
       "      <td>147.000000</td>\n",
       "      <td>4.500000</td>\n",
       "      <td>0.054233</td>\n",
       "      <td>0.128411</td>\n",
       "      <td>0.000000</td>\n",
       "    </tr>\n",
       "  </tbody>\n",
       "</table>\n",
       "<p>13 rows × 24 columns</p>\n",
       "</div>"
      ],
      "text/plain": [
       "                          urlid  alchemy_category_score  avglinksize  \\\n",
       "alchemy_category                                                       \n",
       "arts_entertainment  5282.924548                0.635563     2.589265   \n",
       "business            5185.118182                0.610034     2.866954   \n",
       "computer_internet   5405.131757                0.702846     3.642673   \n",
       "culture_politics    5437.702624                0.577337     4.212783   \n",
       "gaming              4826.184211                0.505969     2.454487   \n",
       "health              5438.217391                0.705927     3.233397   \n",
       "law_crime           5619.096774                0.499999     2.603905   \n",
       "recreation          5325.001627                0.527897     2.712232   \n",
       "religion            5239.847222                0.426596     3.223695   \n",
       "science_technology  5483.501730                0.549531     3.300213   \n",
       "sports              5260.155263                0.666918     2.402517   \n",
       "unknown             5291.267036                0.400001     2.375230   \n",
       "weather             3649.250000                0.596973     7.122233   \n",
       "\n",
       "                    commonlinkratio_1  commonlinkratio_2  commonlinkratio_3  \\\n",
       "alchemy_category                                                              \n",
       "arts_entertainment           0.435978           0.196893           0.085662   \n",
       "business                     0.469868           0.216449           0.093442   \n",
       "computer_internet            0.463554           0.214057           0.089813   \n",
       "culture_politics             0.479214           0.218812           0.101380   \n",
       "gaming                       0.333959           0.138273           0.059195   \n",
       "health                       0.529462           0.254992           0.099043   \n",
       "law_crime                    0.470935           0.205460           0.095772   \n",
       "recreation                   0.460888           0.212855           0.093616   \n",
       "religion                     0.424185           0.211026           0.088241   \n",
       "science_technology           0.473325           0.218223           0.090219   \n",
       "sports                       0.452599           0.204716           0.086464   \n",
       "unknown                      0.477737           0.214862           0.093074   \n",
       "weather                      0.469343           0.226216           0.036907   \n",
       "\n",
       "                    commonlinkratio_4  compression_ratio  embed_ratio  \\\n",
       "alchemy_category                                                        \n",
       "arts_entertainment           0.045975           1.398077    -0.062806   \n",
       "business                     0.051227           1.044285    -0.055398   \n",
       "computer_internet            0.054457           1.346886    -0.050093   \n",
       "culture_politics             0.058570           1.222569    -0.056870   \n",
       "gaming                       0.030920           3.107140    -0.142401   \n",
       "health                       0.043573           1.322775    -0.045306   \n",
       "law_crime                    0.056749           3.194900    -0.128400   \n",
       "recreation                   0.051932           1.452804    -0.064736   \n",
       "religion                     0.048864           2.558645    -0.110914   \n",
       "science_technology           0.050878           1.412342    -0.062015   \n",
       "sports                       0.045561           1.210821    -0.039448   \n",
       "unknown                      0.048597           4.138933    -0.197557   \n",
       "weather                      0.030294          15.796905    -0.750000   \n",
       "\n",
       "                    framebased    ...      is_news  lengthyLinkDomain  \\\n",
       "alchemy_category                  ...                                   \n",
       "arts_entertainment         0.0    ...     0.753454           0.643996   \n",
       "business                   0.0    ...     0.684091           0.690909   \n",
       "computer_internet          0.0    ...     0.743243           0.689189   \n",
       "culture_politics           0.0    ...     0.705539           0.728863   \n",
       "gaming                     0.0    ...     0.644737           0.513158   \n",
       "health                     0.0    ...     0.679842           0.743083   \n",
       "law_crime                  0.0    ...     0.677419           0.645161   \n",
       "recreation                 0.0    ...     0.669650           0.625712   \n",
       "religion                   0.0    ...     0.638889           0.611111   \n",
       "science_technology         0.0    ...     0.743945           0.702422   \n",
       "sports                     0.0    ...     0.760526           0.726316   \n",
       "unknown                    0.0    ...     0.421635           0.633305   \n",
       "weather                    0.0    ...     0.500000           0.250000   \n",
       "\n",
       "                    linkwordscore  news_front_page  \\\n",
       "alchemy_category                                     \n",
       "arts_entertainment      29.933050         0.063762   \n",
       "business                28.430682         0.044318   \n",
       "computer_internet       32.827703         0.023649   \n",
       "culture_politics        31.241983         0.043732   \n",
       "gaming                  29.526316         0.026316   \n",
       "health                  28.709486         0.025692   \n",
       "law_crime               37.709677         0.032258   \n",
       "recreation              29.804719         0.064280   \n",
       "religion                37.750000         0.000000   \n",
       "science_technology      28.076125         0.010381   \n",
       "sports                  32.615789         0.028947   \n",
       "unknown                 30.175468         0.027257   \n",
       "weather                 38.250000         0.000000   \n",
       "\n",
       "                    non_markup_alphanum_characters  numberOfLinks  \\\n",
       "alchemy_category                                                    \n",
       "arts_entertainment                     5799.317747     178.555792   \n",
       "business                               5331.531818     190.580682   \n",
       "computer_internet                      4252.986486     155.655405   \n",
       "culture_politics                       6068.034985     191.635569   \n",
       "gaming                                 4404.381579     134.671053   \n",
       "health                                 6224.420949     162.440711   \n",
       "law_crime                              3398.000000     130.161290   \n",
       "recreation                             5026.894223     187.813670   \n",
       "religion                               4224.694444     155.250000   \n",
       "science_technology                     5973.712803     175.162630   \n",
       "sports                                 5691.460526     171.515789   \n",
       "unknown                                6302.564736     178.663118   \n",
       "weather                                6419.750000     147.000000   \n",
       "\n",
       "                    numwords_in_url  parametrizedLinkRatio  \\\n",
       "alchemy_category                                             \n",
       "arts_entertainment         4.823592               0.185572   \n",
       "business                   5.034091               0.179033   \n",
       "computer_internet          5.604730               0.175133   \n",
       "culture_politics           5.250729               0.159529   \n",
       "gaming                     4.381579               0.181900   \n",
       "health                     5.602767               0.155042   \n",
       "law_crime                  4.870968               0.138358   \n",
       "recreation                 4.706265               0.177550   \n",
       "religion                   4.458333               0.156488   \n",
       "science_technology         5.335640               0.154723   \n",
       "sports                     5.584211               0.140687   \n",
       "unknown                    4.748296               0.176817   \n",
       "weather                    4.500000               0.054233   \n",
       "\n",
       "                    spelling_errors_ratio     label  \n",
       "alchemy_category                                     \n",
       "arts_entertainment               0.100828  0.371945  \n",
       "business                         0.090234  0.711364  \n",
       "computer_internet                0.101900  0.246622  \n",
       "culture_politics                 0.093682  0.457726  \n",
       "gaming                           0.114138  0.368421  \n",
       "health                           0.098498  0.573123  \n",
       "law_crime                        0.114294  0.419355  \n",
       "recreation                       0.095933  0.684296  \n",
       "religion                         0.116062  0.416667  \n",
       "science_technology               0.093356  0.456747  \n",
       "sports                           0.100740  0.205263  \n",
       "unknown                          0.109820  0.501704  \n",
       "weather                          0.128411  0.000000  \n",
       "\n",
       "[13 rows x 24 columns]"
      ]
     },
     "execution_count": 14,
     "metadata": {},
     "output_type": "execute_result"
    }
   ],
   "source": [
    "ev.groupby('alchemy_category').mean()"
   ]
  },
  {
   "cell_type": "code",
   "execution_count": 8,
   "metadata": {
    "collapsed": false
   },
   "outputs": [
    {
     "data": {
      "text/plain": [
       "<matplotlib.text.Text at 0x1176f4150>"
      ]
     },
     "execution_count": 8,
     "metadata": {},
     "output_type": "execute_result"
    },
    {
     "data": {
      "image/png": "[encoded data removed]",
      "text/plain": [
       "<matplotlib.figure.Figure at 0x10569aed0>"
      ]
     },
     "metadata": {},
     "output_type": "display_data"
    }
   ],
   "source": [
    "ev.alchemy_category_score.hist()\n",
    "plt.title('Histogram of Alchemy Score')\n",
    "plt.xlabel('Alchemy Score')\n",
    "plt.ylabel('Frequency')"
   ]
  },
  {
   "cell_type": "markdown",
   "metadata": {},
   "source": [
    "This is useful, as we can see that the Alchemy API is reletively sure that it's category predictions are accurate. "
   ]
  },
  {
   "cell_type": "markdown",
   "metadata": {},
   "source": [
    "## Handling Missing Data"
   ]
  },
  {
   "cell_type": "markdown",
   "metadata": {},
   "source": [
    "Earlier we handled some miscoded elements in our data, now let's look at the null values. \n",
    "\n",
    "Let's go ahead and create a function that finds each unique value in `alchemy_category` and returns a ratio of the null values associated with each category.\n",
    "\n",
    "We can do this by *first* creating our function and then *applying* it on the `alchemy_category` column. `.apply` is useful in this instance as it allows us to take a function like `NullsCat` and applying across a slice of a dataframe. "
   ]
  },
  {
   "cell_type": "code",
   "execution_count": 9,
   "metadata": {
    "collapsed": false
   },
   "outputs": [
    {
     "name": "stdout",
     "output_type": "stream",
     "text": [
      "arts_entertainment 0.0\n",
      "arts_entertainment 0.0\n",
      "business 0.0\n",
      "computer_internet 0.0\n",
      "culture_politics 0.0\n",
      "gaming 0.0\n",
      "health 0.0\n",
      "law_crime 0.0\n",
      "recreation 0.0\n",
      "religion 0.0\n",
      "science_technology 0.0\n",
      "sports 0.0\n",
      "unknown 0.997444633731\n",
      "weather 0.0\n"
     ]
    }
   ],
   "source": [
    "def NullsCat(df):\n",
    "    print df.alchemy_category.unique()[0], sum(df.alchemy_category_score.isnull())/float(len(df.alchemy_category))\n",
    "    return df\n",
    "    \n",
    "tmp = ev.groupby('alchemy_category').apply(NullsCat)"
   ]
  },
  {
   "cell_type": "markdown",
   "metadata": {
    "collapsed": true
   },
   "source": [
    "Looking at this, one of our categories have any NA values except for the unknown category - which we expected. So how to we handle this missing data?"
   ]
  },
  {
   "cell_type": "markdown",
   "metadata": {},
   "source": [
    "For missing values such as these; there are three approaches that I typically take. We can either: \n",
    "\n",
    "1. Drop the missing values\n",
    "2. Impute the mean\n",
    "3. Utilizing KNN imputation\n",
    "\n",
    "Since unknown potentially doesn't have much use to us, we could simply eliminate the missing values. However for the sake of demonstration, I'm going to impute the missing values."
   ]
  },
  {
   "cell_type": "code",
   "execution_count": 10,
   "metadata": {
    "collapsed": false
   },
   "outputs": [
    {
     "name": "stdout",
     "output_type": "stream",
     "text": [
      "All categories score mean:  0.603334316624\n",
      "All categories score std:  0.212863859741\n",
      "Unknown category score mean:  0.400001\n",
      "Unknown category score std:  0.0\n"
     ]
    }
   ],
   "source": [
    "all_category_mean = ev.alchemy_category_score.mean()\n",
    "all_category_std = ev.alchemy_category_score.std()\n",
    "unknown_category_mean = ev[ev.alchemy_category == 'unknown'].alchemy_category_score.mean()\n",
    "unknown_category_std = ev[ev.alchemy_category == 'unknown'].alchemy_category_score.std()\n",
    "\n",
    "print 'All categories score mean: ', all_category_mean\n",
    "print 'All categories score std: ', all_category_std\n",
    "print 'Unknown category score mean: ', unknown_category_mean\n",
    "print 'Unknown category score std: ', unknown_category_std"
   ]
  },
  {
   "cell_type": "markdown",
   "metadata": {
    "collapsed": true
   },
   "source": [
    "I'm going to fill in the unknown scores using a random normal distribution with mean set to the mean of the unknown column and standard deviation set to the std of all the categories. (I can't use the standard deviation of the unknown group since it is zero!)"
   ]
  },
  {
   "cell_type": "code",
   "execution_count": 11,
   "metadata": {
    "collapsed": true
   },
   "outputs": [],
   "source": [
    "mask = (ev.alchemy_category_score.isnull()) & (ev.alchemy_category == 'unknown')"
   ]
  },
  {
   "cell_type": "code",
   "execution_count": 12,
   "metadata": {
    "collapsed": false
   },
   "outputs": [
    {
     "name": "stdout",
     "output_type": "stream",
     "text": [
      "[ 0.41687677  0.2059227   0.53875538  0.21832469  0.09325238  0.29845822\n",
      "  0.56239423  0.39882666  0.19376149  0.33616626]\n"
     ]
    }
   ],
   "source": [
    "new_scores = np.random.normal(loc=unknown_category_mean, \n",
    "                              scale=all_category_std,\n",
    "                              size=len(mask))\n",
    "print new_scores[0:10]"
   ]
  },
  {
   "cell_type": "code",
   "execution_count": 13,
   "metadata": {
    "collapsed": true
   },
   "outputs": [],
   "source": [
    "ev.ix[mask, 'alchemy_category_score'] = new_scores"
   ]
  },
  {
   "cell_type": "markdown",
   "metadata": {
    "collapsed": true
   },
   "source": [
    "Let's check out the new unknown score distribution mean and standard deviation."
   ]
  },
  {
   "cell_type": "code",
   "execution_count": 14,
   "metadata": {
    "collapsed": false
   },
   "outputs": [
    {
     "name": "stdout",
     "output_type": "stream",
     "text": [
      "Unknown category score mean:  0.405711133692\n",
      "Unknown category score std:  0.218539641806\n"
     ]
    }
   ],
   "source": [
    "new_unknown_category_mean = ev[ev.alchemy_category == 'unknown'].alchemy_category_score.mean()\n",
    "new_unknown_category_std = ev[ev.alchemy_category == 'unknown'].alchemy_category_score.std()\n",
    "\n",
    "print 'Unknown category score mean: ', new_unknown_category_mean\n",
    "print 'Unknown category score std: ', new_unknown_category_std"
   ]
  },
  {
   "cell_type": "markdown",
   "metadata": {
    "collapsed": true
   },
   "source": [
    "As a precautionary measures, lets take a look at the labels to ensure they are binary."
   ]
  },
  {
   "cell_type": "code",
   "execution_count": null,
   "metadata": {
    "collapsed": false
   },
   "outputs": [],
   "source": [
    "ev.label.unique()"
   ]
  }
 ],
 "metadata": {
  "kernelspec": {
   "display_name": "Python 2",
   "language": "python",
   "name": "python2"
  },
  "language_info": {
   "codemirror_mode": {
    "name": "ipython",
    "version": 2
   },
   "file_extension": ".py",
   "mimetype": "text/x-python",
   "name": "python",
   "nbconvert_exporter": "python",
   "pygments_lexer": "ipython2",
   "version": "2.7.11"
  }
 },
 "nbformat": 4,
 "nbformat_minor": 0
}
