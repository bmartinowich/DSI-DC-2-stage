{
 "cells": [
  {
   "cell_type": "markdown",
   "metadata": {},
   "source": [
    "# General Project Rubric"
   ]
  },
  {
   "cell_type": "code",
   "execution_count": 78,
   "metadata": {
    "collapsed": false
   },
   "outputs": [],
   "source": [
    "import pandas as pd \n",
    "from IPython.display import display, HTML\n",
    "\n",
    "pd.options.display.max_colwidth = 1000\n",
    "rubric = pd.read_csv('ProjectRubric.csv')"
   ]
  },
  {
   "cell_type": "markdown",
   "metadata": {},
   "source": [
    "## Identify the Problem"
   ]
  },
  {
   "cell_type": "code",
   "execution_count": 109,
   "metadata": {
    "collapsed": false
   },
   "outputs": [
    {
     "data": {
      "text/html": [
       "\n",
       "        <style  type=\"text/css\" >\n",
       "        \n",
       "        \n",
       "            #T_0b3c5b2b_5ffd_11e6_ae4a_9801a7bf8c81row0_col0 {\n",
       "            \n",
       "                background-color:  yellow;\n",
       "            \n",
       "            }\n",
       "        \n",
       "            #T_0b3c5b2b_5ffd_11e6_ae4a_9801a7bf8c81row0_col1 {\n",
       "            \n",
       "                background-color:  yellow;\n",
       "            \n",
       "            }\n",
       "        \n",
       "            #T_0b3c5b2b_5ffd_11e6_ae4a_9801a7bf8c81row0_col2 {\n",
       "            \n",
       "                background-color:  yellow;\n",
       "            \n",
       "            }\n",
       "        \n",
       "            #T_0b3c5b2b_5ffd_11e6_ae4a_9801a7bf8c81row0_col3 {\n",
       "            \n",
       "                background-color:  yellow;\n",
       "            \n",
       "            }\n",
       "        \n",
       "            #T_0b3c5b2b_5ffd_11e6_ae4a_9801a7bf8c81row0_col4 {\n",
       "            \n",
       "                background-color:  yellow;\n",
       "            \n",
       "            }\n",
       "        \n",
       "        </style>\n",
       "\n",
       "        <table id=\"T_0b3c5b2b_5ffd_11e6_ae4a_9801a7bf8c81\" None>\n",
       "        \n",
       "\n",
       "        <thead>\n",
       "            \n",
       "            <tr>\n",
       "                \n",
       "                <th class=\"blank\">\n",
       "                \n",
       "                <th class=\"col_heading level0 col0\">Task\n",
       "                \n",
       "                <th class=\"col_heading level0 col1\">0\n",
       "                \n",
       "                <th class=\"col_heading level0 col2\">1\n",
       "                \n",
       "                <th class=\"col_heading level0 col3\">2\n",
       "                \n",
       "                <th class=\"col_heading level0 col4\">3\n",
       "                \n",
       "            </tr>\n",
       "            \n",
       "        </thead>\n",
       "        <tbody>\n",
       "            \n",
       "            <tr>\n",
       "                \n",
       "                <th id=\"T_0b3c5b2b_5ffd_11e6_ae4a_9801a7bf8c81\" class=\"row_heading level4 row0\">\n",
       "                    0\n",
       "                \n",
       "                <td id=\"T_0b3c5b2b_5ffd_11e6_ae4a_9801a7bf8c81row0_col0\" class=\"data row0 col0\">\n",
       "                    Identify the Problem\n",
       "                \n",
       "                <td id=\"T_0b3c5b2b_5ffd_11e6_ae4a_9801a7bf8c81row0_col1\" class=\"data row0 col1\">\n",
       "                    Missing\n",
       "                \n",
       "                <td id=\"T_0b3c5b2b_5ffd_11e6_ae4a_9801a7bf8c81row0_col2\" class=\"data row0 col2\">\n",
       "                    Problem statement  present but unclear or off-topic No mention of metrics or data. \n",
       "                \n",
       "                <td id=\"T_0b3c5b2b_5ffd_11e6_ae4a_9801a7bf8c81row0_col3\" class=\"data row0 col3\">\n",
       "                    Clearly defined problem statement within a few sentences. Consider data sources needed.\n",
       "                \n",
       "                <td id=\"T_0b3c5b2b_5ffd_11e6_ae4a_9801a7bf8c81row0_col4\" class=\"data row0 col4\">\n",
       "                    Clearly defined problem statement within a few sentences. Identify key metric. Specify data sources needed.\n",
       "                \n",
       "            </tr>\n",
       "            \n",
       "        </tbody>\n",
       "        </table>\n",
       "        "
      ],
      "text/plain": [
       "<pandas.core.style.Styler at 0x114b12750>"
      ]
     },
     "execution_count": 109,
     "metadata": {},
     "output_type": "execute_result"
    }
   ],
   "source": [
    "rubric[rubric.Task == 'Identify the Problem'].style.set_properties(**{'background-color': 'yellow'})\n"
   ]
  },
  {
   "cell_type": "code",
   "execution_count": null,
   "metadata": {
    "collapsed": true
   },
   "outputs": [],
   "source": [
    "#Feedback goes here"
   ]
  },
  {
   "cell_type": "markdown",
   "metadata": {},
   "source": [
    "## Acquire the Data"
   ]
  },
  {
   "cell_type": "code",
   "execution_count": 80,
   "metadata": {
    "collapsed": false,
    "scrolled": true
   },
   "outputs": [
    {
     "data": {
      "text/html": [
       "<div>\n",
       "<table border=\"1\" class=\"dataframe\">\n",
       "  <thead>\n",
       "    <tr style=\"text-align: right;\">\n",
       "      <th></th>\n",
       "      <th>Task</th>\n",
       "      <th>0</th>\n",
       "      <th>1</th>\n",
       "      <th>2</th>\n",
       "      <th>3</th>\n",
       "    </tr>\n",
       "  </thead>\n",
       "  <tbody>\n",
       "    <tr>\n",
       "      <th>1</th>\n",
       "      <td>Acquire the data</td>\n",
       "      <td>Missing</td>\n",
       "      <td>Data present but largely incomplete or irrelevant.</td>\n",
       "      <td>If appropriate, tool for data acquisition present. Data is manipulable for use in project. May have extra or less data than necessary.</td>\n",
       "      <td>A well designed tool for data acquisition. Appropriate and complete dataset collected. Logical data structure appropriate for project.</td>\n",
       "    </tr>\n",
       "  </tbody>\n",
       "</table>\n",
       "</div>"
      ],
      "text/plain": [
       "               Task        0                                                    1  \\\n",
       "1  Acquire the data  Missing  Data present but largely incomplete or irrelevant.    \n",
       "\n",
       "                                                                                                                                         2  \\\n",
       "1  If appropriate, tool for data acquisition present. Data is manipulable for use in project. May have extra or less data than necessary.    \n",
       "\n",
       "                                                                                                                                        3  \n",
       "1  A well designed tool for data acquisition. Appropriate and complete dataset collected. Logical data structure appropriate for project.  "
      ]
     },
     "execution_count": 80,
     "metadata": {},
     "output_type": "execute_result"
    }
   ],
   "source": [
    "rubric[rubric.Task == 'Acquire the data']"
   ]
  },
  {
   "cell_type": "code",
   "execution_count": null,
   "metadata": {
    "collapsed": true
   },
   "outputs": [],
   "source": []
  },
  {
   "cell_type": "markdown",
   "metadata": {},
   "source": [
    "## Parse the Data"
   ]
  },
  {
   "cell_type": "code",
   "execution_count": 81,
   "metadata": {
    "collapsed": false
   },
   "outputs": [
    {
     "data": {
      "text/html": [
       "<div>\n",
       "<table border=\"1\" class=\"dataframe\">\n",
       "  <thead>\n",
       "    <tr style=\"text-align: right;\">\n",
       "      <th></th>\n",
       "      <th>Task</th>\n",
       "      <th>0</th>\n",
       "      <th>1</th>\n",
       "      <th>2</th>\n",
       "      <th>3</th>\n",
       "    </tr>\n",
       "  </thead>\n",
       "  <tbody>\n",
       "    <tr>\n",
       "      <th>2</th>\n",
       "      <td>Parse the Data</td>\n",
       "      <td>Missing</td>\n",
       "      <td>Explanation of data and initial EDA very minor or inaccurate.</td>\n",
       "      <td>Short summary of the data/documentation. Some components of initial EDA may be missing, but mostly present.</td>\n",
       "      <td>Create a clear data dictionary (each feature lists data type and description). Initial EDA includes head, tail, descriptive statistics, dtypes, distributions/graphs/pairplots, missing values/nulls, etc.</td>\n",
       "    </tr>\n",
       "  </tbody>\n",
       "</table>\n",
       "</div>"
      ],
      "text/plain": [
       "             Task        0                                                               1  \\\n",
       "2  Parse the Data  Missing  Explanation of data and initial EDA very minor or inaccurate.    \n",
       "\n",
       "                                                                                                              2  \\\n",
       "2  Short summary of the data/documentation. Some components of initial EDA may be missing, but mostly present.    \n",
       "\n",
       "                                                                                                                                                                                                             3  \n",
       "2  Create a clear data dictionary (each feature lists data type and description). Initial EDA includes head, tail, descriptive statistics, dtypes, distributions/graphs/pairplots, missing values/nulls, etc.   "
      ]
     },
     "execution_count": 81,
     "metadata": {},
     "output_type": "execute_result"
    }
   ],
   "source": [
    "rubric[rubric.Task == 'Parse the Data']"
   ]
  },
  {
   "cell_type": "code",
   "execution_count": null,
   "metadata": {
    "collapsed": true
   },
   "outputs": [],
   "source": []
  },
  {
   "cell_type": "markdown",
   "metadata": {},
   "source": [
    "## Mine the Data"
   ]
  },
  {
   "cell_type": "code",
   "execution_count": 82,
   "metadata": {
    "collapsed": false
   },
   "outputs": [
    {
     "data": {
      "text/html": [
       "<div>\n",
       "<table border=\"1\" class=\"dataframe\">\n",
       "  <thead>\n",
       "    <tr style=\"text-align: right;\">\n",
       "      <th></th>\n",
       "      <th>Task</th>\n",
       "      <th>0</th>\n",
       "      <th>1</th>\n",
       "      <th>2</th>\n",
       "      <th>3</th>\n",
       "    </tr>\n",
       "  </thead>\n",
       "  <tbody>\n",
       "    <tr>\n",
       "      <th>3</th>\n",
       "      <td>Mine the Data</td>\n",
       "      <td>Missing</td>\n",
       "      <td>Little to no formatting of data structure.</td>\n",
       "      <td>Data structure ready for analysis but may not make use of the necessary techniques.</td>\n",
       "      <td>Data structure is formatted for analysis, including: dummy variables, appropriate data types, handle missing values, merged/joined as appropriate, column names, index, etc. Feature engineering has been completed as appropriate.</td>\n",
       "    </tr>\n",
       "  </tbody>\n",
       "</table>\n",
       "</div>"
      ],
      "text/plain": [
       "            Task        0                                            1  \\\n",
       "3  Mine the Data  Missing  Little to no formatting of data structure.    \n",
       "\n",
       "                                                                                      2  \\\n",
       "3  Data structure ready for analysis but may not make use of the necessary techniques.    \n",
       "\n",
       "                                                                                                                                                                                                                                      3  \n",
       "3  Data structure is formatted for analysis, including: dummy variables, appropriate data types, handle missing values, merged/joined as appropriate, column names, index, etc. Feature engineering has been completed as appropriate.   "
      ]
     },
     "execution_count": 82,
     "metadata": {},
     "output_type": "execute_result"
    }
   ],
   "source": [
    "rubric[rubric.Task == 'Mine the Data']"
   ]
  },
  {
   "cell_type": "code",
   "execution_count": null,
   "metadata": {
    "collapsed": true
   },
   "outputs": [],
   "source": []
  },
  {
   "cell_type": "markdown",
   "metadata": {},
   "source": [
    "## Refine the Data"
   ]
  },
  {
   "cell_type": "code",
   "execution_count": 83,
   "metadata": {
    "collapsed": false
   },
   "outputs": [
    {
     "data": {
      "text/html": [
       "<div>\n",
       "<table border=\"1\" class=\"dataframe\">\n",
       "  <thead>\n",
       "    <tr style=\"text-align: right;\">\n",
       "      <th></th>\n",
       "      <th>Task</th>\n",
       "      <th>0</th>\n",
       "      <th>1</th>\n",
       "      <th>2</th>\n",
       "      <th>3</th>\n",
       "    </tr>\n",
       "  </thead>\n",
       "  <tbody>\n",
       "    <tr>\n",
       "      <th>4</th>\n",
       "      <td>Refine the Data</td>\n",
       "      <td>Missing</td>\n",
       "      <td>Little to no treatment of underlying data attributes.</td>\n",
       "      <td>Some final transformations have not been performed. Significant outliers may remain which could affect model performance.</td>\n",
       "      <td>Final EDA performed (revisit initial EDA with formatted data). ID potential outliers, scale data, detrend if necessary. Dataset should be complete and ready for modeling.</td>\n",
       "    </tr>\n",
       "  </tbody>\n",
       "</table>\n",
       "</div>"
      ],
      "text/plain": [
       "              Task        0                                                       1  \\\n",
       "4  Refine the Data  Missing  Little to no treatment of underlying data attributes.    \n",
       "\n",
       "                                                                                                                            2  \\\n",
       "4  Some final transformations have not been performed. Significant outliers may remain which could affect model performance.    \n",
       "\n",
       "                                                                                                                                                                             3  \n",
       "4  Final EDA performed (revisit initial EDA with formatted data). ID potential outliers, scale data, detrend if necessary. Dataset should be complete and ready for modeling.   "
      ]
     },
     "execution_count": 83,
     "metadata": {},
     "output_type": "execute_result"
    }
   ],
   "source": [
    "rubric[rubric.Task == 'Refine the Data']"
   ]
  },
  {
   "cell_type": "code",
   "execution_count": null,
   "metadata": {
    "collapsed": true
   },
   "outputs": [],
   "source": []
  },
  {
   "cell_type": "markdown",
   "metadata": {},
   "source": [
    "## Build and Refine Model"
   ]
  },
  {
   "cell_type": "code",
   "execution_count": 84,
   "metadata": {
    "collapsed": false
   },
   "outputs": [
    {
     "data": {
      "text/html": [
       "<div>\n",
       "<table border=\"1\" class=\"dataframe\">\n",
       "  <thead>\n",
       "    <tr style=\"text-align: right;\">\n",
       "      <th></th>\n",
       "      <th>Task</th>\n",
       "      <th>0</th>\n",
       "      <th>1</th>\n",
       "      <th>2</th>\n",
       "      <th>3</th>\n",
       "    </tr>\n",
       "  </thead>\n",
       "  <tbody>\n",
       "    <tr>\n",
       "      <th>5</th>\n",
       "      <td>Build and Refine Model</td>\n",
       "      <td>Missing</td>\n",
       "      <td>Model is chosen and implemented, but little to no tuning or validation completed.</td>\n",
       "      <td>Some justification present for model choice and usage. Model(s) tuned, but may not take into account appropriate validation techniques. (e.g., class imbalances remain).</td>\n",
       "      <td>Appropriate model chosen and justified. Multiple models tested and compared. Appropriate metrics used to tune model, and parameters adjusted accordingly with justification. Validation performed. Model performs better than null.</td>\n",
       "    </tr>\n",
       "  </tbody>\n",
       "</table>\n",
       "</div>"
      ],
      "text/plain": [
       "                     Task        0  \\\n",
       "5  Build and Refine Model  Missing   \n",
       "\n",
       "                                                                                    1  \\\n",
       "5  Model is chosen and implemented, but little to no tuning or validation completed.    \n",
       "\n",
       "                                                                                                                                                                           2  \\\n",
       "5  Some justification present for model choice and usage. Model(s) tuned, but may not take into account appropriate validation techniques. (e.g., class imbalances remain).    \n",
       "\n",
       "                                                                                                                                                                                                                                      3  \n",
       "5  Appropriate model chosen and justified. Multiple models tested and compared. Appropriate metrics used to tune model, and parameters adjusted accordingly with justification. Validation performed. Model performs better than null.   "
      ]
     },
     "execution_count": 84,
     "metadata": {},
     "output_type": "execute_result"
    }
   ],
   "source": [
    "rubric[rubric.Task == 'Build and Refine Model']"
   ]
  },
  {
   "cell_type": "code",
   "execution_count": null,
   "metadata": {
    "collapsed": true
   },
   "outputs": [],
   "source": []
  },
  {
   "cell_type": "markdown",
   "metadata": {},
   "source": [
    "## Present Results"
   ]
  },
  {
   "cell_type": "code",
   "execution_count": 85,
   "metadata": {
    "collapsed": false
   },
   "outputs": [
    {
     "data": {
      "text/html": [
       "<div>\n",
       "<table border=\"1\" class=\"dataframe\">\n",
       "  <thead>\n",
       "    <tr style=\"text-align: right;\">\n",
       "      <th></th>\n",
       "      <th>Task</th>\n",
       "      <th>0</th>\n",
       "      <th>1</th>\n",
       "      <th>2</th>\n",
       "      <th>3</th>\n",
       "    </tr>\n",
       "  </thead>\n",
       "  <tbody>\n",
       "    <tr>\n",
       "      <th>6</th>\n",
       "      <td>Present Results</td>\n",
       "      <td>Missing</td>\n",
       "      <td>Minimal documentation and comments. Simplistic conclusion. Little to no visualization. Trouble explaining logic.</td>\n",
       "      <td>Documentation clear and present, but may have gaps in explanation. Visuals may be lacking or irrelevant. Some logic may not be perfectly thought through. Conclusions incompletely drawn or explained.</td>\n",
       "      <td>Steps of process clearly documented, explained, and justified. Appropriate visuals present. Appropriate metrics used to evaluate. Code includes appropriate and clear comments. Conclusions drawn and big question answered as much as possible.</td>\n",
       "    </tr>\n",
       "  </tbody>\n",
       "</table>\n",
       "</div>"
      ],
      "text/plain": [
       "              Task         0  \\\n",
       "6  Present Results  Missing    \n",
       "\n",
       "                                                                                                                   1  \\\n",
       "6  Minimal documentation and comments. Simplistic conclusion. Little to no visualization. Trouble explaining logic.    \n",
       "\n",
       "                                                                                                                                                                                                        2  \\\n",
       "6  Documentation clear and present, but may have gaps in explanation. Visuals may be lacking or irrelevant. Some logic may not be perfectly thought through. Conclusions incompletely drawn or explained.   \n",
       "\n",
       "                                                                                                                                                                                                                                                   3  \n",
       "6  Steps of process clearly documented, explained, and justified. Appropriate visuals present. Appropriate metrics used to evaluate. Code includes appropriate and clear comments. Conclusions drawn and big question answered as much as possible.   "
      ]
     },
     "execution_count": 85,
     "metadata": {},
     "output_type": "execute_result"
    }
   ],
   "source": [
    "rubric[rubric.Task == 'Present Results']"
   ]
  },
  {
   "cell_type": "code",
   "execution_count": null,
   "metadata": {
    "collapsed": true
   },
   "outputs": [],
   "source": []
  },
  {
   "cell_type": "markdown",
   "metadata": {},
   "source": [
    "## Deploy and Validate"
   ]
  },
  {
   "cell_type": "code",
   "execution_count": 86,
   "metadata": {
    "collapsed": false
   },
   "outputs": [
    {
     "data": {
      "text/html": [
       "<div>\n",
       "<table border=\"1\" class=\"dataframe\">\n",
       "  <thead>\n",
       "    <tr style=\"text-align: right;\">\n",
       "      <th></th>\n",
       "      <th>Task</th>\n",
       "      <th>0</th>\n",
       "      <th>1</th>\n",
       "      <th>2</th>\n",
       "      <th>3</th>\n",
       "    </tr>\n",
       "  </thead>\n",
       "  <tbody>\n",
       "    <tr>\n",
       "      <th>7</th>\n",
       "      <td>Deploy and Validate</td>\n",
       "      <td>Missing</td>\n",
       "      <td>Minimal use of testing. Lacking error handling. Not easily deployable on new set. Confusing to work with. Many discrete declarations.</td>\n",
       "      <td>Code can be navigated with some effort by new user. Code can be deployed on new datasets with some manipulation. Some appropriate unit testing and error handling.</td>\n",
       "      <td>Appropriate use of unit testing, error handling. Code is reproducible and modular. Effective use of functions and adaptable parameter tuning. Effective integration into appropriate ecosystem.</td>\n",
       "    </tr>\n",
       "  </tbody>\n",
       "</table>\n",
       "</div>"
      ],
      "text/plain": [
       "                  Task        0  \\\n",
       "7  Deploy and Validate  Missing   \n",
       "\n",
       "                                                                                                                                        1  \\\n",
       "7  Minimal use of testing. Lacking error handling. Not easily deployable on new set. Confusing to work with. Many discrete declarations.    \n",
       "\n",
       "                                                                                                                                                                     2  \\\n",
       "7  Code can be navigated with some effort by new user. Code can be deployed on new datasets with some manipulation. Some appropriate unit testing and error handling.    \n",
       "\n",
       "                                                                                                                                                                                                  3  \n",
       "7  Appropriate use of unit testing, error handling. Code is reproducible and modular. Effective use of functions and adaptable parameter tuning. Effective integration into appropriate ecosystem.   "
      ]
     },
     "execution_count": 86,
     "metadata": {},
     "output_type": "execute_result"
    }
   ],
   "source": [
    "rubric[rubric.Task == 'Deploy and Validate']"
   ]
  },
  {
   "cell_type": "code",
   "execution_count": null,
   "metadata": {
    "collapsed": true
   },
   "outputs": [],
   "source": []
  },
  {
   "cell_type": "markdown",
   "metadata": {},
   "source": [
    "## Logistics"
   ]
  },
  {
   "cell_type": "code",
   "execution_count": 87,
   "metadata": {
    "collapsed": false
   },
   "outputs": [
    {
     "data": {
      "text/html": [
       "<div>\n",
       "<table border=\"1\" class=\"dataframe\">\n",
       "  <thead>\n",
       "    <tr style=\"text-align: right;\">\n",
       "      <th></th>\n",
       "      <th>Task</th>\n",
       "      <th>0</th>\n",
       "      <th>1</th>\n",
       "      <th>2</th>\n",
       "      <th>3</th>\n",
       "    </tr>\n",
       "  </thead>\n",
       "  <tbody>\n",
       "    <tr>\n",
       "      <th>8</th>\n",
       "      <td>Logistics</td>\n",
       "      <td>Not submitted</td>\n",
       "      <td>Submission has major issues, formatted incorrectly, and/or late.</td>\n",
       "      <td>Submitted after deadline (deducts 1 point from each process step). Submission clear and complete.</td>\n",
       "      <td>Submitted on time via a pull request to appropriate Git repo. Submission clear, complete, and functioning.</td>\n",
       "    </tr>\n",
       "  </tbody>\n",
       "</table>\n",
       "</div>"
      ],
      "text/plain": [
       "        Task              0                                                                  1  \\\n",
       "8  Logistics  Not submitted  Submission has major issues, formatted incorrectly, and/or late.    \n",
       "\n",
       "                                                                                                    2  \\\n",
       "8  Submitted after deadline (deducts 1 point from each process step). Submission clear and complete.    \n",
       "\n",
       "                                                                                                             3  \n",
       "8  Submitted on time via a pull request to appropriate Git repo. Submission clear, complete, and functioning.   "
      ]
     },
     "execution_count": 87,
     "metadata": {},
     "output_type": "execute_result"
    }
   ],
   "source": [
    "rubric[rubric.Task == 'Logistics']"
   ]
  },
  {
   "cell_type": "code",
   "execution_count": null,
   "metadata": {
    "collapsed": true
   },
   "outputs": [],
   "source": []
  },
  {
   "cell_type": "markdown",
   "metadata": {},
   "source": [
    "## Presentation Observations"
   ]
  },
  {
   "cell_type": "code",
   "execution_count": null,
   "metadata": {
    "collapsed": true
   },
   "outputs": [],
   "source": []
  },
  {
   "cell_type": "markdown",
   "metadata": {},
   "source": [
    "## Additional Feedback"
   ]
  },
  {
   "cell_type": "code",
   "execution_count": null,
   "metadata": {
    "collapsed": true
   },
   "outputs": [],
   "source": []
  }
 ],
 "metadata": {
  "kernelspec": {
   "display_name": "Python 2",
   "language": "python",
   "name": "python2"
  },
  "language_info": {
   "codemirror_mode": {
    "name": "ipython",
    "version": 2
   },
   "file_extension": ".py",
   "mimetype": "text/x-python",
   "name": "python",
   "nbconvert_exporter": "python",
   "pygments_lexer": "ipython2",
   "version": "2.7.11"
  }
 },
 "nbformat": 4,
 "nbformat_minor": 0
}
